{
 "cells": [
  {
   "cell_type": "markdown",
   "metadata": {},
   "source": [
    "# Lecture 6\n",
    "\n",
    "The **objective** of this lecture is to find _similar_ cities based on their emissions profile.  It is, in effect, an introduction to clustering.  \n",
    "\n",
    "The real-world relevance of this work is that mayors talk to other mayors. The number of conferences where the mayor of Carmel, California has spoken to the mayor of Des Moines, Iowa is insane, surprising. Suppose there is a conference of mayors for climate mitigation. Who should the mayor of Carmel talk to about policy strategies? What policy strategies have worked in _similar_ cities?  What are the _similar_ cities?"
   ]
  },
  {
   "cell_type": "code",
   "execution_count": 1,
   "metadata": {},
   "outputs": [],
   "source": [
    "import pandas\n",
    "import matplotlib.pyplot as plt"
   ]
  },
  {
   "cell_type": "code",
   "execution_count": 48,
   "metadata": {},
   "outputs": [],
   "source": [
    "df = pandas.read_csv(\"wide_2015.csv\")\n",
    "sector_emissions = df.iloc[:, 4:]\n",
    "sector_emissions = df[[\"onroad\", \"residential\", \"nonroad\"]]\n",
    "\n",
    "from sklearn.cluster import KMeans\n",
    "from sklearn.decomposition import PCA"
   ]
  },
  {
   "cell_type": "code",
   "execution_count": 49,
   "metadata": {},
   "outputs": [
    {
     "data": {
      "text/plain": [
       "(array([3284,   65,    9,  243]), array([0.  , 2.25, 4.5 , 6.75, 9.  ]))"
      ]
     },
     "execution_count": 49,
     "metadata": {},
     "output_type": "execute_result"
    }
   ],
   "source": [
    "X = sector_emissions.values\n",
    "model = KMeans(n_clusters=10)\n",
    "model.fit(X)\n",
    "\n",
    "# Prediction on the entire data\n",
    "all_predictions = model.predict(X)\n",
    "all_predictions\n",
    "\n",
    "import numpy\n",
    "numpy.histogram(all_predictions, bins=4)"
   ]
  }
 ],
 "metadata": {
  "kernelspec": {
   "display_name": "streamlitenv",
   "language": "python",
   "name": "streamlitenv"
  },
  "language_info": {
   "codemirror_mode": {
    "name": "ipython",
    "version": 3
   },
   "file_extension": ".py",
   "mimetype": "text/x-python",
   "name": "python",
   "nbconvert_exporter": "python",
   "pygments_lexer": "ipython3",
   "version": "3.7.6"
  }
 },
 "nbformat": 4,
 "nbformat_minor": 4
}
