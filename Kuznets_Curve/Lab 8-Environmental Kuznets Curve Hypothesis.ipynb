{
 "cells": [
  {
   "cell_type": "code",
   "execution_count": 1,
   "id": "5b1b7b3c",
   "metadata": {},
   "outputs": [],
   "source": [
    "# HIDDEN\n",
    "#Importing packages\n",
    "from datascience import *\n",
    "import matplotlib.pyplot as plt\n",
    "import numpy as np\n",
    "import pandas as pd\n",
    "from matplotlib import patches\n",
    "%matplotlib inline"
   ]
  },
  {
   "cell_type": "markdown",
   "id": "051981ce",
   "metadata": {},
   "source": [
    "<table style=\"width: 100%;\">\n",
    "    <tr style=\"background-color: transparent;\"><td>\n",
    "        <img src=\"https://data-88e.github.io/assets/images/blue_text.png\" width=\"250px\" style=\"margin-left: 0;\" />\n",
    "    </td><td>\n",
    "        <p style=\"text-align: right; font-size: 10pt;\"><strong>Environmental Data Analysis</strong>, Fall 2022<br>\n",
    "            Peter F. Grinde-Hollevik<br>\n",
    "            Dr. Eric Van Dusen<br>\n",
    "            Ray Zhou\n",
    "        </p></td></tr>\n",
    "</table>"
   ]
  },
  {
   "cell_type": "markdown",
   "id": "39a04df2",
   "metadata": {},
   "source": [
    "# Environmental Kuznets Curve Hypothesis\n",
    "\n",
    "The Environmental Kuznets curve hypothesis that the economic development of a nation is associated with a downward-facing U-shape.  The Y-axis is in terms of the level of environmental degradation (e.g pollution, water quality, deforestation.  The X-axis would be the GDP/capita.  The idea is that the environmental degradation worsens, until a certain level of income, and after which it gets better. In the US this could be seen in terms of air or water quality, where the skies or rivers were very polluted in the 1960s, until the Clean Air Act and Clean Water Act were passed and Air Quality and Water Quality improved.  Another motivation for the downward slope would be the idea that at some point a wealthier society demands environmental improvements.  \n",
    "However - could this hold for the potentially most important Pollutant C02, the main driver of anthropogenic climate change.  Controversially the impacts of global CO2 pollution are not experienced locally, but are experienced as global effects. So it is not clear whether the Environmental Kuznets hypothesis will hold.  \n",
    "\n",
    "Today, we'll look to build an C02 Kuznets curve for an *association* between the amount of CO2 emitted per capita (t/CO2) and the growing GDP per capita (USD). This dataset is collected from Our World in Data, a great source of all sorts of data types!\n",
    "\n"
   ]
  },
  {
   "cell_type": "markdown",
   "id": "2c6d3432",
   "metadata": {},
   "source": [
    "![kuznets.png](kuznets.png)"
   ]
  },
  {
   "cell_type": "markdown",
   "id": "f12c1521",
   "metadata": {},
   "source": [
    "## Part 1: Economic Development and the Environmental Kuznets Curve"
   ]
  },
  {
   "cell_type": "markdown",
   "id": "fd3a8747",
   "metadata": {},
   "source": [
    "\n",
    "We start by importing data on GDP per capita and Per Capita CO2 emissions for every country in the world for as long as it has been recorded."
   ]
  },
  {
   "cell_type": "code",
   "execution_count": 2,
   "id": "c721e753",
   "metadata": {},
   "outputs": [
    {
     "data": {
      "text/html": [
       "<table border=\"1\" class=\"dataframe\">\n",
       "    <thead>\n",
       "        <tr>\n",
       "            <th>Country</th> <th>Year</th> <th>Per capita CO2 emissions</th> <th>GDP per capita</th> <th>Continent</th>\n",
       "        </tr>\n",
       "    </thead>\n",
       "    <tbody>\n",
       "        <tr>\n",
       "            <td>Abkhazia   </td> <td>2015</td> <td>nan                     </td> <td>nan           </td> <td>Asia     </td>\n",
       "        </tr>\n",
       "        <tr>\n",
       "            <td>Afghanistan</td> <td>1949</td> <td>0.00191237              </td> <td>nan           </td> <td>nan      </td>\n",
       "        </tr>\n",
       "        <tr>\n",
       "            <td>Afghanistan</td> <td>1950</td> <td>0.010871                </td> <td>1156          </td> <td>nan      </td>\n",
       "        </tr>\n",
       "        <tr>\n",
       "            <td>Afghanistan</td> <td>1951</td> <td>0.0116837               </td> <td>1170          </td> <td>nan      </td>\n",
       "        </tr>\n",
       "        <tr>\n",
       "            <td>Afghanistan</td> <td>1952</td> <td>0.0115423               </td> <td>1189          </td> <td>nan      </td>\n",
       "        </tr>\n",
       "        <tr>\n",
       "            <td>Afghanistan</td> <td>1953</td> <td>0.0132159               </td> <td>1240          </td> <td>nan      </td>\n",
       "        </tr>\n",
       "        <tr>\n",
       "            <td>Afghanistan</td> <td>1954</td> <td>0.0130359               </td> <td>1245          </td> <td>nan      </td>\n",
       "        </tr>\n",
       "        <tr>\n",
       "            <td>Afghanistan</td> <td>1955</td> <td>0.0186057               </td> <td>1246          </td> <td>nan      </td>\n",
       "        </tr>\n",
       "        <tr>\n",
       "            <td>Afghanistan</td> <td>1956</td> <td>0.0218121               </td> <td>1278          </td> <td>nan      </td>\n",
       "        </tr>\n",
       "        <tr>\n",
       "            <td>Afghanistan</td> <td>1957</td> <td>0.0343433               </td> <td>1253          </td> <td>nan      </td>\n",
       "        </tr>\n",
       "    </tbody>\n",
       "</table>\n",
       "<p>... (53427 rows omitted)</p>"
      ],
      "text/plain": [
       "Country     | Year | Per capita CO2 emissions | GDP per capita | Continent\n",
       "Abkhazia    | 2015 | nan                      | nan            | Asia\n",
       "Afghanistan | 1949 | 0.00191237               | nan            | nan\n",
       "Afghanistan | 1950 | 0.010871                 | 1156           | nan\n",
       "Afghanistan | 1951 | 0.0116837                | 1170           | nan\n",
       "Afghanistan | 1952 | 0.0115423                | 1189           | nan\n",
       "Afghanistan | 1953 | 0.0132159                | 1240           | nan\n",
       "Afghanistan | 1954 | 0.0130359                | 1245           | nan\n",
       "Afghanistan | 1955 | 0.0186057                | 1246           | nan\n",
       "Afghanistan | 1956 | 0.0218121                | 1278           | nan\n",
       "Afghanistan | 1957 | 0.0343433                | 1253           | nan\n",
       "... (53427 rows omitted)"
      ]
     },
     "execution_count": 2,
     "metadata": {},
     "output_type": "execute_result"
    }
   ],
   "source": [
    "co2_table = Table.read_table('co2-emissions-vs-gdp.csv').drop('145446-annotations','Total population (Gapminder, HYDE & UN)','Code')\n",
    "co2_table = co2_table.relabeled('Entity', 'Country')\n",
    "co2_table"
   ]
  },
  {
   "cell_type": "markdown",
   "id": "de38a106",
   "metadata": {},
   "source": [
    "Let's start by looking at the relationship between economic development and the environmental Kuznets curve."
   ]
  },
  {
   "cell_type": "markdown",
   "id": "9599f38a",
   "metadata": {},
   "source": [
    "### Low Income Countries"
   ]
  },
  {
   "cell_type": "markdown",
   "id": "e065b2bc",
   "metadata": {},
   "source": [
    "**Question 1a:** Start by creating an array of five low to lower-middle income countries of your choice. [Here](https://datahelpdesk.worldbank.org/knowledgebase/articles/906519-world-bank-country-and-lending-groups) is a list of income groups from the world bank. After you created an array, create a table titled `LI_table` from `co2_table` containing the growth and emissions data of these countries overtime."
   ]
  },
  {
   "cell_type": "code",
   "execution_count": null,
   "id": "bbf1ff85",
   "metadata": {},
   "outputs": [],
   "source": [
    "LI_countries = make_array(...)\n",
    "LI_table = co2_table.where(...)\n",
    "LI_table"
   ]
  },
  {
   "cell_type": "markdown",
   "id": "165a46b5",
   "metadata": {},
   "source": [
    "**Question 1b:** Now, using `LI_table` we created, let's create a scatter plot illustrating the relationship between `GDP per capita` and `Per capita CO2 emissions` for the countries in `LI_countries`. You should create one plot containing the environment Kuznets curves for these five countries."
   ]
  },
  {
   "cell_type": "code",
   "execution_count": null,
   "id": "4a6a642c",
   "metadata": {},
   "outputs": [],
   "source": [
    "LI_table.scatter(..., group = ...)"
   ]
  },
  {
   "cell_type": "markdown",
   "id": "6b86e260",
   "metadata": {},
   "source": [
    "**Question 1c:** From the scatter plot we generated above, do the trends we observe fit the enviromental Kuznets curve hypothesis? Which countries follow this trend? Which ones do not?"
   ]
  },
  {
   "cell_type": "markdown",
   "id": "2286c8cb",
   "metadata": {},
   "source": [
    "*Enter your answer here...*"
   ]
  },
  {
   "cell_type": "markdown",
   "id": "9cb2d986",
   "metadata": {},
   "source": [
    "**Question 1d:** Explain how level of economic development in low income countries may contribute to the relationships we observed between growth and emissions."
   ]
  },
  {
   "cell_type": "markdown",
   "id": "5739bde1",
   "metadata": {},
   "source": [
    "*Enter your answer here...*"
   ]
  },
  {
   "cell_type": "markdown",
   "id": "a9984c35",
   "metadata": {},
   "source": [
    "### BRICS Countries"
   ]
  },
  {
   "cell_type": "markdown",
   "id": "8be34514",
   "metadata": {},
   "source": [
    "**Question 2a:** Lets look at the BRICS countries, the rapidly growing upper middle income countries. The BRICS countries include Brazil, Russia, India, China, and South Africa. Using a similar approach as before, create a table called `BRICS_table` containing all data on `GDP per capita` and `Per capita CO2 emissions` for these countries."
   ]
  },
  {
   "cell_type": "code",
   "execution_count": null,
   "id": "b215e695",
   "metadata": {},
   "outputs": [],
   "source": [
    "BRICS_countries = ...\n",
    "BRICS_table = ...\n",
    "BRICS_table"
   ]
  },
  {
   "cell_type": "markdown",
   "id": "c43c8a78",
   "metadata": {},
   "source": [
    "**Question 2b:** Now, just as we did with our low income countries, plot the relationships between growth and CO2 emissions for the BRICS countries."
   ]
  },
  {
   "cell_type": "code",
   "execution_count": null,
   "id": "ca971dea",
   "metadata": {},
   "outputs": [],
   "source": [
    "..."
   ]
  },
  {
   "cell_type": "markdown",
   "id": "9f2a4e3a",
   "metadata": {},
   "source": [
    "**Question 2c:** Describe the relationships between GDP per capita and per capita CO2 emissions we observe with these BRICS countries. How do the Kuznets curves of BRICS countries differ from those of low income countries?"
   ]
  },
  {
   "cell_type": "markdown",
   "id": "fc118f64",
   "metadata": {},
   "source": [
    "*Enter your answer here...*"
   ]
  },
  {
   "cell_type": "markdown",
   "id": "4a32a548",
   "metadata": {},
   "source": [
    "**Question 2d:** BRICS are rapidly-developing ecnomies over the past decades. Explain how rising income levels contribute to the upwards relationship between growth and emissions for these countries."
   ]
  },
  {
   "cell_type": "markdown",
   "id": "667349fa",
   "metadata": {},
   "source": [
    "*Enter your answer here...*"
   ]
  },
  {
   "cell_type": "markdown",
   "id": "1bce8175",
   "metadata": {},
   "source": [
    "### High Income Countries"
   ]
  },
  {
   "cell_type": "markdown",
   "id": "31d0fb16",
   "metadata": {},
   "source": [
    "**Question 3a:** Finally, lets observe the relationship between growth and emissions for developed econmies. From the same [World Bank list](https://datahelpdesk.worldbank.org/knowledgebase/articles/906519-world-bank-country-and-lending-groups), identify five high-income countries. Then, using `co2_table`, create a table named `HI_table` containing data of the `GDP per capita` and `Per capita CO2 emissions` for these countries."
   ]
  },
  {
   "cell_type": "code",
   "execution_count": null,
   "id": "755b1ca6",
   "metadata": {},
   "outputs": [],
   "source": [
    "HI_countries = ...\n",
    "HI_table = ...\n",
    "HI_table"
   ]
  },
  {
   "cell_type": "markdown",
   "id": "e519aa46",
   "metadata": {},
   "source": [
    "**Question 3b:** Like we did previously, plot the environmental Kuznets curves for these developed economies."
   ]
  },
  {
   "cell_type": "code",
   "execution_count": null,
   "id": "3a3e565c",
   "metadata": {},
   "outputs": [],
   "source": [
    "..."
   ]
  },
  {
   "cell_type": "markdown",
   "id": "80a92fb7",
   "metadata": {},
   "source": [
    "**Question 3c:** Describe the trends we observe. How do they differ from what we saw with BRICS and low income countries?"
   ]
  },
  {
   "cell_type": "markdown",
   "id": "8aee93fd",
   "metadata": {},
   "source": [
    "*Enter your answer here...*"
   ]
  },
  {
   "cell_type": "markdown",
   "id": "6f1f45d2",
   "metadata": {},
   "source": [
    "**Question 3d:** As per the environmental Kuznets hypothesis, do we observe any downward trend between `GDP per capita` and `Per capita CO2 emissions`? Explain how the level of economic development in these countries may contribute to the fall in per capita emissions relative to per capita GDP."
   ]
  },
  {
   "cell_type": "markdown",
   "id": "f064dc40",
   "metadata": {},
   "source": [
    "*Enter your answer here...*"
   ]
  },
  {
   "cell_type": "markdown",
   "id": "a5d0d2b9",
   "metadata": {},
   "source": [
    "## Part 2: Building our own Environmental Kuznets Curve\n",
    "\n",
    "Now that we have looked at the relationship between economic development and the environmental Kuznets curve for low-income, developing, and high-income economies, let's now look at how we can create environmental Kuznets curves for individual countries."
   ]
  },
  {
   "cell_type": "markdown",
   "id": "12d1d9ee",
   "metadata": {},
   "source": [
    "**Question 4a:** Write a function named `Kuznets` that takes an input `country` and generates an Environmental Kuznets Curve for that country of choice."
   ]
  },
  {
   "cell_type": "code",
   "execution_count": null,
   "id": "9431d742",
   "metadata": {},
   "outputs": [],
   "source": [
    "def Kuznets(country):\n",
    "    country_tbl = ...\n",
    "    country_tbl.scatter(...)\n",
    "    plt.title('Environmental Kuznets Curve for ' + country)"
   ]
  },
  {
   "cell_type": "markdown",
   "id": "47bb0e49",
   "metadata": {},
   "source": [
    "**Question 4b:** Using the function above, let's generate an Environment Kuznets curve for the United States."
   ]
  },
  {
   "cell_type": "code",
   "execution_count": null,
   "id": "0b2025e6",
   "metadata": {},
   "outputs": [],
   "source": [
    "..."
   ]
  },
  {
   "cell_type": "markdown",
   "id": "c56ad913",
   "metadata": {},
   "source": [
    "Awesome! We can now observe the relationship between the growth and emissions of any economy with a simple function. However, as with the Kuznets curve for the United States above, the raw and rigid relationship between per capita GDP and emissions makes it very difficult to see the change in emissions from GDP growth overtime. To solve this, we can generate a *Logged Environmental Kuznets curve*. By taking the log of `GDP per capita` and `Per capita CO2 emissions`, we see how the change in GDP growth affects the change in emissions overtime."
   ]
  },
  {
   "cell_type": "markdown",
   "id": "35eaeaff",
   "metadata": {},
   "source": [
    "**Question 5a:** Write a function named `Kuznets_log` that takes an input `country` and generates a *logged* Environmental Kuznets Curve for that country of choice."
   ]
  },
  {
   "cell_type": "code",
   "execution_count": 17,
   "id": "1927309d",
   "metadata": {},
   "outputs": [],
   "source": [
    "def Kuznets_log(country):\n",
    "    country_tbl = ...\n",
    "    gdp_col = ...\n",
    "    emissions_col = ...\n",
    "    log_tbl = country_tbl.with_columns(..., np.log(...), ..., np.log(...))\n",
    "    log_tbl.scatter(...)\n",
    "    plt.title('Logged Environmental Kuznets Curve for ' + country)"
   ]
  },
  {
   "cell_type": "markdown",
   "id": "d4e734dd",
   "metadata": {},
   "source": [
    "**Question 5b:** Now graph a logged environmental Kuznets curve for United States."
   ]
  },
  {
   "cell_type": "code",
   "execution_count": null,
   "id": "74dcb208",
   "metadata": {},
   "outputs": [],
   "source": [
    "..."
   ]
  },
  {
   "cell_type": "markdown",
   "id": "ae71a451",
   "metadata": {},
   "source": [
    "Using the logged environmental Kuznets curve, we can clearly see the gradual reduction in emissions as the US develops economically. According to the environmental Kuznets hypothesis, economies grow, the rate at which they emit greenhouse gases slow. Eventually, these economies reduce less greenhouses gases, and may even become carbon negative. "
   ]
  },
  {
   "cell_type": "markdown",
   "id": "9589365e",
   "metadata": {},
   "source": [
    "**Question 5c:** Identify and explain two reasons why a developed economy may choose to emit less greenhouse gases overtime."
   ]
  },
  {
   "cell_type": "markdown",
   "id": "9ec943ac",
   "metadata": {},
   "source": [
    "*Enter your answer here...*"
   ]
  },
  {
   "cell_type": "markdown",
   "id": "442f01b7",
   "metadata": {},
   "source": [
    "**Question 6:** Using `Kuznets()` and `Kuznets_log()`, generate an Environmental Kuznets curve and a Logged Environmental Kuznets curve for a country of your choice."
   ]
  },
  {
   "cell_type": "code",
   "execution_count": null,
   "id": "82ad54ed",
   "metadata": {},
   "outputs": [],
   "source": [
    "..."
   ]
  },
  {
   "cell_type": "markdown",
   "id": "caf408b2",
   "metadata": {},
   "source": [
    "**Question 7:** What income group is your country of choice from? Does its Kuznets curve prove or disprove the environmental Kuznets curve hypothesis? Why or why not?"
   ]
  },
  {
   "cell_type": "markdown",
   "id": "e11132dc",
   "metadata": {},
   "source": [
    "*Enter your answer here...*"
   ]
  },
  {
   "cell_type": "markdown",
   "id": "18241600",
   "metadata": {},
   "source": [
    "**Question 8:** What are two potential issues of our assumption for the Environmental Kuznets curve? Describe each in 2 sentences. *Hint:* do the readings."
   ]
  },
  {
   "cell_type": "markdown",
   "id": "3bad48e0",
   "metadata": {},
   "source": [
    "*Enter your answer here...*"
   ]
  },
  {
   "cell_type": "markdown",
   "id": "c99f6c13",
   "metadata": {},
   "source": [
    "**Question 8:** How might implementing emissions abatement technologies be more beneficial compared to the Business-as-Usual (BAU) alternative?"
   ]
  },
  {
   "cell_type": "markdown",
   "id": "ee0d5b89",
   "metadata": {},
   "source": [
    "*Enter your answer here...*"
   ]
  },
  {
   "cell_type": "markdown",
   "id": "a96b5324",
   "metadata": {},
   "source": [
    "**Congratulations! You finished Lab 8!**"
   ]
  }
 ],
 "metadata": {
  "kernelspec": {
   "display_name": "Python 3 (ipykernel)",
   "language": "python",
   "name": "python3"
  },
  "language_info": {
   "codemirror_mode": {
    "name": "ipython",
    "version": 3
   },
   "file_extension": ".py",
   "mimetype": "text/x-python",
   "name": "python",
   "nbconvert_exporter": "python",
   "pygments_lexer": "ipython3",
   "version": "3.9.10"
  }
 },
 "nbformat": 4,
 "nbformat_minor": 5
}
