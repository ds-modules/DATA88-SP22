{
 "cells": [
  {
   "cell_type": "code",
   "execution_count": null,
   "id": "fb0baffd",
   "metadata": {},
   "outputs": [],
   "source": [
    "def Kuznets(country):\n",
    "    country_tbl = co2_table.where('Country', country)\n",
    "    country_tbl.scatter('GDP per capita', 'Per capita CO2 emissions')\n",
    "    plt.title('Environmental Kuznets Curve for ' + country)\n",
    "    \n",
    "    log_tbl = Table().with_columns('LogGDP', np.log(country_tbl.column('GDP per capita')), 'LogCO2', np.log(country_tbl.column('Per capita CO2 emissions')))\n",
    "    log_tbl.scatter('LogGDP', 'LogCO2')\n",
    "    plt.title('Log Environmental Kuznets Curve for ' + country)"
   ]
  }
 ],
 "metadata": {
  "kernelspec": {
   "display_name": "Python 3 (ipykernel)",
   "language": "python",
   "name": "python3"
  },
  "language_info": {
   "codemirror_mode": {
    "name": "ipython",
    "version": 3
   },
   "file_extension": ".py",
   "mimetype": "text/x-python",
   "name": "python",
   "nbconvert_exporter": "python",
   "pygments_lexer": "ipython3",
   "version": "3.9.10"
  }
 },
 "nbformat": 4,
 "nbformat_minor": 5
}
