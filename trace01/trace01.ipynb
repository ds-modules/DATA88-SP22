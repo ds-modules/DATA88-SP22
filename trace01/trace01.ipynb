{
 "cells": [
  {
   "cell_type": "code",
   "execution_count": 1,
   "metadata": {
    "cell_id": "00000-0be7078e-ec00-47df-9fdd-97da0acc383a",
    "deepnote_cell_type": "code",
    "deepnote_to_be_reexecuted": false,
    "execution_millis": 5,
    "execution_start": 1639078317518,
    "source_hash": "5ac26215",
    "tags": []
   },
   "outputs": [],
   "source": [
    "#Import packages\n",
    "from datascience import *\n",
    "import matplotlib.pyplot as plt\n",
    "%matplotlib inline \n",
    "\n",
    "import numpy as np\n",
    "import pandas as pd\n",
    "from matplotlib import patches\n",
    "import requests\n",
    "from datascience import *"
   ]
  },
  {
   "cell_type": "markdown",
   "metadata": {
    "cell_id": "00001-aae4d8ab-0b11-47fd-8c79-ccde3a0c9572",
    "deepnote_cell_type": "text-cell-h1",
    "is_collapsed": false,
    "tags": []
   },
   "source": [
    "# Impact of Covid-19 on Greenhouse Gas Emissions"
   ]
  },
  {
   "cell_type": "markdown",
   "metadata": {
    "cell_id": "00002-7925e91e-0ad5-474e-9b53-4a6be76b844f",
    "deepnote_cell_type": "text-cell-h3",
    "is_collapsed": false,
    "tags": []
   },
   "source": [
    "### Goal: Identify and visualize the impact of COVID-19 on GHG emissions"
   ]
  },
  {
   "cell_type": "markdown",
   "metadata": {
    "cell_id": "00002-e4facf97-1a4e-46b2-a4ec-77f502995f2c",
    "deepnote_cell_type": "text-cell-p",
    "is_collapsed": false,
    "tags": []
   },
   "source": [
    "Learning Objectives:"
   ]
  },
  {
   "cell_type": "markdown",
   "metadata": {
    "cell_id": "00005-6bb4a10a-7a98-41ae-a221-1dbec86171df",
    "deepnote_cell_type": "text-cell-p",
    "is_collapsed": false,
    "tags": []
   },
   "source": [
    "- According to GHG emissions data, when did COVID directly impacted emissions in the United States?\n",
    "- Which sector was most effected by COVID-19? "
   ]
  },
  {
   "cell_type": "markdown",
   "metadata": {
    "cell_id": "00005-9fe88b9a-1768-4ea4-a56e-01f8f9a972cc",
    "deepnote_cell_type": "text-cell-h2",
    "is_collapsed": false,
    "tags": []
   },
   "source": [
    "## Part One: Comparing Yearly Aggregated Data of Total GHG Emissions "
   ]
  },
  {
   "cell_type": "markdown",
   "metadata": {
    "cell_id": "00007-b4417c8b-6f7f-47d2-ba69-7d64433e3482",
    "deepnote_cell_type": "markdown",
    "tags": []
   },
   "source": [
    "Based on data about GHG emissions, can we determine what year the pandemic began? Below is a dataset of yearly greenhouse gas emissions across all countries pulled from [Climate TRACE](https://climatetrace.org/about). \n",
    "\n",
    "Climate TRACE is a global coalition that utilizes satellite imagery and other forms of remote sensing, artificial intelligence, and collective data science expertise to track human-caused GHG emissions as they happen. These datasets comes from analysis through AI and Machine Learning on 59 trillion bytes of data from more than 300 satellites, more than 11,100 sensors, and numerous additional sources of emissions information from all over the world."
   ]
  },
  {
   "cell_type": "code",
   "execution_count": 2,
   "metadata": {
    "cell_id": "00006-7770f934-dbdb-45b3-a9dc-b0c7b4c04ba3",
    "deepnote_cell_type": "code",
    "deepnote_output_heights": [
     353
    ],
    "deepnote_to_be_reexecuted": false,
    "execution_millis": 5430,
    "execution_start": 1639078320983,
    "source_hash": "c4789d80",
    "tags": []
   },
   "outputs": [
    {
     "data": {
      "text/html": [
       "<table border=\"1\" class=\"dataframe\">\n",
       "    <thead>\n",
       "        <tr>\n",
       "            <th>Start Date</th> <th>End Date</th> <th>GHG Emissions</th> <th>Sector</th>\n",
       "        </tr>\n",
       "    </thead>\n",
       "    <tbody>\n",
       "        <tr>\n",
       "            <td>2021-01-01</td> <td>2022-01-01</td> <td>3.63696e+09  </td> <td>agriculture</td>\n",
       "        </tr>\n",
       "        <tr>\n",
       "            <td>2020-01-01</td> <td>2021-01-01</td> <td>3.09547e+11  </td> <td>agriculture</td>\n",
       "        </tr>\n",
       "        <tr>\n",
       "            <td>2019-01-01</td> <td>2020-01-01</td> <td>3.14606e+11  </td> <td>agriculture</td>\n",
       "        </tr>\n",
       "        <tr>\n",
       "            <td>2018-01-01</td> <td>2019-01-01</td> <td>3.09841e+11  </td> <td>agriculture</td>\n",
       "        </tr>\n",
       "        <tr>\n",
       "            <td>2017-01-01</td> <td>2018-01-01</td> <td>3.10349e+11  </td> <td>agriculture</td>\n",
       "        </tr>\n",
       "        <tr>\n",
       "            <td>2016-01-01</td> <td>2017-01-01</td> <td>3.04289e+11  </td> <td>agriculture</td>\n",
       "        </tr>\n",
       "        <tr>\n",
       "            <td>2015-01-01</td> <td>2016-01-01</td> <td>2.98767e+11  </td> <td>agriculture</td>\n",
       "        </tr>\n",
       "        <tr>\n",
       "            <td>2021-01-01</td> <td>2022-01-01</td> <td>2.18217e+09  </td> <td>buildings  </td>\n",
       "        </tr>\n",
       "        <tr>\n",
       "            <td>2020-01-01</td> <td>2021-01-01</td> <td>1.85728e+11  </td> <td>buildings  </td>\n",
       "        </tr>\n",
       "        <tr>\n",
       "            <td>2019-01-01</td> <td>2020-01-01</td> <td>1.88763e+11  </td> <td>buildings  </td>\n",
       "        </tr>\n",
       "    </tbody>\n",
       "</table>\n",
       "<p>... (60 rows omitted)</p>"
      ],
      "text/plain": [
       "<IPython.core.display.HTML object>"
      ]
     },
     "metadata": {},
     "output_type": "display_data"
    }
   ],
   "source": [
    "#dataset of yearly GHG emissions across all countries\n",
    "sectors_emissions = requests.get(\"https://api.climatetrace.org/emissions_by_sector_timeseries?interval=year&since=2000&to=2021\").json()\n",
    "sectors_emissions = pd.json_normalize(sectors_emissions, record_path = [\"emissions\"], meta = [\"name\"]).rename(columns ={\"start\": \"Start Date\", \"end\": \"End Date\", \"value\": \"GHG Emissions\", \"name\":\"Sector\"})\n",
    "sectors_emissions = Table.from_df(sectors_emissions)\n",
    "sectors_emissions.show(10)"
   ]
  },
  {
   "cell_type": "markdown",
   "metadata": {},
   "source": [
    "In this section, we want to look at how COVID had impacted overall greenhouse gas emissions over time. Because the dataset currently contains rows that indicate emissions per sector over time, we must aggregate all the sector emissions data within each year.\n",
    "\n",
    "**First, let's isolate the start date and GHG Emissions columns from the dataset since those are the most relevant columns.**\n"
   ]
  },
  {
   "cell_type": "code",
   "execution_count": 3,
   "metadata": {
    "cell_id": "00009-0d496e3e-398c-4aa0-9f4a-e263bf91224f",
    "deepnote_cell_type": "code",
    "deepnote_output_heights": [
     353
    ],
    "deepnote_to_be_reexecuted": false,
    "execution_millis": 8,
    "execution_start": 1639078329645,
    "source_hash": "62f9555e",
    "tags": []
   },
   "outputs": [
    {
     "data": {
      "text/html": [
       "<table border=\"1\" class=\"dataframe\">\n",
       "    <thead>\n",
       "        <tr>\n",
       "            <th>Start Date</th> <th>GHG Emissions</th>\n",
       "        </tr>\n",
       "    </thead>\n",
       "    <tbody>\n",
       "        <tr>\n",
       "            <td>2021-01-01</td> <td>3.63696e+09  </td>\n",
       "        </tr>\n",
       "        <tr>\n",
       "            <td>2020-01-01</td> <td>3.09547e+11  </td>\n",
       "        </tr>\n",
       "        <tr>\n",
       "            <td>2019-01-01</td> <td>3.14606e+11  </td>\n",
       "        </tr>\n",
       "        <tr>\n",
       "            <td>2018-01-01</td> <td>3.09841e+11  </td>\n",
       "        </tr>\n",
       "        <tr>\n",
       "            <td>2017-01-01</td> <td>3.10349e+11  </td>\n",
       "        </tr>\n",
       "        <tr>\n",
       "            <td>2016-01-01</td> <td>3.04289e+11  </td>\n",
       "        </tr>\n",
       "        <tr>\n",
       "            <td>2015-01-01</td> <td>2.98767e+11  </td>\n",
       "        </tr>\n",
       "        <tr>\n",
       "            <td>2021-01-01</td> <td>2.18217e+09  </td>\n",
       "        </tr>\n",
       "        <tr>\n",
       "            <td>2020-01-01</td> <td>1.85728e+11  </td>\n",
       "        </tr>\n",
       "        <tr>\n",
       "            <td>2019-01-01</td> <td>1.88763e+11  </td>\n",
       "        </tr>\n",
       "    </tbody>\n",
       "</table>\n",
       "<p>... (60 rows omitted)</p>"
      ],
      "text/plain": [
       "Start Date | GHG Emissions\n",
       "2021-01-01 | 3.63696e+09\n",
       "2020-01-01 | 3.09547e+11\n",
       "2019-01-01 | 3.14606e+11\n",
       "2018-01-01 | 3.09841e+11\n",
       "2017-01-01 | 3.10349e+11\n",
       "2016-01-01 | 3.04289e+11\n",
       "2015-01-01 | 2.98767e+11\n",
       "2021-01-01 | 2.18217e+09\n",
       "2020-01-01 | 1.85728e+11\n",
       "2019-01-01 | 1.88763e+11\n",
       "... (60 rows omitted)"
      ]
     },
     "execution_count": 3,
     "metadata": {},
     "output_type": "execute_result"
    }
   ],
   "source": [
    "#Select the start date and GHG Emissions columns\n",
    "#start_and_ghg = sectors_emissions.select(....)\n",
    "#start_and_ghg\n",
    "\n",
    "start_and_ghg = sectors_emissions.select(\"Start Date\", \"GHG Emissions\")\n",
    "start_and_ghg"
   ]
  },
  {
   "cell_type": "markdown",
   "metadata": {},
   "source": [
    "In the cell below, **assign emissions_sum to a table that contains start dates and the sum of GHG emissions within each year**\n",
    "\n",
    "*Hint: You should only have 7 rows, each containing a unique start date*"
   ]
  },
  {
   "cell_type": "code",
   "execution_count": 4,
   "metadata": {
    "cell_id": "00009-2c8e2402-1aca-4ff1-8c09-8cd9b90aa56a",
    "deepnote_cell_type": "code",
    "deepnote_output_heights": [
     235
    ],
    "deepnote_to_be_reexecuted": false,
    "execution_millis": 10,
    "execution_start": 1639078332483,
    "source_hash": "8353bc60",
    "tags": []
   },
   "outputs": [
    {
     "data": {
      "text/html": [
       "<table border=\"1\" class=\"dataframe\">\n",
       "    <thead>\n",
       "        <tr>\n",
       "            <th>Start Date</th> <th>GHG Emissions sum</th>\n",
       "        </tr>\n",
       "    </thead>\n",
       "    <tbody>\n",
       "        <tr>\n",
       "            <td>2015-01-01</td> <td>2.27063e+12      </td>\n",
       "        </tr>\n",
       "        <tr>\n",
       "            <td>2016-01-01</td> <td>2.3126e+12       </td>\n",
       "        </tr>\n",
       "        <tr>\n",
       "            <td>2017-01-01</td> <td>2.35865e+12      </td>\n",
       "        </tr>\n",
       "        <tr>\n",
       "            <td>2018-01-01</td> <td>2.35479e+12      </td>\n",
       "        </tr>\n",
       "        <tr>\n",
       "            <td>2019-01-01</td> <td>2.391e+12        </td>\n",
       "        </tr>\n",
       "        <tr>\n",
       "            <td>2020-01-01</td> <td>2.35256e+12      </td>\n",
       "        </tr>\n",
       "        <tr>\n",
       "            <td>2021-01-01</td> <td>2.76409e+10      </td>\n",
       "        </tr>\n",
       "    </tbody>\n",
       "</table>"
      ],
      "text/plain": [
       "Start Date | GHG Emissions sum\n",
       "2015-01-01 | 2.27063e+12\n",
       "2016-01-01 | 2.3126e+12\n",
       "2017-01-01 | 2.35865e+12\n",
       "2018-01-01 | 2.35479e+12\n",
       "2019-01-01 | 2.391e+12\n",
       "2020-01-01 | 2.35256e+12\n",
       "2021-01-01 | 2.76409e+10"
      ]
     },
     "execution_count": 4,
     "metadata": {},
     "output_type": "execute_result"
    }
   ],
   "source": [
    "#group the start date column, and get the sum of GHG Emissions in the next column\n",
    "#emissions_sum = start_and_ghg.group(...., ...)\n",
    "#emissions_sum\n",
    "\n",
    "emissions_sum = start_and_ghg.group(\"Start Date\", sum)\n",
    "emissions_sum"
   ]
  },
  {
   "cell_type": "code",
   "execution_count": 5,
   "metadata": {
    "cell_id": "00010-31b216ef-0543-4a6f-822b-d323081410eb",
    "deepnote_cell_type": "code",
    "deepnote_output_heights": [
     269
    ],
    "deepnote_to_be_reexecuted": false,
    "execution_millis": 330,
    "execution_start": 1639078340204,
    "source_hash": "86e57033",
    "tags": []
   },
   "outputs": [
    {
     "data": {
      "text/plain": [
       "<Figure size 432x288 with 0 Axes>"
      ]
     },
     "metadata": {},
     "output_type": "display_data"
    },
    {
     "data": {
      "image/png": "[encoded data removed]",
      "text/plain": [
       "<Figure size 432x432 with 1 Axes>"
      ]
     },
     "metadata": {
      "needs_background": "light"
     },
     "output_type": "display_data"
    }
   ],
   "source": [
    "#create a line plot showing the total GHG emissions for each year starting from 2015 to 2020\n",
    "plt.figure()\n",
    "emissions_sum.plot(\"Start Date\")\n",
    "plt.tick_params(axis='x', which='major', labelsize=8)"
   ]
  },
  {
   "cell_type": "markdown",
   "metadata": {
    "cell_id": "00012-71e75c4f-51ec-4207-b8a3-652d2ea008f6",
    "deepnote_cell_type": "markdown",
    "tags": []
   },
   "source": [
    "We expect 2020 to see a huge decrease in emissions due to worldwide lockdowns. According to the graph above, it looks like 2020 had less overall emissions than 2019, but not by a huge difference. **Why do you think this is?** \n",
    "\n",
    "**Note:** The dataset does not have data for the entire 2021 year, only for a few months. Also, 2020 doesn't seem to be that much of a decrease. "
   ]
  },
  {
   "cell_type": "markdown",
   "metadata": {
    "cell_id": "00013-03da6be6-cb2a-4e5f-b74e-b8cd41de7bda",
    "deepnote_cell_type": "markdown",
    "tags": []
   },
   "source": [
    "*Your answer here*"
   ]
  },
  {
   "cell_type": "markdown",
   "metadata": {
    "cell_id": "00006-18d9af0c-ecce-4487-b095-3b86559e076c",
    "deepnote_cell_type": "text-cell-h2",
    "is_collapsed": false,
    "tags": []
   },
   "source": [
    "## Greenhouse Gas Emissions in the United States 2020-2021"
   ]
  },
  {
   "cell_type": "markdown",
   "metadata": {
    "cell_id": "00013-0668f987-7a8c-465b-ae3e-d532857006ab",
    "deepnote_cell_type": "markdown",
    "tags": []
   },
   "source": [
    "In this section we will be looking specifically at GHG emissions in the United States. We hope to learn what month saw the largest decrease in GHG emissions in the US, in 2020 and what sector's emissions were most impacted by the pandemic."
   ]
  },
  {
   "cell_type": "markdown",
   "metadata": {},
   "source": [
    "Below is a dataset of monthly greenhouse gas emissions in the United States from 2015-2021."
   ]
  },
  {
   "cell_type": "code",
   "execution_count": 6,
   "metadata": {
    "cell_id": "00009-fc169e6f-538d-4966-b4e3-ec8e561ad735",
    "deepnote_cell_type": "code",
    "deepnote_output_heights": [
     353
    ],
    "deepnote_to_be_reexecuted": false,
    "execution_millis": 1182,
    "execution_start": 1639078483902,
    "source_hash": "adb8332",
    "tags": []
   },
   "outputs": [
    {
     "data": {
      "text/html": [
       "<table border=\"1\" class=\"dataframe\">\n",
       "    <thead>\n",
       "        <tr>\n",
       "            <th>Start Date</th> <th>End Date</th> <th>GHG Emissions</th> <th>Sector</th>\n",
       "        </tr>\n",
       "    </thead>\n",
       "    <tbody>\n",
       "        <tr>\n",
       "            <td>2021-12-01</td> <td>2022-01-01</td> <td>2.59478e+06  </td> <td>agriculture</td>\n",
       "        </tr>\n",
       "        <tr>\n",
       "            <td>2021-11-01</td> <td>2021-12-01</td> <td>2.59478e+06  </td> <td>agriculture</td>\n",
       "        </tr>\n",
       "        <tr>\n",
       "            <td>2021-10-01</td> <td>2021-11-01</td> <td>2.68128e+06  </td> <td>agriculture</td>\n",
       "        </tr>\n",
       "        <tr>\n",
       "            <td>2021-09-01</td> <td>2021-10-01</td> <td>2.59478e+06  </td> <td>agriculture</td>\n",
       "        </tr>\n",
       "        <tr>\n",
       "            <td>2021-08-01</td> <td>2021-09-01</td> <td>2.68128e+06  </td> <td>agriculture</td>\n",
       "        </tr>\n",
       "        <tr>\n",
       "            <td>2021-07-01</td> <td>2021-08-01</td> <td>2.68128e+06  </td> <td>agriculture</td>\n",
       "        </tr>\n",
       "        <tr>\n",
       "            <td>2021-06-01</td> <td>2021-07-01</td> <td>2.59478e+06  </td> <td>agriculture</td>\n",
       "        </tr>\n",
       "        <tr>\n",
       "            <td>2021-05-01</td> <td>2021-06-01</td> <td>2.68128e+06  </td> <td>agriculture</td>\n",
       "        </tr>\n",
       "        <tr>\n",
       "            <td>2021-04-01</td> <td>2021-05-01</td> <td>2.59478e+06  </td> <td>agriculture</td>\n",
       "        </tr>\n",
       "        <tr>\n",
       "            <td>2021-03-01</td> <td>2021-04-01</td> <td>2.68128e+06  </td> <td>agriculture</td>\n",
       "        </tr>\n",
       "    </tbody>\n",
       "</table>\n",
       "<p>... (830 rows omitted)</p>"
      ],
      "text/plain": [
       "<IPython.core.display.HTML object>"
      ]
     },
     "metadata": {},
     "output_type": "display_data"
    }
   ],
   "source": [
    "#monthly GHG Emissions data\n",
    "\n",
    "usa_monthly = requests.get(\"https://api.climatetrace.org/emissions_by_sector_timeseries?country=USA&interval=month&since=2000&to=2021\").json()\n",
    "usa_monthly = pd.json_normalize(usa_monthly, record_path = [\"emissions\"], meta = [\"name\"]).rename(columns ={\"start\": \"Start Date\", \"end\": \"End Date\", \"value\": \"GHG Emissions\", \"name\":\"Sector\"})\n",
    "usa_monthly = Table.from_df(usa_monthly)\n",
    "usa_monthly.show(10)"
   ]
  },
  {
   "cell_type": "markdown",
   "metadata": {},
   "source": [
    "Since we want to analyze emissions data in the United States during the beginning of the COVID-19 pandemic, we want to limit ourselves to data that represents emissions in the year 2020. **Filter the `usa_monthly` table to show only 2020 emissions data and assign it to `usa2020`.**\n",
    "\n",
    "*Hint:* Use the table function `where` ([Python Reference](http://data8.org/fa21/python-reference.html)) and use the appropriate predicate."
   ]
  },
  {
   "cell_type": "code",
   "execution_count": 7,
   "metadata": {
    "cell_id": "00014-b28ad5a9-52a1-40d9-abd5-21757cf49784",
    "deepnote_cell_type": "code",
    "deepnote_output_heights": [
     208
    ],
    "deepnote_to_be_reexecuted": false,
    "execution_millis": 401,
    "execution_start": 1639078347493,
    "source_hash": "f501a546",
    "tags": []
   },
   "outputs": [
    {
     "data": {
      "text/html": [
       "<table border=\"1\" class=\"dataframe\">\n",
       "    <thead>\n",
       "        <tr>\n",
       "            <th>Start Date</th> <th>End Date</th> <th>GHG Emissions</th> <th>Sector</th>\n",
       "        </tr>\n",
       "    </thead>\n",
       "    <tbody>\n",
       "        <tr>\n",
       "            <td>2020-12-01</td> <td>2021-01-01</td> <td>2.88341e+09  </td> <td>agriculture</td>\n",
       "        </tr>\n",
       "        <tr>\n",
       "            <td>2020-11-01</td> <td>2020-12-01</td> <td>2.88341e+09  </td> <td>agriculture</td>\n",
       "        </tr>\n",
       "        <tr>\n",
       "            <td>2020-10-01</td> <td>2020-11-01</td> <td>2.97953e+09  </td> <td>agriculture</td>\n",
       "        </tr>\n",
       "        <tr>\n",
       "            <td>2020-09-01</td> <td>2020-10-01</td> <td>2.88341e+09  </td> <td>agriculture</td>\n",
       "        </tr>\n",
       "        <tr>\n",
       "            <td>2020-08-01</td> <td>2020-09-01</td> <td>2.97953e+09  </td> <td>agriculture</td>\n",
       "        </tr>\n",
       "    </tbody>\n",
       "</table>\n",
       "<p>... (115 rows omitted)</p>"
      ],
      "text/plain": [
       "<IPython.core.display.HTML object>"
      ]
     },
     "metadata": {},
     "output_type": "display_data"
    }
   ],
   "source": [
    "#isolate rows where the year is 2020\n",
    "#usa2020 = usa_monthly.where(..., ...)\n",
    "#usa2020.show(5)\n",
    "\n",
    "usa2020 = usa_monthly.where(\"Start Date\", are.containing('2020'))\n",
    "usa2020.show(5)"
   ]
  },
  {
   "cell_type": "markdown",
   "metadata": {},
   "source": [
    "In the cell below, **assign `monthly_emissions2020` to a table that contains start dates and the sum of GHG emissions within each month in the United States in 2020.**"
   ]
  },
  {
   "cell_type": "code",
   "execution_count": 8,
   "metadata": {
    "cell_id": "00015-fbd983c6-6cb6-440e-9203-43c4838467b2",
    "deepnote_cell_type": "code",
    "deepnote_output_heights": [
     353
    ],
    "deepnote_to_be_reexecuted": false,
    "execution_millis": 2,
    "execution_start": 1639078497083,
    "source_hash": "55ea5130",
    "tags": []
   },
   "outputs": [
    {
     "data": {
      "text/html": [
       "<table border=\"1\" class=\"dataframe\">\n",
       "    <thead>\n",
       "        <tr>\n",
       "            <th>Start Date</th> <th>GHG Emissions sum</th>\n",
       "        </tr>\n",
       "    </thead>\n",
       "    <tbody>\n",
       "        <tr>\n",
       "            <td>2020-01-01</td> <td>2.26444e+10      </td>\n",
       "        </tr>\n",
       "        <tr>\n",
       "            <td>2020-02-01</td> <td>2.11835e+10      </td>\n",
       "        </tr>\n",
       "        <tr>\n",
       "            <td>2020-03-01</td> <td>2.26444e+10      </td>\n",
       "        </tr>\n",
       "        <tr>\n",
       "            <td>2020-04-01</td> <td>2.19139e+10      </td>\n",
       "        </tr>\n",
       "        <tr>\n",
       "            <td>2020-05-01</td> <td>2.26444e+10      </td>\n",
       "        </tr>\n",
       "        <tr>\n",
       "            <td>2020-06-01</td> <td>2.19139e+10      </td>\n",
       "        </tr>\n",
       "        <tr>\n",
       "            <td>2020-07-01</td> <td>2.26444e+10      </td>\n",
       "        </tr>\n",
       "        <tr>\n",
       "            <td>2020-08-01</td> <td>2.26444e+10      </td>\n",
       "        </tr>\n",
       "        <tr>\n",
       "            <td>2020-09-01</td> <td>2.19139e+10      </td>\n",
       "        </tr>\n",
       "        <tr>\n",
       "            <td>2020-10-01</td> <td>2.26444e+10      </td>\n",
       "        </tr>\n",
       "        <tr>\n",
       "            <td>2020-11-01</td> <td>2.19139e+10      </td>\n",
       "        </tr>\n",
       "        <tr>\n",
       "            <td>2020-12-01</td> <td>2.19139e+10      </td>\n",
       "        </tr>\n",
       "    </tbody>\n",
       "</table>"
      ],
      "text/plain": [
       "<IPython.core.display.HTML object>"
      ]
     },
     "metadata": {},
     "output_type": "display_data"
    }
   ],
   "source": [
    "#drop the Sector and End Date Column\n",
    "#monthly_emissions2020 = usa2020.select(..., ...)\n",
    "#monthly_emissions2020 = monthly_emissions2020.group(..., ...)\n",
    "#monthly_emissions2020.show(12)\n",
    "\n",
    "monthly_emissions2020 = usa2020.select(\"Start Date\", \"GHG Emissions\")\n",
    "monthly_emissions2020 = monthly_emissions2020.group(\"Start Date\", sum)\n",
    "monthly_emissions2020.show(12)"
   ]
  },
  {
   "cell_type": "markdown",
   "metadata": {},
   "source": [
    "We will need to subtract emissions for each month from the prior month. To do this, we must create a list \n",
    "\n",
    "*Hint:* Use `np.diff`, which is a function used to find the difference between adjacent elements."
   ]
  },
  {
   "cell_type": "code",
   "execution_count": 30,
   "metadata": {},
   "outputs": [
    {
     "data": {
      "text/html": [
       "<table border=\"1\" class=\"dataframe\">\n",
       "    <thead>\n",
       "        <tr>\n",
       "            <th>Start Date</th> <th>Difference</th>\n",
       "        </tr>\n",
       "    </thead>\n",
       "    <tbody>\n",
       "        <tr>\n",
       "            <td>2020-02-01</td> <td>-1.46093e+09</td>\n",
       "        </tr>\n",
       "        <tr>\n",
       "            <td>2020-03-01</td> <td>1.46093e+09 </td>\n",
       "        </tr>\n",
       "        <tr>\n",
       "            <td>2020-04-01</td> <td>-7.30465e+08</td>\n",
       "        </tr>\n",
       "        <tr>\n",
       "            <td>2020-05-01</td> <td>7.30465e+08 </td>\n",
       "        </tr>\n",
       "        <tr>\n",
       "            <td>2020-06-01</td> <td>-7.30465e+08</td>\n",
       "        </tr>\n",
       "        <tr>\n",
       "            <td>2020-07-01</td> <td>7.30465e+08 </td>\n",
       "        </tr>\n",
       "        <tr>\n",
       "            <td>2020-08-01</td> <td>0           </td>\n",
       "        </tr>\n",
       "        <tr>\n",
       "            <td>2020-09-01</td> <td>-7.30465e+08</td>\n",
       "        </tr>\n",
       "        <tr>\n",
       "            <td>2020-10-01</td> <td>7.30465e+08 </td>\n",
       "        </tr>\n",
       "        <tr>\n",
       "            <td>2020-11-01</td> <td>-7.30465e+08</td>\n",
       "        </tr>\n",
       "    </tbody>\n",
       "</table>\n",
       "<p>... (1 rows omitted)</p>"
      ],
      "text/plain": [
       "Start Date | Difference\n",
       "2020-02-01 | -1.46093e+09\n",
       "2020-03-01 | 1.46093e+09\n",
       "2020-04-01 | -7.30465e+08\n",
       "2020-05-01 | 7.30465e+08\n",
       "2020-06-01 | -7.30465e+08\n",
       "2020-07-01 | 7.30465e+08\n",
       "2020-08-01 | 0\n",
       "2020-09-01 | -7.30465e+08\n",
       "2020-10-01 | 7.30465e+08\n",
       "2020-11-01 | -7.30465e+08\n",
       "... (1 rows omitted)"
      ]
     },
     "execution_count": 30,
     "metadata": {},
     "output_type": "execute_result"
    }
   ],
   "source": [
    "#agg_diff = np.diff(....)\n",
    "#agg_diff = np.diff(monthly_emissions2020[\"GHG Emissions sum\"])\n",
    "\n",
    "monthly_differences = Table()\n",
    "\n",
    "#Taking the first 11 months of GHG Emissions\n",
    "feb_dec = monthly_emissions2020[\"Start Date\"][1:]\n",
    "monthly_differences = monthly_differences.with_column(label = \"Start Date\", values = feb_dec)\n",
    "\n",
    "#Finding the difference in emissions between adjacent dates\n",
    "agg_diff = np.diff(monthly_emissions2020[\"GHG Emissions sum\"])\n",
    "\n",
    "#Creating a new table\n",
    "monthly_differences = monthly_differences.with_column(label = \"Difference\", values = agg_diff)\n",
    "monthly_differences"
   ]
  },
  {
   "cell_type": "markdown",
   "metadata": {},
   "source": [
    "What month(s) saw the largest difference in GHG emissions? Do you recognize any patterns in this data? Are you surprised by the results?"
   ]
  },
  {
   "cell_type": "markdown",
   "metadata": {},
   "source": [
    "*Answer here*"
   ]
  },
  {
   "cell_type": "markdown",
   "metadata": {
    "cell_id": "00018-221c4eae-1e23-48b4-a5de-de316a8efea5",
    "deepnote_cell_type": "markdown",
    "tags": []
   },
   "source": [
    "Now let's look at each sector and determine which one was the most and least impacted by COVID. We'll compare data from 2019 and 2020 to see if any sectors took a hit in 2020. In the cell below, **create a table with a unique sector in each row and the corresponding total sum of GHG emissions produced in that sector.**"
   ]
  },
  {
   "cell_type": "code",
   "execution_count": 39,
   "metadata": {},
   "outputs": [
    {
     "data": {
      "text/html": [
       "<table border=\"1\" class=\"dataframe\">\n",
       "    <thead>\n",
       "        <tr>\n",
       "            <th>Sector</th> <th>GHG Emissions sum</th>\n",
       "        </tr>\n",
       "    </thead>\n",
       "    <tbody>\n",
       "        <tr>\n",
       "            <td>agriculture  </td> <td>3.50815e+10      </td>\n",
       "        </tr>\n",
       "        <tr>\n",
       "            <td>buildings    </td> <td>2.10489e+10      </td>\n",
       "        </tr>\n",
       "        <tr>\n",
       "            <td>extraction   </td> <td>4.20978e+10      </td>\n",
       "        </tr>\n",
       "        <tr>\n",
       "            <td>forests      </td> <td>2.80652e+10      </td>\n",
       "        </tr>\n",
       "        <tr>\n",
       "            <td>manufacturing</td> <td>4.20978e+10      </td>\n",
       "        </tr>\n",
       "        <tr>\n",
       "            <td>maritime     </td> <td>7.01631e+09      </td>\n",
       "        </tr>\n",
       "        <tr>\n",
       "            <td>oil and gas  </td> <td>2.10489e+10      </td>\n",
       "        </tr>\n",
       "        <tr>\n",
       "            <td>power        </td> <td>1.40326e+10      </td>\n",
       "        </tr>\n",
       "        <tr>\n",
       "            <td>transport    </td> <td>2.80652e+10      </td>\n",
       "        </tr>\n",
       "        <tr>\n",
       "            <td>waste        </td> <td>2.80652e+10      </td>\n",
       "        </tr>\n",
       "    </tbody>\n",
       "</table>"
      ],
      "text/plain": [
       "Sector        | GHG Emissions sum\n",
       "agriculture   | 3.50815e+10\n",
       "buildings     | 2.10489e+10\n",
       "extraction    | 4.20978e+10\n",
       "forests       | 2.80652e+10\n",
       "manufacturing | 4.20978e+10\n",
       "maritime      | 7.01631e+09\n",
       "oil and gas   | 2.10489e+10\n",
       "power         | 1.40326e+10\n",
       "transport     | 2.80652e+10\n",
       "waste         | 2.80652e+10"
      ]
     },
     "execution_count": 39,
     "metadata": {},
     "output_type": "execute_result"
    }
   ],
   "source": [
    "#Selecting necessary rows, then grouping to sum all the emissions within the sector \n",
    "#sector_emissions20 = usa2020.select(.....).group(...., ....)\n",
    "#sector_emissions20\n",
    "\n",
    "sector_emissions20 = usa2020.select(\"GHG Emissions\", \"Sector\").group(\"Sector\", sum)\n",
    "sector_emissions20"
   ]
  },
  {
   "cell_type": "code",
   "execution_count": 40,
   "metadata": {
    "cell_id": "00020-f1962469-e8a8-42b6-b2e4-d17cbaaeacee",
    "deepnote_cell_type": "code",
    "deepnote_output_heights": [
     208
    ],
    "deepnote_to_be_reexecuted": false,
    "execution_millis": 7,
    "execution_start": 1639078360199,
    "source_hash": "27baf4f4",
    "tags": []
   },
   "outputs": [
    {
     "data": {
      "text/html": [
       "<table border=\"1\" class=\"dataframe\">\n",
       "    <thead>\n",
       "        <tr>\n",
       "            <th>Sector</th> <th>GHG Emissions sum</th>\n",
       "        </tr>\n",
       "    </thead>\n",
       "    <tbody>\n",
       "        <tr>\n",
       "            <td>agriculture  </td> <td>3.53622e+10      </td>\n",
       "        </tr>\n",
       "        <tr>\n",
       "            <td>buildings    </td> <td>2.12173e+10      </td>\n",
       "        </tr>\n",
       "        <tr>\n",
       "            <td>extraction   </td> <td>4.24346e+10      </td>\n",
       "        </tr>\n",
       "        <tr>\n",
       "            <td>forests      </td> <td>2.82897e+10      </td>\n",
       "        </tr>\n",
       "        <tr>\n",
       "            <td>manufacturing</td> <td>4.24346e+10      </td>\n",
       "        </tr>\n",
       "        <tr>\n",
       "            <td>maritime     </td> <td>7.07243e+09      </td>\n",
       "        </tr>\n",
       "        <tr>\n",
       "            <td>oil and gas  </td> <td>2.12173e+10      </td>\n",
       "        </tr>\n",
       "        <tr>\n",
       "            <td>power        </td> <td>1.41449e+10      </td>\n",
       "        </tr>\n",
       "        <tr>\n",
       "            <td>transport    </td> <td>2.82897e+10      </td>\n",
       "        </tr>\n",
       "        <tr>\n",
       "            <td>waste        </td> <td>2.82897e+10      </td>\n",
       "        </tr>\n",
       "    </tbody>\n",
       "</table>"
      ],
      "text/plain": [
       "Sector        | GHG Emissions sum\n",
       "agriculture   | 3.53622e+10\n",
       "buildings     | 2.12173e+10\n",
       "extraction    | 4.24346e+10\n",
       "forests       | 2.82897e+10\n",
       "manufacturing | 4.24346e+10\n",
       "maritime      | 7.07243e+09\n",
       "oil and gas   | 2.12173e+10\n",
       "power         | 1.41449e+10\n",
       "transport     | 2.82897e+10\n",
       "waste         | 2.82897e+10"
      ]
     },
     "execution_count": 40,
     "metadata": {},
     "output_type": "execute_result"
    }
   ],
   "source": [
    "#Let's do the same for 2019 USA\n",
    "usa2019 = usa_monthly.where(\"Start Date\", are.containing('2019'))\n",
    "sector_emissions19 = usa2019.select(\"GHG Emissions\", \"Sector\").group(\"Sector\", sum)\n",
    "sector_emissions19"
   ]
  },
  {
   "cell_type": "markdown",
   "metadata": {},
   "source": [
    "Finally, let's create a table containing 2019 amnd 2020 emissions for each sector, along with the difference between those emissions."
   ]
  },
  {
   "cell_type": "code",
   "execution_count": 41,
   "metadata": {
    "cell_id": "00025-82a26685-b5df-4aca-a7dc-fa5257caa191",
    "deepnote_cell_type": "code",
    "deepnote_output_heights": [
     322
    ],
    "deepnote_to_be_reexecuted": false,
    "execution_millis": 12,
    "execution_start": 1639078646956,
    "source_hash": "6d50dc5a",
    "tags": []
   },
   "outputs": [
    {
     "data": {
      "text/html": [
       "<table border=\"1\" class=\"dataframe\">\n",
       "    <thead>\n",
       "        <tr>\n",
       "            <th>Sector</th> <th>2019 Emissions</th> <th>2020 Emissions</th> <th>Difference</th>\n",
       "        </tr>\n",
       "    </thead>\n",
       "    <tbody>\n",
       "        <tr>\n",
       "            <td>agriculture  </td> <td>3.53622e+10   </td> <td>3.50815e+10   </td> <td>-2.80627e+08</td>\n",
       "        </tr>\n",
       "        <tr>\n",
       "            <td>buildings    </td> <td>2.12173e+10   </td> <td>2.10489e+10   </td> <td>-1.68376e+08</td>\n",
       "        </tr>\n",
       "        <tr>\n",
       "            <td>extraction   </td> <td>4.24346e+10   </td> <td>4.20978e+10   </td> <td>-3.36752e+08</td>\n",
       "        </tr>\n",
       "        <tr>\n",
       "            <td>forests      </td> <td>2.82897e+10   </td> <td>2.80652e+10   </td> <td>-2.24501e+08</td>\n",
       "        </tr>\n",
       "        <tr>\n",
       "            <td>manufacturing</td> <td>4.24346e+10   </td> <td>4.20978e+10   </td> <td>-3.36752e+08</td>\n",
       "        </tr>\n",
       "        <tr>\n",
       "            <td>maritime     </td> <td>7.07243e+09   </td> <td>7.01631e+09   </td> <td>-5.61253e+07</td>\n",
       "        </tr>\n",
       "        <tr>\n",
       "            <td>oil and gas  </td> <td>2.12173e+10   </td> <td>2.10489e+10   </td> <td>-1.68376e+08</td>\n",
       "        </tr>\n",
       "        <tr>\n",
       "            <td>power        </td> <td>1.41449e+10   </td> <td>1.40326e+10   </td> <td>-1.12251e+08</td>\n",
       "        </tr>\n",
       "        <tr>\n",
       "            <td>transport    </td> <td>2.82897e+10   </td> <td>2.80652e+10   </td> <td>-2.24501e+08</td>\n",
       "        </tr>\n",
       "        <tr>\n",
       "            <td>waste        </td> <td>2.82897e+10   </td> <td>2.80652e+10   </td> <td>-2.24501e+08</td>\n",
       "        </tr>\n",
       "    </tbody>\n",
       "</table>"
      ],
      "text/plain": [
       "Sector        | 2019 Emissions | 2020 Emissions | Difference\n",
       "agriculture   | 3.53622e+10    | 3.50815e+10    | -2.80627e+08\n",
       "buildings     | 2.12173e+10    | 2.10489e+10    | -1.68376e+08\n",
       "extraction    | 4.24346e+10    | 4.20978e+10    | -3.36752e+08\n",
       "forests       | 2.82897e+10    | 2.80652e+10    | -2.24501e+08\n",
       "manufacturing | 4.24346e+10    | 4.20978e+10    | -3.36752e+08\n",
       "maritime      | 7.07243e+09    | 7.01631e+09    | -5.61253e+07\n",
       "oil and gas   | 2.12173e+10    | 2.10489e+10    | -1.68376e+08\n",
       "power         | 1.41449e+10    | 1.40326e+10    | -1.12251e+08\n",
       "transport     | 2.82897e+10    | 2.80652e+10    | -2.24501e+08\n",
       "waste         | 2.82897e+10    | 2.80652e+10    | -2.24501e+08"
      ]
     },
     "execution_count": 41,
     "metadata": {},
     "output_type": "execute_result"
    }
   ],
   "source": [
    "#Create a table showing each sector and the corresponding total GHG emissions from 2019, 2020, \n",
    "# and the difference between the years.\n",
    "\n",
    "#First relabel \n",
    "sector_emissions19.relabel(\"GHG Emissions sum\", \"2019 Emissions\")\n",
    "emissions20 = sector_emissions20.column(\"GHG Emissions sum\")\n",
    "\n",
    "sector_emissions = sector_emissions19.with_column(\"2020 Emissions\", emissions20)\n",
    "difference = sector_emissions.column(2) - sector_emissions.column(1)\n",
    "sector_emissions = sector_emissions.with_column(\"Difference\", difference)\n",
    "sector_emissions"
   ]
  },
  {
   "cell_type": "markdown",
   "metadata": {
    "cell_id": "00026-3e618b1a-c44c-48b5-b0e1-427a4c0b5ad2",
    "deepnote_cell_type": "markdown",
    "tags": []
   },
   "source": [
    "The difference column is 2020 emissions minus 2019 emissions. All the differences are negative, which means there was an overall decrease in all sectors in GHG emissions from 2019 to 2020. In the cell below, state the greatest difference between two years and state it's corresponding the sector that was impacted the most by COVID."
   ]
  },
  {
   "cell_type": "markdown",
   "metadata": {},
   "source": [
    "*Your answer here*"
   ]
  },
  {
   "cell_type": "code",
   "execution_count": 44,
   "metadata": {},
   "outputs": [
    {
     "data": {
      "text/plain": [
       "-336751995.7840042"
      ]
     },
     "execution_count": 44,
     "metadata": {},
     "output_type": "execute_result"
    }
   ],
   "source": [
    "min(sector_emissions.column(3))"
   ]
  },
  {
   "cell_type": "markdown",
   "metadata": {
    "cell_id": "00028-32937ebb-b41f-4e2e-84c4-5011192ec06c",
    "deepnote_cell_type": "markdown",
    "tags": []
   },
   "source": [
    "This number corresponds to the manufacturing and extration sectors. Thus, the manufacturing and extraction sectors had the greatest difference in total emissions from 2019 to 2020. This means that these two sectors were impacted by covid19 the most. "
   ]
  },
  {
   "cell_type": "markdown",
   "metadata": {},
   "source": [
    "Please let us know of your thoughts on this notebook! [Fill out the following survey here](https://forms.gle/Hm2NFqCDi5Sxw7RT7)\n",
    "\n",
    "Developed by Caitlin Yee, Kinsey Long, Aaron Moore, Peter Grinde-Hollevik and Hans Ocampo"
   ]
  },
  {
   "cell_type": "code",
   "execution_count": null,
   "metadata": {},
   "outputs": [],
   "source": []
  }
 ],
 "metadata": {
  "deepnote": {
   "is_reactive": false
  },
  "deepnote_execution_queue": [],
  "deepnote_notebook_id": "990f8420-c865-401f-885e-f125ca83e3dc",
  "kernelspec": {
   "display_name": "Python 3",
   "language": "python",
   "name": "python3"
  },
  "language_info": {
   "codemirror_mode": {
    "name": "ipython",
    "version": 3
   },
   "file_extension": ".py",
   "mimetype": "text/x-python",
   "name": "python",
   "nbconvert_exporter": "python",
   "pygments_lexer": "ipython3",
   "version": "3.8.8"
  }
 },
 "nbformat": 4,
 "nbformat_minor": 2
}
