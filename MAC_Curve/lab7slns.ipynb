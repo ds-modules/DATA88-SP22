{
 "cells": [
  {
   "cell_type": "markdown",
   "id": "e3dc80ac",
   "metadata": {},
   "source": [
    "Q4"
   ]
  },
  {
   "cell_type": "code",
   "execution_count": null,
   "id": "266a670b",
   "metadata": {},
   "outputs": [],
   "source": [
    "#Import packages\n",
    "from datascience import *\n",
    "import matplotlib.pyplot as plt\n",
    "%matplotlib inline \n",
    "\n",
    "import numpy as np\n",
    "import pandas as pd\n",
    "from matplotlib import patches"
   ]
  },
  {
   "cell_type": "code",
   "execution_count": null,
   "id": "03a7ccce",
   "metadata": {},
   "outputs": [],
   "source": [
    "data = Table.read_table(\"abatement_data.csv\")\n",
    "data"
   ]
  },
  {
   "cell_type": "code",
   "execution_count": null,
   "id": "ac2b4edf",
   "metadata": {},
   "outputs": [],
   "source": [
    "#abatement_table = Table.read_table(\"abatement_data.csv\").where(...).where(...)\n",
    "#abatement_table_drop = abatement_table.drop(...)\n",
    "#abatement_table = abatement_table_drop.relabel(...).relabel(...)\n",
    "#abatement_table"
   ]
  },
  {
   "cell_type": "code",
   "execution_count": null,
   "id": "722837b8",
   "metadata": {},
   "outputs": [],
   "source": [
    "abatement_table = Table.read_table(\"abatement_data.csv\").where('Cost',are.between(-10.1,10)).where('Possible Savings', are.below(200))\n",
    "abatement_table_drop = abatement_table.drop('Emissions')\n",
    "abatement_table = abatement_table_drop.relabel('Possible Savings', 'Abatement Potential').relabel('Cost','Abatement Cost')\n",
    "abatement_table"
   ]
  },
  {
   "cell_type": "markdown",
   "id": "fc2c8285",
   "metadata": {},
   "source": [
    "Q5"
   ]
  },
  {
   "cell_type": "code",
   "execution_count": null,
   "id": "be7f751a",
   "metadata": {},
   "outputs": [],
   "source": [
    "selection = ...\n",
    "abatement_table_ap = abatement_table.where('Region', ...)\n",
    "abatement_table_ap"
   ]
  },
  {
   "cell_type": "code",
   "execution_count": null,
   "id": "172b38c7",
   "metadata": {},
   "outputs": [],
   "source": [
    "selection = 'Asia Pacific'\n",
    "abatement_table_ap = abatement_table.where('Region', selection)\n",
    "abatement_table_ap"
   ]
  },
  {
   "cell_type": "markdown",
   "id": "5010e5ee",
   "metadata": {},
   "source": [
    "Q5c"
   ]
  },
  {
   "cell_type": "code",
   "execution_count": null,
   "id": "84adbf3d",
   "metadata": {},
   "outputs": [],
   "source": [
    "#abatement_under_4 = abatement_table_ap.where(...)\n",
    "#abatement_at_4 = sum(...)\n",
    "#abatement_at_4"
   ]
  },
  {
   "cell_type": "code",
   "execution_count": null,
   "id": "61477791",
   "metadata": {},
   "outputs": [],
   "source": [
    "abatement_under_4 = abatement_table_ap.where('Abatement Cost', are.below_or_equal_to(4))\n",
    "abatement_at_4 = sum(abatement_under_4.column('Abatement Potential'))\n",
    "abatement_at_4"
   ]
  },
  {
   "cell_type": "markdown",
   "id": "377766f2",
   "metadata": {},
   "source": [
    "Q6a"
   ]
  },
  {
   "cell_type": "code",
   "execution_count": null,
   "id": "0478d647",
   "metadata": {},
   "outputs": [],
   "source": [
    "def total_abatement(tax_level):\n",
    "    abatement_under_tax = abatement_table_ap.where('Abatement Cost', ...)\n",
    "    return sum(...)"
   ]
  },
  {
   "cell_type": "code",
   "execution_count": null,
   "id": "6f665ff7",
   "metadata": {},
   "outputs": [],
   "source": [
    "def total_abatement(tax_level):\n",
    "    abatement_under_tax = abatement_table_ap.where('Abatement Cost', are.below_or_equal_to(tax_level))\n",
    "    return sum(abatement_under_tax.column('Abatement Potential'))"
   ]
  },
  {
   "cell_type": "markdown",
   "id": "5fb6020a",
   "metadata": {},
   "source": [
    "Q7a"
   ]
  },
  {
   "cell_type": "code",
   "execution_count": null,
   "id": "f3c4e545",
   "metadata": {},
   "outputs": [],
   "source": [
    "#cumulative_potential = np.cumsum(...)\n",
    "#abatement_table_cumulative = abatement_table_ap.with_column(...)\n",
    "#abatement_cumulative_sorted = abatement_table_cumulative.drop(...).sort(...)\n",
    "#abatement_cumulative_sorted"
   ]
  },
  {
   "cell_type": "code",
   "execution_count": null,
   "id": "0db2733c",
   "metadata": {},
   "outputs": [],
   "source": [
    "cumulative_potential = np.cumsum(abatement_table_ap.column(0))\n",
    "abatement_table_cumulative = abatement_table_ap.with_column('Cumulative Abatement Potential', cumulative_potential)\n",
    "abatement_cumulative_sorted = abatement_table_cumulative.drop('Abatement Potential').sort('Abatement Cost')\n",
    "abatement_cumulative_sorted"
   ]
  },
  {
   "cell_type": "markdown",
   "id": "13d37a01",
   "metadata": {},
   "source": [
    "Q9"
   ]
  },
  {
   "cell_type": "code",
   "execution_count": null,
   "id": "768c9c10",
   "metadata": {},
   "outputs": [],
   "source": [
    "selection = ...\n",
    "abatement_table_us = ...\n",
    "abatement_table_us\n",
    "\n",
    "#Prepare data for plotting (North America. _us)\n",
    "width = abatement_table_us.column(...)\n",
    "height = abatement_table_us.column(...)\n",
    "new_x = find_x_pos(width)\n",
    "\n",
    "colors_mapped = list(pd.Series(abatement_table_us['Abatement technology']).map(abatement_colors_dict))\n",
    "abatement_table_us = abatement_table_us.with_column('Color', colors_mapped)\n",
    "\n",
    "mckinsey_curve(3, abatement_table_us)"
   ]
  },
  {
   "cell_type": "code",
   "execution_count": null,
   "id": "40b3f5a3",
   "metadata": {},
   "outputs": [],
   "source": [
    "selection = 'North America'\n",
    "abatement_table_us = abatement_table.where('Region', selection)\n",
    "abatement_table_us\n",
    "\n",
    "#Prepare data for plotting (North America. _us)\n",
    "width = abatement_table_us.column('Abatement Potential')\n",
    "height = abatement_table_us.column('Abatement Cost')\n",
    "new_x = find_x_pos(width)\n",
    "\n",
    "colors_mapped = list(pd.Series(abatement_table_us['Abatement technology']).map(abatement_colors_dict))\n",
    "abatement_table_us = abatement_table_us.with_column('Color', colors_mapped)\n",
    "\n",
    "mckinsey_curve(3, abatement_table_us)"
   ]
  },
  {
   "cell_type": "code",
   "execution_count": null,
   "id": "2af3cd1a",
   "metadata": {},
   "outputs": [],
   "source": []
  },
  {
   "cell_type": "code",
   "execution_count": null,
   "id": "433ffd6a",
   "metadata": {},
   "outputs": [],
   "source": []
  },
  {
   "cell_type": "code",
   "execution_count": null,
   "id": "aed2c657",
   "metadata": {},
   "outputs": [],
   "source": []
  }
 ],
 "metadata": {
  "kernelspec": {
   "display_name": "Python 3",
   "language": "python",
   "name": "python3"
  },
  "language_info": {
   "codemirror_mode": {
    "name": "ipython",
    "version": 3
   },
   "file_extension": ".py",
   "mimetype": "text/x-python",
   "name": "python",
   "nbconvert_exporter": "python",
   "pygments_lexer": "ipython3",
   "version": "3.8.8"
  }
 },
 "nbformat": 4,
 "nbformat_minor": 5
}
