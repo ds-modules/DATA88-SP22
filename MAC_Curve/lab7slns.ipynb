{
 "cells": [
  {
   "cell_type": "markdown",
   "id": "e3dc80ac",
   "metadata": {},
   "source": [
    "Q4"
   ]
  },
  {
   "cell_type": "code",
   "execution_count": 1,
   "id": "ac2b4edf",
   "metadata": {},
   "outputs": [
    {
     "ename": "NameError",
     "evalue": "name 'Table' is not defined",
     "output_type": "error",
     "traceback": [
      "\u001b[0;31m---------------------------------------------------------------------------\u001b[0m",
      "\u001b[0;31mNameError\u001b[0m                                 Traceback (most recent call last)",
      "Input \u001b[0;32mIn [1]\u001b[0m, in \u001b[0;36m<module>\u001b[0;34m\u001b[0m\n\u001b[0;32m----> 1\u001b[0m abatement_table \u001b[38;5;241m=\u001b[39m \u001b[43mTable\u001b[49m\u001b[38;5;241m.\u001b[39mread_table(\u001b[38;5;124m\"\u001b[39m\u001b[38;5;124mabatement_data.csv\u001b[39m\u001b[38;5;124m\"\u001b[39m)\u001b[38;5;241m.\u001b[39mwhere(\u001b[38;5;241m.\u001b[39m\u001b[38;5;241m.\u001b[39m\u001b[38;5;241m.\u001b[39m)\u001b[38;5;241m.\u001b[39mwhere(\u001b[38;5;241m.\u001b[39m\u001b[38;5;241m.\u001b[39m\u001b[38;5;241m.\u001b[39m)\n\u001b[1;32m      2\u001b[0m abatement_table_drop \u001b[38;5;241m=\u001b[39m abatement_table\u001b[38;5;241m.\u001b[39mdrop(\u001b[38;5;241m.\u001b[39m\u001b[38;5;241m.\u001b[39m\u001b[38;5;241m.\u001b[39m)\n\u001b[1;32m      3\u001b[0m abatement_table \u001b[38;5;241m=\u001b[39m abatement_table_drop\u001b[38;5;241m.\u001b[39mrelabel(\u001b[38;5;241m.\u001b[39m\u001b[38;5;241m.\u001b[39m\u001b[38;5;241m.\u001b[39m)\u001b[38;5;241m.\u001b[39mrelabel(\u001b[38;5;241m.\u001b[39m\u001b[38;5;241m.\u001b[39m\u001b[38;5;241m.\u001b[39m)\n",
      "\u001b[0;31mNameError\u001b[0m: name 'Table' is not defined"
     ]
    }
   ],
   "source": [
    "abatement_table = Table.read_table(\"abatement_data.csv\").where(...).where(...)\n",
    "abatement_table_drop = abatement_table.drop(...)\n",
    "abatement_table = abatement_table_drop.relabel(...).relabel(...)\n",
    "abatement_table"
   ]
  },
  {
   "cell_type": "code",
   "execution_count": 2,
   "id": "722837b8",
   "metadata": {},
   "outputs": [
    {
     "ename": "NameError",
     "evalue": "name 'Table' is not defined",
     "output_type": "error",
     "traceback": [
      "\u001b[0;31m---------------------------------------------------------------------------\u001b[0m",
      "\u001b[0;31mNameError\u001b[0m                                 Traceback (most recent call last)",
      "Input \u001b[0;32mIn [2]\u001b[0m, in \u001b[0;36m<module>\u001b[0;34m\u001b[0m\n\u001b[0;32m----> 1\u001b[0m abatement_table \u001b[38;5;241m=\u001b[39m \u001b[43mTable\u001b[49m\u001b[38;5;241m.\u001b[39mread_table(\u001b[38;5;124m\"\u001b[39m\u001b[38;5;124mabatement_data.csv\u001b[39m\u001b[38;5;124m\"\u001b[39m)\u001b[38;5;241m.\u001b[39mwhere(\u001b[38;5;124m'\u001b[39m\u001b[38;5;124mCost\u001b[39m\u001b[38;5;124m'\u001b[39m,are\u001b[38;5;241m.\u001b[39mbetween(\u001b[38;5;241m-\u001b[39m\u001b[38;5;241m10.1\u001b[39m,\u001b[38;5;241m10\u001b[39m))\u001b[38;5;241m.\u001b[39mwhere(\u001b[38;5;124m'\u001b[39m\u001b[38;5;124mPossible Savings\u001b[39m\u001b[38;5;124m'\u001b[39m, are\u001b[38;5;241m.\u001b[39mbelow(\u001b[38;5;241m200\u001b[39m))\n\u001b[1;32m      2\u001b[0m abatement_table_drop \u001b[38;5;241m=\u001b[39m abatement_table\u001b[38;5;241m.\u001b[39mdrop(\u001b[38;5;124m'\u001b[39m\u001b[38;5;124mEmissions\u001b[39m\u001b[38;5;124m'\u001b[39m)\n\u001b[1;32m      3\u001b[0m abatement_table \u001b[38;5;241m=\u001b[39m abatement_table_drop\u001b[38;5;241m.\u001b[39mrelabel(\u001b[38;5;124m'\u001b[39m\u001b[38;5;124mPossible Savings\u001b[39m\u001b[38;5;124m'\u001b[39m, \u001b[38;5;124m'\u001b[39m\u001b[38;5;124mAbatement Potential\u001b[39m\u001b[38;5;124m'\u001b[39m)\u001b[38;5;241m.\u001b[39mrelabel(\u001b[38;5;124m'\u001b[39m\u001b[38;5;124mCost\u001b[39m\u001b[38;5;124m'\u001b[39m,\u001b[38;5;124m'\u001b[39m\u001b[38;5;124mAbatement Cost\u001b[39m\u001b[38;5;124m'\u001b[39m)\n",
      "\u001b[0;31mNameError\u001b[0m: name 'Table' is not defined"
     ]
    }
   ],
   "source": [
    "abatement_table = Table.read_table(\"abatement_data.csv\").where('Cost',are.between(-10.1,10)).where('Possible Savings', are.below(200))\n",
    "abatement_table_drop = abatement_table.drop('Emissions')\n",
    "abatement_table = abatement_table_drop.relabel('Possible Savings', 'Abatement Potential').relabel('Cost','Abatement Cost')\n",
    "abatement_table"
   ]
  },
  {
   "cell_type": "markdown",
   "id": "fc2c8285",
   "metadata": {},
   "source": [
    "Q5"
   ]
  },
  {
   "cell_type": "code",
   "execution_count": 3,
   "id": "be7f751a",
   "metadata": {},
   "outputs": [
    {
     "ename": "NameError",
     "evalue": "name 'abatement_table' is not defined",
     "output_type": "error",
     "traceback": [
      "\u001b[0;31m---------------------------------------------------------------------------\u001b[0m",
      "\u001b[0;31mNameError\u001b[0m                                 Traceback (most recent call last)",
      "Input \u001b[0;32mIn [3]\u001b[0m, in \u001b[0;36m<module>\u001b[0;34m\u001b[0m\n\u001b[1;32m      1\u001b[0m selection \u001b[38;5;241m=\u001b[39m \u001b[38;5;241m.\u001b[39m\u001b[38;5;241m.\u001b[39m\u001b[38;5;241m.\u001b[39m\n\u001b[0;32m----> 2\u001b[0m abatement_table_ap \u001b[38;5;241m=\u001b[39m \u001b[43mabatement_table\u001b[49m\u001b[38;5;241m.\u001b[39mwhere(\u001b[38;5;124m'\u001b[39m\u001b[38;5;124mRegion\u001b[39m\u001b[38;5;124m'\u001b[39m, \u001b[38;5;241m.\u001b[39m\u001b[38;5;241m.\u001b[39m\u001b[38;5;241m.\u001b[39m)\n\u001b[1;32m      3\u001b[0m abatement_table_ap\n",
      "\u001b[0;31mNameError\u001b[0m: name 'abatement_table' is not defined"
     ]
    }
   ],
   "source": [
    "selection = ...\n",
    "abatement_table_ap = abatement_table.where('Region', ...)\n",
    "abatement_table_ap"
   ]
  },
  {
   "cell_type": "code",
   "execution_count": 4,
   "id": "172b38c7",
   "metadata": {},
   "outputs": [
    {
     "ename": "NameError",
     "evalue": "name 'abatement_table' is not defined",
     "output_type": "error",
     "traceback": [
      "\u001b[0;31m---------------------------------------------------------------------------\u001b[0m",
      "\u001b[0;31mNameError\u001b[0m                                 Traceback (most recent call last)",
      "Input \u001b[0;32mIn [4]\u001b[0m, in \u001b[0;36m<module>\u001b[0;34m\u001b[0m\n\u001b[1;32m      1\u001b[0m selection \u001b[38;5;241m=\u001b[39m \u001b[38;5;124m'\u001b[39m\u001b[38;5;124mAsia Pacific\u001b[39m\u001b[38;5;124m'\u001b[39m\n\u001b[0;32m----> 2\u001b[0m abatement_table_ap \u001b[38;5;241m=\u001b[39m \u001b[43mabatement_table\u001b[49m\u001b[38;5;241m.\u001b[39mwhere(\u001b[38;5;124m'\u001b[39m\u001b[38;5;124mRegion\u001b[39m\u001b[38;5;124m'\u001b[39m, selection)\n\u001b[1;32m      3\u001b[0m abatement_table_ap\n",
      "\u001b[0;31mNameError\u001b[0m: name 'abatement_table' is not defined"
     ]
    }
   ],
   "source": [
    "selection = 'Asia Pacific'\n",
    "abatement_table_ap = abatement_table.where('Region', selection)\n",
    "abatement_table_ap"
   ]
  },
  {
   "cell_type": "markdown",
   "id": "5010e5ee",
   "metadata": {},
   "source": [
    "Q5c"
   ]
  },
  {
   "cell_type": "code",
   "execution_count": 5,
   "id": "84adbf3d",
   "metadata": {},
   "outputs": [
    {
     "ename": "NameError",
     "evalue": "name 'abatement_table_ap' is not defined",
     "output_type": "error",
     "traceback": [
      "\u001b[0;31m---------------------------------------------------------------------------\u001b[0m",
      "\u001b[0;31mNameError\u001b[0m                                 Traceback (most recent call last)",
      "Input \u001b[0;32mIn [5]\u001b[0m, in \u001b[0;36m<module>\u001b[0;34m\u001b[0m\n\u001b[0;32m----> 1\u001b[0m abatement_under_4 \u001b[38;5;241m=\u001b[39m \u001b[43mabatement_table_ap\u001b[49m\u001b[38;5;241m.\u001b[39mwhere(\u001b[38;5;241m.\u001b[39m\u001b[38;5;241m.\u001b[39m\u001b[38;5;241m.\u001b[39m)\n\u001b[1;32m      2\u001b[0m abatement_at_4 \u001b[38;5;241m=\u001b[39m \u001b[38;5;28msum\u001b[39m(\u001b[38;5;241m.\u001b[39m\u001b[38;5;241m.\u001b[39m\u001b[38;5;241m.\u001b[39m)\n\u001b[1;32m      3\u001b[0m abatement_at_4\n",
      "\u001b[0;31mNameError\u001b[0m: name 'abatement_table_ap' is not defined"
     ]
    }
   ],
   "source": [
    "abatement_under_4 = abatement_table_ap.where(...)\n",
    "abatement_at_4 = sum(...)\n",
    "abatement_at_4"
   ]
  },
  {
   "cell_type": "code",
   "execution_count": 6,
   "id": "61477791",
   "metadata": {},
   "outputs": [
    {
     "ename": "NameError",
     "evalue": "name 'abatement_table_ap' is not defined",
     "output_type": "error",
     "traceback": [
      "\u001b[0;31m---------------------------------------------------------------------------\u001b[0m",
      "\u001b[0;31mNameError\u001b[0m                                 Traceback (most recent call last)",
      "Input \u001b[0;32mIn [6]\u001b[0m, in \u001b[0;36m<module>\u001b[0;34m\u001b[0m\n\u001b[0;32m----> 1\u001b[0m abatement_under_4 \u001b[38;5;241m=\u001b[39m \u001b[43mabatement_table_ap\u001b[49m\u001b[38;5;241m.\u001b[39mwhere(\u001b[38;5;124m'\u001b[39m\u001b[38;5;124mAbatement Cost\u001b[39m\u001b[38;5;124m'\u001b[39m, are\u001b[38;5;241m.\u001b[39mbelow_or_equal_to(\u001b[38;5;241m4\u001b[39m))\n\u001b[1;32m      2\u001b[0m abatement_at_4 \u001b[38;5;241m=\u001b[39m \u001b[38;5;28msum\u001b[39m(abatement_under_4\u001b[38;5;241m.\u001b[39mcolumn(\u001b[38;5;124m'\u001b[39m\u001b[38;5;124mAbatement Potential\u001b[39m\u001b[38;5;124m'\u001b[39m))\n\u001b[1;32m      3\u001b[0m abatement_at_4\n",
      "\u001b[0;31mNameError\u001b[0m: name 'abatement_table_ap' is not defined"
     ]
    }
   ],
   "source": [
    "abatement_under_4 = abatement_table_ap.where('Abatement Cost', are.below_or_equal_to(4))\n",
    "abatement_at_4 = sum(abatement_under_4.column('Abatement Potential'))\n",
    "abatement_at_4"
   ]
  },
  {
   "cell_type": "markdown",
   "id": "377766f2",
   "metadata": {},
   "source": [
    "Q6a"
   ]
  },
  {
   "cell_type": "code",
   "execution_count": 7,
   "id": "0478d647",
   "metadata": {},
   "outputs": [],
   "source": [
    "def total_abatement(tax_level):\n",
    "    abatement_under_tax = abatement_table_ap.where('Abatement Cost', ...)\n",
    "    return sum(...)"
   ]
  },
  {
   "cell_type": "code",
   "execution_count": 8,
   "id": "6f665ff7",
   "metadata": {},
   "outputs": [],
   "source": [
    "def total_abatement(tax_level):\n",
    "    abatement_under_tax = abatement_table_ap.where('Abatement Cost', are.below_or_equal_to(tax_level))\n",
    "    return sum(abatement_under_tax.column('Abatement Potential'))"
   ]
  },
  {
   "cell_type": "markdown",
   "id": "5fb6020a",
   "metadata": {},
   "source": [
    "Q7a"
   ]
  },
  {
   "cell_type": "code",
   "execution_count": 9,
   "id": "f3c4e545",
   "metadata": {},
   "outputs": [
    {
     "ename": "NameError",
     "evalue": "name 'np' is not defined",
     "output_type": "error",
     "traceback": [
      "\u001b[0;31m---------------------------------------------------------------------------\u001b[0m",
      "\u001b[0;31mNameError\u001b[0m                                 Traceback (most recent call last)",
      "Input \u001b[0;32mIn [9]\u001b[0m, in \u001b[0;36m<module>\u001b[0;34m\u001b[0m\n\u001b[0;32m----> 1\u001b[0m cumulative_potential \u001b[38;5;241m=\u001b[39m \u001b[43mnp\u001b[49m\u001b[38;5;241m.\u001b[39mcumsum(\u001b[38;5;241m.\u001b[39m\u001b[38;5;241m.\u001b[39m\u001b[38;5;241m.\u001b[39m)\n\u001b[1;32m      2\u001b[0m abatement_table_cumulative \u001b[38;5;241m=\u001b[39m abatement_table_ap\u001b[38;5;241m.\u001b[39mwith_column(\u001b[38;5;241m.\u001b[39m\u001b[38;5;241m.\u001b[39m\u001b[38;5;241m.\u001b[39m)\n\u001b[1;32m      3\u001b[0m abatement_cumulative_sorted \u001b[38;5;241m=\u001b[39m abatement_table_cumulative\u001b[38;5;241m.\u001b[39mdrop(\u001b[38;5;241m.\u001b[39m\u001b[38;5;241m.\u001b[39m\u001b[38;5;241m.\u001b[39m)\u001b[38;5;241m.\u001b[39msort(\u001b[38;5;241m.\u001b[39m\u001b[38;5;241m.\u001b[39m\u001b[38;5;241m.\u001b[39m)\n",
      "\u001b[0;31mNameError\u001b[0m: name 'np' is not defined"
     ]
    }
   ],
   "source": [
    "cumulative_potential = np.cumsum(...)\n",
    "abatement_table_cumulative = abatement_table_ap.with_column(...)\n",
    "abatement_cumulative_sorted = abatement_table_cumulative.drop(...).sort(...)\n",
    "abatement_cumulative_sorted"
   ]
  },
  {
   "cell_type": "code",
   "execution_count": 10,
   "id": "0db2733c",
   "metadata": {},
   "outputs": [
    {
     "ename": "NameError",
     "evalue": "name 'np' is not defined",
     "output_type": "error",
     "traceback": [
      "\u001b[0;31m---------------------------------------------------------------------------\u001b[0m",
      "\u001b[0;31mNameError\u001b[0m                                 Traceback (most recent call last)",
      "Input \u001b[0;32mIn [10]\u001b[0m, in \u001b[0;36m<module>\u001b[0;34m\u001b[0m\n\u001b[0;32m----> 1\u001b[0m cumulative_potential \u001b[38;5;241m=\u001b[39m \u001b[43mnp\u001b[49m\u001b[38;5;241m.\u001b[39mcumsum(abatement_table_ap\u001b[38;5;241m.\u001b[39mcolumn(\u001b[38;5;241m0\u001b[39m))\n\u001b[1;32m      2\u001b[0m abatement_table_cumulative \u001b[38;5;241m=\u001b[39m abatement_table_ap\u001b[38;5;241m.\u001b[39mwith_column(\u001b[38;5;124m'\u001b[39m\u001b[38;5;124mCumulative Abatement Potential\u001b[39m\u001b[38;5;124m'\u001b[39m, cumulative_potential)\n\u001b[1;32m      3\u001b[0m abatement_cumulative_sorted \u001b[38;5;241m=\u001b[39m abatement_table_cumulative\u001b[38;5;241m.\u001b[39mdrop(\u001b[38;5;124m'\u001b[39m\u001b[38;5;124mAbatement Potential\u001b[39m\u001b[38;5;124m'\u001b[39m)\u001b[38;5;241m.\u001b[39msort(\u001b[38;5;124m'\u001b[39m\u001b[38;5;124mAbatement Cost\u001b[39m\u001b[38;5;124m'\u001b[39m)\n",
      "\u001b[0;31mNameError\u001b[0m: name 'np' is not defined"
     ]
    }
   ],
   "source": [
    "cumulative_potential = np.cumsum(abatement_table_ap.column(0))\n",
    "abatement_table_cumulative = abatement_table_ap.with_column('Cumulative Abatement Potential', cumulative_potential)\n",
    "abatement_cumulative_sorted = abatement_table_cumulative.drop('Abatement Potential').sort('Abatement Cost')\n",
    "abatement_cumulative_sorted"
   ]
  },
  {
   "cell_type": "markdown",
   "id": "13d37a01",
   "metadata": {},
   "source": [
    "Q9"
   ]
  },
  {
   "cell_type": "code",
   "execution_count": 12,
   "id": "768c9c10",
   "metadata": {},
   "outputs": [
    {
     "ename": "AttributeError",
     "evalue": "'ellipsis' object has no attribute 'column'",
     "output_type": "error",
     "traceback": [
      "\u001b[0;31m---------------------------------------------------------------------------\u001b[0m",
      "\u001b[0;31mAttributeError\u001b[0m                            Traceback (most recent call last)",
      "Input \u001b[0;32mIn [12]\u001b[0m, in \u001b[0;36m<module>\u001b[0;34m\u001b[0m\n\u001b[1;32m      3\u001b[0m abatement_table_us\n\u001b[1;32m      5\u001b[0m \u001b[38;5;66;03m#Prepare data for plotting (North America. _us)\u001b[39;00m\n\u001b[0;32m----> 6\u001b[0m width \u001b[38;5;241m=\u001b[39m \u001b[43mabatement_table_us\u001b[49m\u001b[38;5;241;43m.\u001b[39;49m\u001b[43mcolumn\u001b[49m(\u001b[38;5;241m.\u001b[39m\u001b[38;5;241m.\u001b[39m\u001b[38;5;241m.\u001b[39m)\n\u001b[1;32m      7\u001b[0m height \u001b[38;5;241m=\u001b[39m abatement_table_us\u001b[38;5;241m.\u001b[39mcolumn(\u001b[38;5;241m.\u001b[39m\u001b[38;5;241m.\u001b[39m\u001b[38;5;241m.\u001b[39m)\n\u001b[1;32m      8\u001b[0m new_x \u001b[38;5;241m=\u001b[39m find_x_pos(width)\n",
      "\u001b[0;31mAttributeError\u001b[0m: 'ellipsis' object has no attribute 'column'"
     ]
    }
   ],
   "source": [
    "selection = ...\n",
    "abatement_table_us = ...\n",
    "abatement_table_us\n",
    "\n",
    "#Prepare data for plotting (North America. _us)\n",
    "width = abatement_table_us.column(...)\n",
    "height = abatement_table_us.column(...)\n",
    "new_x = find_x_pos(width)\n",
    "\n",
    "colors_mapped = list(pd.Series(abatement_table_us['Abatement technology']).map(abatement_colors_dict))\n",
    "abatement_table_us = abatement_table_us.with_column('Color', colors_mapped)\n",
    "\n",
    "mckinsey_curve(3, abatement_table_us)"
   ]
  },
  {
   "cell_type": "code",
   "execution_count": 13,
   "id": "40b3f5a3",
   "metadata": {},
   "outputs": [
    {
     "ename": "NameError",
     "evalue": "name 'abatement_table' is not defined",
     "output_type": "error",
     "traceback": [
      "\u001b[0;31m---------------------------------------------------------------------------\u001b[0m",
      "\u001b[0;31mNameError\u001b[0m                                 Traceback (most recent call last)",
      "Input \u001b[0;32mIn [13]\u001b[0m, in \u001b[0;36m<module>\u001b[0;34m\u001b[0m\n\u001b[1;32m      1\u001b[0m selection \u001b[38;5;241m=\u001b[39m \u001b[38;5;124m'\u001b[39m\u001b[38;5;124mNorth America\u001b[39m\u001b[38;5;124m'\u001b[39m\n\u001b[0;32m----> 2\u001b[0m abatement_table_us \u001b[38;5;241m=\u001b[39m \u001b[43mabatement_table\u001b[49m\u001b[38;5;241m.\u001b[39mwhere(\u001b[38;5;124m'\u001b[39m\u001b[38;5;124mRegion\u001b[39m\u001b[38;5;124m'\u001b[39m, selection)\n\u001b[1;32m      3\u001b[0m abatement_table_us\n\u001b[1;32m      5\u001b[0m \u001b[38;5;66;03m#Prepare data for plotting (North America. _us)\u001b[39;00m\n",
      "\u001b[0;31mNameError\u001b[0m: name 'abatement_table' is not defined"
     ]
    }
   ],
   "source": [
    "selection = 'North America'\n",
    "abatement_table_us = abatement_table.where('Region', selection)\n",
    "abatement_table_us\n",
    "\n",
    "#Prepare data for plotting (North America. _us)\n",
    "width = abatement_table_us.column('Abatement Potential')\n",
    "height = abatement_table_us.column('Abatement Cost')\n",
    "new_x = find_x_pos(width)\n",
    "\n",
    "colors_mapped = list(pd.Series(abatement_table_us['Abatement technology']).map(abatement_colors_dict))\n",
    "abatement_table_us = abatement_table_us.with_column('Color', colors_mapped)\n",
    "\n",
    "mckinsey_curve(3, abatement_table_us)"
   ]
  },
  {
   "cell_type": "code",
   "execution_count": null,
   "id": "2af3cd1a",
   "metadata": {},
   "outputs": [],
   "source": []
  }
 ],
 "metadata": {
  "kernelspec": {
   "display_name": "Python 3 (ipykernel)",
   "language": "python",
   "name": "python3"
  },
  "language_info": {
   "codemirror_mode": {
    "name": "ipython",
    "version": 3
   },
   "file_extension": ".py",
   "mimetype": "text/x-python",
   "name": "python",
   "nbconvert_exporter": "python",
   "pygments_lexer": "ipython3",
   "version": "3.9.10"
  }
 },
 "nbformat": 4,
 "nbformat_minor": 5
}
