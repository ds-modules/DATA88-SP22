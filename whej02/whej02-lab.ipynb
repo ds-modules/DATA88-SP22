{
 "cells": [
  {
   "cell_type": "markdown",
   "metadata": {
    "cell_id": "00000-adb0a847-77b1-4ad2-9fb1-a7bd534871ef",
    "deepnote_cell_type": "text-cell-h1",
    "is_collapsed": false,
    "tags": []
   },
   "source": [
    "# Lab 2: Comparing Urban &amp; Rural Environmental Data"
   ]
  },
  {
   "cell_type": "markdown",
   "metadata": {
    "cell_id": "00001-4fbb46dd-932d-4d07-89dd-91f4b279c80b",
    "deepnote_cell_type": "markdown",
    "tags": []
   },
   "source": [
    "This week we are going to continue exploring the White House Environmental Justice dataset from last week.\n",
    "\n",
    "Our main objective for this notebook is to use table manipulation and data visualization to compare environmental data in urban and rural regions.\n",
    "\n",
    "The first half of this notebook will be a introduction on how to use some important coding tools, and the latter half will be a guided project where you will be actively using those tools to analyze some data!\n",
    "\n",
    "Please refer to [this reference sheet](http://data8.org/sp19/python-reference.html) as methods add up. This was the authors' favourite source while taking Data 8! Also, remember that OH/Lab section is a great resource!"
   ]
  },
  {
   "cell_type": "code",
   "execution_count": 6,
   "metadata": {
    "cell_id": "00001-3721f70c-0be9-4a25-ac04-1fdad8e4fd82",
    "deepnote_cell_type": "code",
    "deepnote_to_be_reexecuted": false,
    "execution_millis": 3423,
    "execution_start": 1636752028936,
    "source_hash": "b3d924fd",
    "tags": []
   },
   "outputs": [],
   "source": [
    "#Just run this cell!\n",
    "\n",
    "#Importing packages\n",
    "import matplotlib\n",
    "matplotlib.use('Agg')\n",
    "from datascience import *\n",
    "%matplotlib inline\n",
    "import matplotlib.pyplot as plt\n",
    "import numpy as np\n",
    "plt.style.use('fivethirtyeight')"
   ]
  },
  {
   "cell_type": "markdown",
   "metadata": {
    "cell_id": "00003-8d519eae-3bb8-45a2-b4f8-73690b58cb13",
    "deepnote_cell_type": "text-cell-h2",
    "is_collapsed": false,
    "tags": []
   },
   "source": [
    "## Manipulating Tables"
   ]
  },
  {
   "cell_type": "markdown",
   "metadata": {
    "cell_id": "00005-4527fa1d-d8b7-4b04-b107-77e24ac51e10",
    "deepnote_cell_type": "markdown",
    "tags": []
   },
   "source": [
    "In this introductory section, we will be using a dataset called `Food_Production.csv` that shows the greenhouse gas emissions (in kg CO2) involved in different stages of production for different foods.\n",
    "\n",
    "Run the cell with the Table.read_table('file_name') function below to load the dataset into a table."
   ]
  },
  {
   "cell_type": "code",
   "execution_count": 4,
   "metadata": {
    "cell_id": "00006-99e6c8a0-1a8e-4038-b32c-9b8ab924b3f3",
    "deepnote_cell_type": "code",
    "deepnote_to_be_reexecuted": false,
    "execution_millis": 100,
    "execution_start": 1636752032380,
    "source_hash": "bf242008",
    "tags": []
   },
   "outputs": [],
   "source": [
    "#Run this cell with correct function to import the data\n",
    "food_production = Table.read_table('Food_Production.csv')"
   ]
  },
  {
   "cell_type": "markdown",
   "metadata": {
    "cell_id": "00007-f189bfa2-6409-44e3-8594-66ac5d120710",
    "deepnote_cell_type": "markdown",
    "tags": []
   },
   "source": [
    "**Viewing a Table**\n",
    "\n",
    "Notice how the cell above does not display a table. Instead, it is just there to assign the variable `food_production` to the new table.\n",
    "\n",
    "To use a table manipulation method in python, the general approach to calling the method (i.e using the method) is: `tbl.method(parameters)`.\n",
    "\n",
    "If we want to preview the first few rows of the table, we need to use the method `.show()`. It takes in one parameter, which is the number of rows we want to view.\n",
    "\n",
    "Use `.show()` to view 5 rows in the table `food_production`."
   ]
  },
  {
   "cell_type": "code",
   "execution_count": 3,
   "metadata": {
    "cell_id": "00008-171e560f-5be5-4a0f-bc71-57e60e7959cf",
    "deepnote_cell_type": "code",
    "deepnote_to_be_reexecuted": false,
    "execution_millis": 20,
    "execution_start": 1636752032484,
    "source_hash": "80faa755",
    "tags": []
   },
   "outputs": [
    {
     "data": {
      "text/html": [
       "<table border=\"1\" class=\"dataframe\">\n",
       "    <thead>\n",
       "        <tr>\n",
       "            <th>Food product</th> <th>Land use change</th> <th>Animal Feed</th> <th>Farm</th> <th>Processing</th> <th>Transport</th> <th>Packaging</th> <th>Retail</th> <th>Total_emissions</th>\n",
       "        </tr>\n",
       "    </thead>\n",
       "    <tbody>\n",
       "        <tr>\n",
       "            <td>Wheat & Rye (Bread)</td> <td>0.1            </td> <td>0          </td> <td>0.8 </td> <td>0.2       </td> <td>0.1      </td> <td>0.1      </td> <td>0.1   </td> <td>1.4            </td>\n",
       "        </tr>\n",
       "        <tr>\n",
       "            <td>Maize (Meal)       </td> <td>0.3            </td> <td>0          </td> <td>0.5 </td> <td>0.1       </td> <td>0.1      </td> <td>0.1      </td> <td>0     </td> <td>1.1            </td>\n",
       "        </tr>\n",
       "        <tr>\n",
       "            <td>Barley (Beer)      </td> <td>0              </td> <td>0          </td> <td>0.2 </td> <td>0.1       </td> <td>0        </td> <td>0.5      </td> <td>0.3   </td> <td>1.1            </td>\n",
       "        </tr>\n",
       "        <tr>\n",
       "            <td>Oatmeal            </td> <td>0              </td> <td>0          </td> <td>1.4 </td> <td>0         </td> <td>0.1      </td> <td>0.1      </td> <td>0     </td> <td>1.6            </td>\n",
       "        </tr>\n",
       "        <tr>\n",
       "            <td>Rice               </td> <td>0              </td> <td>0          </td> <td>3.6 </td> <td>0.1       </td> <td>0.1      </td> <td>0.1      </td> <td>0.1   </td> <td>4              </td>\n",
       "        </tr>\n",
       "    </tbody>\n",
       "</table>\n",
       "<p>... (38 rows omitted)</p>"
      ],
      "text/plain": [
       "<IPython.core.display.HTML object>"
      ]
     },
     "metadata": {},
     "output_type": "display_data"
    }
   ],
   "source": [
    "food_production..."
   ]
  },
  {
   "cell_type": "markdown",
   "metadata": {
    "cell_id": "00009-39a57d70-1745-4955-acdd-6e40e02567c6",
    "deepnote_cell_type": "markdown",
    "tags": []
   },
   "source": [
    "**Taking columns or rows from a table**\n",
    "\n",
    "Now that we have some idea of the table we are working with, let's try manipulating this table by extracting columns and rows to create a new table.\n",
    "\n",
    "First, let's try created a new table with just the column `Food product` and `Total_emissions`. \n",
    "To create a new table comprised of certain columns, we need to use the method `.select()`. This method takes in column labels (as strings) or column indices (as integers) that correspond to the columns we want to extract. \n",
    "\n",
    "Do this using `.select()`!"
   ]
  },
  {
   "cell_type": "code",
   "execution_count": 4,
   "metadata": {
    "cell_id": "00010-460923e0-9e2c-4aa5-a179-d355ed381022",
    "deepnote_cell_type": "code",
    "deepnote_to_be_reexecuted": false,
    "execution_millis": 65,
    "execution_start": 1636752032516,
    "source_hash": "17a2ffa0",
    "tags": []
   },
   "outputs": [
    {
     "data": {
      "text/html": [
       "<table border=\"1\" class=\"dataframe\">\n",
       "    <thead>\n",
       "        <tr>\n",
       "            <th>Food product</th> <th>Total_emissions</th>\n",
       "        </tr>\n",
       "    </thead>\n",
       "    <tbody>\n",
       "        <tr>\n",
       "            <td>Wheat & Rye (Bread)</td> <td>1.4            </td>\n",
       "        </tr>\n",
       "        <tr>\n",
       "            <td>Maize (Meal)       </td> <td>1.1            </td>\n",
       "        </tr>\n",
       "        <tr>\n",
       "            <td>Barley (Beer)      </td> <td>1.1            </td>\n",
       "        </tr>\n",
       "        <tr>\n",
       "            <td>Oatmeal            </td> <td>1.6            </td>\n",
       "        </tr>\n",
       "        <tr>\n",
       "            <td>Rice               </td> <td>4              </td>\n",
       "        </tr>\n",
       "        <tr>\n",
       "            <td>Potatoes           </td> <td>0.3            </td>\n",
       "        </tr>\n",
       "        <tr>\n",
       "            <td>Cassava            </td> <td>0.9            </td>\n",
       "        </tr>\n",
       "        <tr>\n",
       "            <td>Cane Sugar         </td> <td>2.6            </td>\n",
       "        </tr>\n",
       "        <tr>\n",
       "            <td>Beet Sugar         </td> <td>1.4            </td>\n",
       "        </tr>\n",
       "        <tr>\n",
       "            <td>Other Pulses       </td> <td>1.6            </td>\n",
       "        </tr>\n",
       "    </tbody>\n",
       "</table>\n",
       "<p>... (33 rows omitted)</p>"
      ],
      "text/plain": [
       "Food product        | Total_emissions\n",
       "Wheat & Rye (Bread) | 1.4\n",
       "Maize (Meal)        | 1.1\n",
       "Barley (Beer)       | 1.1\n",
       "Oatmeal             | 1.6\n",
       "Rice                | 4\n",
       "Potatoes            | 0.3\n",
       "Cassava             | 0.9\n",
       "Cane Sugar          | 2.6\n",
       "Beet Sugar          | 1.4\n",
       "Other Pulses        | 1.6\n",
       "... (33 rows omitted)"
      ]
     },
     "execution_count": 4,
     "metadata": {},
     "output_type": "execute_result"
    }
   ],
   "source": [
    "#Using .select() with column labels\n",
    "food_production..."
   ]
  },
  {
   "cell_type": "markdown",
   "metadata": {},
   "source": [
    "You can also select columns with their indicies. The first column has index number 0, not 1! The 2nd column has index number 1, and so on."
   ]
  },
  {
   "cell_type": "markdown",
   "metadata": {},
   "source": [
    "Use `.select()` with indicies to select the same columns as the task above."
   ]
  },
  {
   "cell_type": "code",
   "execution_count": 5,
   "metadata": {
    "cell_id": "00011-0b5ef326-1a97-41c6-9b89-0c370cd2a5c7",
    "deepnote_cell_type": "code",
    "deepnote_to_be_reexecuted": false,
    "execution_millis": 2,
    "execution_start": 1636752032580,
    "source_hash": "41a5c72b",
    "tags": []
   },
   "outputs": [
    {
     "data": {
      "text/html": [
       "<table border=\"1\" class=\"dataframe\">\n",
       "    <thead>\n",
       "        <tr>\n",
       "            <th>Food product</th> <th>Total_emissions</th>\n",
       "        </tr>\n",
       "    </thead>\n",
       "    <tbody>\n",
       "        <tr>\n",
       "            <td>Wheat & Rye (Bread)</td> <td>1.4            </td>\n",
       "        </tr>\n",
       "        <tr>\n",
       "            <td>Maize (Meal)       </td> <td>1.1            </td>\n",
       "        </tr>\n",
       "        <tr>\n",
       "            <td>Barley (Beer)      </td> <td>1.1            </td>\n",
       "        </tr>\n",
       "        <tr>\n",
       "            <td>Oatmeal            </td> <td>1.6            </td>\n",
       "        </tr>\n",
       "        <tr>\n",
       "            <td>Rice               </td> <td>4              </td>\n",
       "        </tr>\n",
       "        <tr>\n",
       "            <td>Potatoes           </td> <td>0.3            </td>\n",
       "        </tr>\n",
       "        <tr>\n",
       "            <td>Cassava            </td> <td>0.9            </td>\n",
       "        </tr>\n",
       "        <tr>\n",
       "            <td>Cane Sugar         </td> <td>2.6            </td>\n",
       "        </tr>\n",
       "        <tr>\n",
       "            <td>Beet Sugar         </td> <td>1.4            </td>\n",
       "        </tr>\n",
       "        <tr>\n",
       "            <td>Other Pulses       </td> <td>1.6            </td>\n",
       "        </tr>\n",
       "    </tbody>\n",
       "</table>\n",
       "<p>... (33 rows omitted)</p>"
      ],
      "text/plain": [
       "Food product        | Total_emissions\n",
       "Wheat & Rye (Bread) | 1.4\n",
       "Maize (Meal)        | 1.1\n",
       "Barley (Beer)       | 1.1\n",
       "Oatmeal             | 1.6\n",
       "Rice                | 4\n",
       "Potatoes            | 0.3\n",
       "Cassava             | 0.9\n",
       "Cane Sugar          | 2.6\n",
       "Beet Sugar          | 1.4\n",
       "Other Pulses        | 1.6\n",
       "... (33 rows omitted)"
      ]
     },
     "execution_count": 5,
     "metadata": {},
     "output_type": "execute_result"
    }
   ],
   "source": [
    "#Using .select() with column indices\n",
    "#Notice how \n",
    "food_production..."
   ]
  },
  {
   "cell_type": "markdown",
   "metadata": {
    "cell_id": "00012-aab3d26c-9abf-4cdc-a700-53c2316b6a1c",
    "deepnote_cell_type": "markdown",
    "tags": []
   },
   "source": [
    "To create a new table comprised of certain rows, we need to use the method `.take()`. This method take in either a single integer or an array of integers that correspond to the index position/positions of the rows you want to extract.\n",
    "\n",
    "Use `.take()` to select the first row of the table."
   ]
  },
  {
   "cell_type": "code",
   "execution_count": 6,
   "metadata": {
    "cell_id": "00013-461972bc-27a0-4abc-8179-e5b1553732c5",
    "deepnote_cell_type": "code",
    "deepnote_to_be_reexecuted": false,
    "execution_millis": 43,
    "execution_start": 1636752032581,
    "source_hash": "e2ad7b78",
    "tags": []
   },
   "outputs": [
    {
     "data": {
      "text/html": [
       "<table border=\"1\" class=\"dataframe\">\n",
       "    <thead>\n",
       "        <tr>\n",
       "            <th>Food product</th> <th>Land use change</th> <th>Animal Feed</th> <th>Farm</th> <th>Processing</th> <th>Transport</th> <th>Packaging</th> <th>Retail</th> <th>Total_emissions</th>\n",
       "        </tr>\n",
       "    </thead>\n",
       "    <tbody>\n",
       "        <tr>\n",
       "            <td>Wheat & Rye (Bread)</td> <td>0.1            </td> <td>0          </td> <td>0.8 </td> <td>0.2       </td> <td>0.1      </td> <td>0.1      </td> <td>0.1   </td> <td>1.4            </td>\n",
       "        </tr>\n",
       "    </tbody>\n",
       "</table>"
      ],
      "text/plain": [
       "Food product        | Land use change | Animal Feed | Farm | Processing | Transport | Packaging | Retail | Total_emissions\n",
       "Wheat & Rye (Bread) | 0.1             | 0           | 0.8  | 0.2        | 0.1       | 0.1       | 0.1    | 1.4"
      ]
     },
     "execution_count": 6,
     "metadata": {},
     "output_type": "execute_result"
    }
   ],
   "source": [
    "#Taking the first row of the table\n",
    "food_production..."
   ]
  },
  {
   "cell_type": "markdown",
   "metadata": {},
   "source": [
    "Next, use the `make_array`function to first create an array. Then, use this to select rows at index 1, 3, 5, and 7. If you're unsure of how this works, try googling it or check the data 8 reference sheet."
   ]
  },
  {
   "cell_type": "code",
   "execution_count": 7,
   "metadata": {
    "cell_id": "00009-e2a43407-6364-4c99-b9a4-314756ccd8ee",
    "deepnote_cell_type": "code",
    "deepnote_to_be_reexecuted": false,
    "execution_millis": 3,
    "execution_start": 1636752032624,
    "source_hash": "c54a5afb",
    "tags": []
   },
   "outputs": [
    {
     "data": {
      "text/html": [
       "<table border=\"1\" class=\"dataframe\">\n",
       "    <thead>\n",
       "        <tr>\n",
       "            <th>Food product</th> <th>Land use change</th> <th>Animal Feed</th> <th>Farm</th> <th>Processing</th> <th>Transport</th> <th>Packaging</th> <th>Retail</th> <th>Total_emissions</th>\n",
       "        </tr>\n",
       "    </thead>\n",
       "    <tbody>\n",
       "        <tr>\n",
       "            <td>Maize (Meal)</td> <td>0.3            </td> <td>0          </td> <td>0.5 </td> <td>0.1       </td> <td>0.1      </td> <td>0.1      </td> <td>0     </td> <td>1.1            </td>\n",
       "        </tr>\n",
       "        <tr>\n",
       "            <td>Oatmeal     </td> <td>0              </td> <td>0          </td> <td>1.4 </td> <td>0         </td> <td>0.1      </td> <td>0.1      </td> <td>0     </td> <td>1.6            </td>\n",
       "        </tr>\n",
       "        <tr>\n",
       "            <td>Potatoes    </td> <td>0              </td> <td>0          </td> <td>0.2 </td> <td>0         </td> <td>0.1      </td> <td>0        </td> <td>0     </td> <td>0.3            </td>\n",
       "        </tr>\n",
       "        <tr>\n",
       "            <td>Cane Sugar  </td> <td>1.2            </td> <td>0          </td> <td>0.5 </td> <td>0         </td> <td>0.8      </td> <td>0.1      </td> <td>0     </td> <td>2.6            </td>\n",
       "        </tr>\n",
       "    </tbody>\n",
       "</table>"
      ],
      "text/plain": [
       "Food product | Land use change | Animal Feed | Farm | Processing | Transport | Packaging | Retail | Total_emissions\n",
       "Maize (Meal) | 0.3             | 0           | 0.5  | 0.1        | 0.1       | 0.1       | 0      | 1.1\n",
       "Oatmeal      | 0               | 0           | 1.4  | 0          | 0.1       | 0.1       | 0      | 1.6\n",
       "Potatoes     | 0               | 0           | 0.2  | 0          | 0.1       | 0         | 0      | 0.3\n",
       "Cane Sugar   | 1.2             | 0           | 0.5  | 0          | 0.8       | 0.1       | 0      | 2.6"
      ]
     },
     "execution_count": 7,
     "metadata": {},
     "output_type": "execute_result"
    }
   ],
   "source": [
    "#Taking rows at index 1, 3, 5, and 7\n",
    "#Notice how we are inputting an array into the method this time\n",
    "row_indices = ...\n",
    "food_production..."
   ]
  },
  {
   "cell_type": "markdown",
   "metadata": {
    "cell_id": "00014-ac11c31e-eeb2-4897-ba75-d8989e0c11e6",
    "deepnote_cell_type": "markdown",
    "tags": []
   },
   "source": [
    "**Removing columns**\n",
    "\n",
    "The method `.drop()` can be used to create a copy of a table with removed columns. It can take either column labels or indices.\n",
    "\n",
    "Please use it to remove the `Processing` and `Packaging` columns."
   ]
  },
  {
   "cell_type": "code",
   "execution_count": 8,
   "metadata": {
    "cell_id": "00015-1901758a-5a0a-4843-96d7-ffc232adc8af",
    "deepnote_cell_type": "code",
    "deepnote_to_be_reexecuted": false,
    "execution_millis": 45,
    "execution_start": 1636752032625,
    "source_hash": "58d3df9b",
    "tags": []
   },
   "outputs": [
    {
     "data": {
      "text/html": [
       "<table border=\"1\" class=\"dataframe\">\n",
       "    <thead>\n",
       "        <tr>\n",
       "            <th>Food product</th> <th>Land use change</th> <th>Animal Feed</th> <th>Farm</th> <th>Transport</th> <th>Retail</th> <th>Total_emissions</th>\n",
       "        </tr>\n",
       "    </thead>\n",
       "    <tbody>\n",
       "        <tr>\n",
       "            <td>Wheat & Rye (Bread)</td> <td>0.1            </td> <td>0          </td> <td>0.8 </td> <td>0.1      </td> <td>0.1   </td> <td>1.4            </td>\n",
       "        </tr>\n",
       "        <tr>\n",
       "            <td>Maize (Meal)       </td> <td>0.3            </td> <td>0          </td> <td>0.5 </td> <td>0.1      </td> <td>0     </td> <td>1.1            </td>\n",
       "        </tr>\n",
       "        <tr>\n",
       "            <td>Barley (Beer)      </td> <td>0              </td> <td>0          </td> <td>0.2 </td> <td>0        </td> <td>0.3   </td> <td>1.1            </td>\n",
       "        </tr>\n",
       "        <tr>\n",
       "            <td>Oatmeal            </td> <td>0              </td> <td>0          </td> <td>1.4 </td> <td>0.1      </td> <td>0     </td> <td>1.6            </td>\n",
       "        </tr>\n",
       "        <tr>\n",
       "            <td>Rice               </td> <td>0              </td> <td>0          </td> <td>3.6 </td> <td>0.1      </td> <td>0.1   </td> <td>4              </td>\n",
       "        </tr>\n",
       "        <tr>\n",
       "            <td>Potatoes           </td> <td>0              </td> <td>0          </td> <td>0.2 </td> <td>0.1      </td> <td>0     </td> <td>0.3            </td>\n",
       "        </tr>\n",
       "        <tr>\n",
       "            <td>Cassava            </td> <td>0.6            </td> <td>0          </td> <td>0.2 </td> <td>0.1      </td> <td>0     </td> <td>0.9            </td>\n",
       "        </tr>\n",
       "        <tr>\n",
       "            <td>Cane Sugar         </td> <td>1.2            </td> <td>0          </td> <td>0.5 </td> <td>0.8      </td> <td>0     </td> <td>2.6            </td>\n",
       "        </tr>\n",
       "        <tr>\n",
       "            <td>Beet Sugar         </td> <td>0              </td> <td>0          </td> <td>0.5 </td> <td>0.6      </td> <td>0     </td> <td>1.4            </td>\n",
       "        </tr>\n",
       "        <tr>\n",
       "            <td>Other Pulses       </td> <td>0              </td> <td>0          </td> <td>1.1 </td> <td>0.1      </td> <td>0     </td> <td>1.6            </td>\n",
       "        </tr>\n",
       "    </tbody>\n",
       "</table>\n",
       "<p>... (33 rows omitted)</p>"
      ],
      "text/plain": [
       "Food product        | Land use change | Animal Feed | Farm | Transport | Retail | Total_emissions\n",
       "Wheat & Rye (Bread) | 0.1             | 0           | 0.8  | 0.1       | 0.1    | 1.4\n",
       "Maize (Meal)        | 0.3             | 0           | 0.5  | 0.1       | 0      | 1.1\n",
       "Barley (Beer)       | 0               | 0           | 0.2  | 0         | 0.3    | 1.1\n",
       "Oatmeal             | 0               | 0           | 1.4  | 0.1       | 0      | 1.6\n",
       "Rice                | 0               | 0           | 3.6  | 0.1       | 0.1    | 4\n",
       "Potatoes            | 0               | 0           | 0.2  | 0.1       | 0      | 0.3\n",
       "Cassava             | 0.6             | 0           | 0.2  | 0.1       | 0      | 0.9\n",
       "Cane Sugar          | 1.2             | 0           | 0.5  | 0.8       | 0      | 2.6\n",
       "Beet Sugar          | 0               | 0           | 0.5  | 0.6       | 0      | 1.4\n",
       "Other Pulses        | 0               | 0           | 1.1  | 0.1       | 0      | 1.6\n",
       "... (33 rows omitted)"
      ]
     },
     "execution_count": 8,
     "metadata": {},
     "output_type": "execute_result"
    }
   ],
   "source": [
    "#Remove Processing column\n",
    "food_production..."
   ]
  },
  {
   "cell_type": "markdown",
   "metadata": {
    "cell_id": "00015-5ed1159d-e304-4eaa-9a82-72333d1dad16",
    "deepnote_cell_type": "markdown",
    "tags": []
   },
   "source": [
    "**Extracting a column as an array**\n",
    "\n",
    "Another very useful method is `.column()`, which takes a column label or column index and outputs that column as an array.\n",
    "\n",
    "Note: this is not to be confused with `.select()`, which outputs a table instead of an array.\n",
    "\n",
    "In the task below, assign the variable `transport` to an array of all the values in the column `Transport` (CO2 greenhouse gas emissions released in the transport of 1 kg of that food product)."
   ]
  },
  {
   "cell_type": "code",
   "execution_count": 9,
   "metadata": {
    "cell_id": "00016-7b47a8ff-15e7-4fed-843a-ba0d6b25b8c8",
    "deepnote_cell_type": "code",
    "deepnote_to_be_reexecuted": false,
    "execution_millis": 3,
    "execution_start": 1636752032669,
    "source_hash": "552ab697",
    "tags": []
   },
   "outputs": [
    {
     "data": {
      "text/plain": [
       "array([0.1, 0.1, 0. , 0.1, 0.1, 0.1, 0.1, 0.8, 0.6, 0.1, 0.1, 0.1, 0.1,\n",
       "       0.1, 0.2, 0.3, 0.2, 0.2, 0.2, 0.5, 0.2, 0.1, 0.1, 0.1, 0.2, 0.1,\n",
       "       0.3, 0.1, 0.2, 0.1, 0.2, 0.1, 0.1, 0.3, 0.4, 0.5, 0.3, 0.3, 0.1,\n",
       "       0.1, 0.1, 0.1, 0.2])"
      ]
     },
     "execution_count": 9,
     "metadata": {},
     "output_type": "execute_result"
    }
   ],
   "source": [
    "#Extracting the column as an array\n",
    "transport = food_production...\n",
    "transport"
   ]
  },
  {
   "cell_type": "markdown",
   "metadata": {},
   "source": [
    "Now that we have the values as an array, we can apply array methods onto it. In this case, use `np.mean()` to find the mean transport emissions across the different products, and then separately use `.item()` to extract the 5th item of the array."
   ]
  },
  {
   "cell_type": "code",
   "execution_count": 10,
   "metadata": {
    "cell_id": "00017-bcd28408-2f64-475c-b991-cf3078bb5b15",
    "deepnote_cell_type": "code",
    "deepnote_to_be_reexecuted": false,
    "execution_millis": 1756348,
    "execution_start": 1636752032712,
    "source_hash": "3897ab76",
    "tags": []
   },
   "outputs": [
    {
     "data": {
      "text/plain": [
       "0.1953488372093023"
      ]
     },
     "execution_count": 10,
     "metadata": {},
     "output_type": "execute_result"
    }
   ],
   "source": [
    "#Applying np.mean() onto the array\n",
    "...(transport)"
   ]
  },
  {
   "cell_type": "code",
   "execution_count": 11,
   "metadata": {
    "cell_id": "00018-71822ab2-5a18-459e-b772-077a55fbac6f",
    "deepnote_cell_type": "code",
    "deepnote_to_be_reexecuted": false,
    "execution_millis": 1,
    "execution_start": 1636752032713,
    "source_hash": "c32e42d2",
    "tags": []
   },
   "outputs": [
    {
     "data": {
      "text/plain": [
       "0.1"
      ]
     },
     "execution_count": 11,
     "metadata": {},
     "output_type": "execute_result"
    }
   ],
   "source": [
    "#Extracting the fifth item from the array\n",
    "transport..."
   ]
  },
  {
   "cell_type": "markdown",
   "metadata": {
    "cell_id": "00018-648d830a-57e5-4c01-922a-d7c3595874ea",
    "deepnote_cell_type": "markdown",
    "tags": []
   },
   "source": [
    "**Sorting tables**\n",
    "\n",
    "If we want to sort a table, we need to use the method `.sort()`. This lets us sort a table by a given column, which is inputted as either a column label or column index. The method also takes in an optional parameter, which is used to indicate whether or not it should be sorted in descending order (by default, this will be set to `True`).\n",
    "\n",
    "If the column you want to sort by contains numerical values, the table will be sorted in ascending or descending order of those values. If the column contains strings, the table will be sorted in alphabetical or reverse alphabetical order. \n",
    "\n",
    "In the examples below, your task is to sort the table by `Total_emissions` in descending order, and then we sort the table in alphabetical order by `Food_product`."
   ]
  },
  {
   "cell_type": "code",
   "execution_count": 5,
   "metadata": {
    "cell_id": "00019-d73aaf2d-1b06-4fe4-935c-40281e2d8f63",
    "deepnote_cell_type": "code",
    "deepnote_to_be_reexecuted": false,
    "execution_millis": 1756151,
    "execution_start": 1636752032800,
    "source_hash": "a21ddc8f",
    "tags": []
   },
   "outputs": [
    {
     "data": {
      "text/html": [
       "<table border=\"1\" class=\"dataframe\">\n",
       "    <thead>\n",
       "        <tr>\n",
       "            <th>Food product</th> <th>Land use change</th> <th>Animal Feed</th> <th>Farm</th> <th>Processing</th> <th>Transport</th> <th>Packaging</th> <th>Retail</th> <th>Total_emissions</th>\n",
       "        </tr>\n",
       "    </thead>\n",
       "    <tbody>\n",
       "        <tr>\n",
       "            <td>Beef (beef herd) </td> <td>16.3           </td> <td>1.9        </td> <td>39.4</td> <td>1.3       </td> <td>0.3      </td> <td>0.2      </td> <td>0.2   </td> <td>59.6           </td>\n",
       "        </tr>\n",
       "        <tr>\n",
       "            <td>Lamb & Mutton    </td> <td>0.5            </td> <td>2.4        </td> <td>19.5</td> <td>1.1       </td> <td>0.5      </td> <td>0.3      </td> <td>0.2   </td> <td>24.5           </td>\n",
       "        </tr>\n",
       "        <tr>\n",
       "            <td>Cheese           </td> <td>4.5            </td> <td>2.3        </td> <td>13.1</td> <td>0.7       </td> <td>0.1      </td> <td>0.2      </td> <td>0.3   </td> <td>21.2           </td>\n",
       "        </tr>\n",
       "        <tr>\n",
       "            <td>Beef (dairy herd)</td> <td>0.9            </td> <td>2.5        </td> <td>15.7</td> <td>1.1       </td> <td>0.4      </td> <td>0.3      </td> <td>0.2   </td> <td>21.1           </td>\n",
       "        </tr>\n",
       "        <tr>\n",
       "            <td>Dark Chocolate   </td> <td>14.3           </td> <td>0          </td> <td>3.7 </td> <td>0.2       </td> <td>0.1      </td> <td>0.4      </td> <td>0     </td> <td>18.7           </td>\n",
       "        </tr>\n",
       "        <tr>\n",
       "            <td>Coffee           </td> <td>3.7            </td> <td>0          </td> <td>10.4</td> <td>0.6       </td> <td>0.1      </td> <td>1.6      </td> <td>0.1   </td> <td>16.5           </td>\n",
       "        </tr>\n",
       "        <tr>\n",
       "            <td>Shrimps (farmed) </td> <td>0.2            </td> <td>2.5        </td> <td>8.4 </td> <td>0         </td> <td>0.2      </td> <td>0.3      </td> <td>0.2   </td> <td>11.8           </td>\n",
       "        </tr>\n",
       "        <tr>\n",
       "            <td>Palm Oil         </td> <td>3.1            </td> <td>0          </td> <td>2.1 </td> <td>1.3       </td> <td>0.2      </td> <td>0.9      </td> <td>0     </td> <td>7.6            </td>\n",
       "        </tr>\n",
       "        <tr>\n",
       "            <td>Pig Meat         </td> <td>1.5            </td> <td>2.9        </td> <td>1.7 </td> <td>0.3       </td> <td>0.3      </td> <td>0.3      </td> <td>0.2   </td> <td>7.2            </td>\n",
       "        </tr>\n",
       "        <tr>\n",
       "            <td>Poultry Meat     </td> <td>2.5            </td> <td>1.8        </td> <td>0.7 </td> <td>0.4       </td> <td>0.3      </td> <td>0.2      </td> <td>0.2   </td> <td>6.1            </td>\n",
       "        </tr>\n",
       "    </tbody>\n",
       "</table>\n",
       "<p>... (33 rows omitted)</p>"
      ],
      "text/plain": [
       "Food product      | Land use change | Animal Feed | Farm | Processing | Transport | Packaging | Retail | Total_emissions\n",
       "Beef (beef herd)  | 16.3            | 1.9         | 39.4 | 1.3        | 0.3       | 0.2       | 0.2    | 59.6\n",
       "Lamb & Mutton     | 0.5             | 2.4         | 19.5 | 1.1        | 0.5       | 0.3       | 0.2    | 24.5\n",
       "Cheese            | 4.5             | 2.3         | 13.1 | 0.7        | 0.1       | 0.2       | 0.3    | 21.2\n",
       "Beef (dairy herd) | 0.9             | 2.5         | 15.7 | 1.1        | 0.4       | 0.3       | 0.2    | 21.1\n",
       "Dark Chocolate    | 14.3            | 0           | 3.7  | 0.2        | 0.1       | 0.4       | 0      | 18.7\n",
       "Coffee            | 3.7             | 0           | 10.4 | 0.6        | 0.1       | 1.6       | 0.1    | 16.5\n",
       "Shrimps (farmed)  | 0.2             | 2.5         | 8.4  | 0          | 0.2       | 0.3       | 0.2    | 11.8\n",
       "Palm Oil          | 3.1             | 0           | 2.1  | 1.3        | 0.2       | 0.9       | 0      | 7.6\n",
       "Pig Meat          | 1.5             | 2.9         | 1.7  | 0.3        | 0.3       | 0.3       | 0.2    | 7.2\n",
       "Poultry Meat      | 2.5             | 1.8         | 0.7  | 0.4        | 0.3       | 0.2       | 0.2    | 6.1\n",
       "... (33 rows omitted)"
      ]
     },
     "execution_count": 5,
     "metadata": {},
     "output_type": "execute_result"
    }
   ],
   "source": [
    "#Sorting by total emissions in descending order. If you're stuck, look up the .sort() documentation on Google!\n",
    "food_production..."
   ]
  },
  {
   "cell_type": "code",
   "execution_count": 13,
   "metadata": {
    "cell_id": "00020-6d1ec55c-6fa3-49cd-9d59-3b3d463cd2ef",
    "deepnote_cell_type": "code",
    "deepnote_to_be_reexecuted": false,
    "execution_millis": 222,
    "execution_start": 1636752032801,
    "source_hash": "9aae3d31",
    "tags": []
   },
   "outputs": [
    {
     "data": {
      "text/html": [
       "<table border=\"1\" class=\"dataframe\">\n",
       "    <thead>\n",
       "        <tr>\n",
       "            <th>Food product</th> <th>Land use change</th> <th>Animal Feed</th> <th>Farm</th> <th>Processing</th> <th>Transport</th> <th>Packaging</th> <th>Retail</th> <th>Total_emissions</th>\n",
       "        </tr>\n",
       "    </thead>\n",
       "    <tbody>\n",
       "        <tr>\n",
       "            <td>Apples           </td> <td>0              </td> <td>0          </td> <td>0.2 </td> <td>0         </td> <td>0.1      </td> <td>0        </td> <td>0     </td> <td>0.3            </td>\n",
       "        </tr>\n",
       "        <tr>\n",
       "            <td>Bananas          </td> <td>0              </td> <td>0          </td> <td>0.3 </td> <td>0.1       </td> <td>0.3      </td> <td>0.1      </td> <td>0     </td> <td>0.8            </td>\n",
       "        </tr>\n",
       "        <tr>\n",
       "            <td>Barley (Beer)    </td> <td>0              </td> <td>0          </td> <td>0.2 </td> <td>0.1       </td> <td>0        </td> <td>0.5      </td> <td>0.3   </td> <td>1.1            </td>\n",
       "        </tr>\n",
       "        <tr>\n",
       "            <td>Beef (beef herd) </td> <td>16.3           </td> <td>1.9        </td> <td>39.4</td> <td>1.3       </td> <td>0.3      </td> <td>0.2      </td> <td>0.2   </td> <td>59.6           </td>\n",
       "        </tr>\n",
       "        <tr>\n",
       "            <td>Beef (dairy herd)</td> <td>0.9            </td> <td>2.5        </td> <td>15.7</td> <td>1.1       </td> <td>0.4      </td> <td>0.3      </td> <td>0.2   </td> <td>21.1           </td>\n",
       "        </tr>\n",
       "        <tr>\n",
       "            <td>Beet Sugar       </td> <td>0              </td> <td>0          </td> <td>0.5 </td> <td>0.2       </td> <td>0.6      </td> <td>0.1      </td> <td>0     </td> <td>1.4            </td>\n",
       "        </tr>\n",
       "        <tr>\n",
       "            <td>Berries & Grapes </td> <td>0              </td> <td>0          </td> <td>0.7 </td> <td>0         </td> <td>0.2      </td> <td>0.2      </td> <td>0     </td> <td>1.1            </td>\n",
       "        </tr>\n",
       "        <tr>\n",
       "            <td>Brassicas        </td> <td>0              </td> <td>0          </td> <td>0.3 </td> <td>0         </td> <td>0.1      </td> <td>0        </td> <td>0     </td> <td>0.4            </td>\n",
       "        </tr>\n",
       "        <tr>\n",
       "            <td>Cane Sugar       </td> <td>1.2            </td> <td>0          </td> <td>0.5 </td> <td>0         </td> <td>0.8      </td> <td>0.1      </td> <td>0     </td> <td>2.6            </td>\n",
       "        </tr>\n",
       "        <tr>\n",
       "            <td>Cassava          </td> <td>0.6            </td> <td>0          </td> <td>0.2 </td> <td>0         </td> <td>0.1      </td> <td>0        </td> <td>0     </td> <td>0.9            </td>\n",
       "        </tr>\n",
       "    </tbody>\n",
       "</table>\n",
       "<p>... (33 rows omitted)</p>"
      ],
      "text/plain": [
       "Food product      | Land use change | Animal Feed | Farm | Processing | Transport | Packaging | Retail | Total_emissions\n",
       "Apples            | 0               | 0           | 0.2  | 0          | 0.1       | 0         | 0      | 0.3\n",
       "Bananas           | 0               | 0           | 0.3  | 0.1        | 0.3       | 0.1       | 0      | 0.8\n",
       "Barley (Beer)     | 0               | 0           | 0.2  | 0.1        | 0         | 0.5       | 0.3    | 1.1\n",
       "Beef (beef herd)  | 16.3            | 1.9         | 39.4 | 1.3        | 0.3       | 0.2       | 0.2    | 59.6\n",
       "Beef (dairy herd) | 0.9             | 2.5         | 15.7 | 1.1        | 0.4       | 0.3       | 0.2    | 21.1\n",
       "Beet Sugar        | 0               | 0           | 0.5  | 0.2        | 0.6       | 0.1       | 0      | 1.4\n",
       "Berries & Grapes  | 0               | 0           | 0.7  | 0          | 0.2       | 0.2       | 0      | 1.1\n",
       "Brassicas         | 0               | 0           | 0.3  | 0          | 0.1       | 0         | 0      | 0.4\n",
       "Cane Sugar        | 1.2             | 0           | 0.5  | 0          | 0.8       | 0.1       | 0      | 2.6\n",
       "Cassava           | 0.6             | 0           | 0.2  | 0          | 0.1       | 0         | 0      | 0.9\n",
       "... (33 rows omitted)"
      ]
     },
     "execution_count": 13,
     "metadata": {},
     "output_type": "execute_result"
    }
   ],
   "source": [
    "#Sort alphabetically by Food product here\n",
    "#Note that for alphabetical order, descending = False and for reverse alphabetical order, descending = True\n",
    "food_production..."
   ]
  },
  {
   "cell_type": "markdown",
   "metadata": {
    "cell_id": "00022-f3c9ae2d-9af6-4afd-80df-03e514c41723",
    "deepnote_cell_type": "markdown",
    "tags": []
   },
   "source": [
    "**Filtering tables**\n",
    "\n",
    "Extracting specific rows in a table based on their value is also very useful in table manipulation. This is done by using the `.where()` method. It takes in two parameters, a column name or index and a predicate. A predicate is some criterion that needs to be met in order for the row to be extracted.\n",
    "\n",
    "In the example below, we use `.where()` to create a new table containing only rows where the `Animal Feed` emissions are equal to 0, and another new table that contains only `Rice` as a food product. The predicate that we use in this case is `are.equal_to()`.\n"
   ]
  },
  {
   "cell_type": "code",
   "execution_count": 14,
   "metadata": {
    "cell_id": "00023-f8831962-6b4a-43cd-8ae0-42cc12a40cda",
    "deepnote_cell_type": "code",
    "deepnote_to_be_reexecuted": false,
    "execution_millis": 210,
    "execution_start": 1636752032817,
    "source_hash": "7d0da8c8",
    "tags": []
   },
   "outputs": [
    {
     "data": {
      "text/html": [
       "<table border=\"1\" class=\"dataframe\">\n",
       "    <thead>\n",
       "        <tr>\n",
       "            <th>Food product</th> <th>Land use change</th> <th>Animal Feed</th> <th>Farm</th> <th>Processing</th> <th>Transport</th> <th>Packaging</th> <th>Retail</th> <th>Total_emissions</th>\n",
       "        </tr>\n",
       "    </thead>\n",
       "    <tbody>\n",
       "        <tr>\n",
       "            <td>Wheat & Rye (Bread)</td> <td>0.1            </td> <td>0          </td> <td>0.8 </td> <td>0.2       </td> <td>0.1      </td> <td>0.1      </td> <td>0.1   </td> <td>1.4            </td>\n",
       "        </tr>\n",
       "        <tr>\n",
       "            <td>Maize (Meal)       </td> <td>0.3            </td> <td>0          </td> <td>0.5 </td> <td>0.1       </td> <td>0.1      </td> <td>0.1      </td> <td>0     </td> <td>1.1            </td>\n",
       "        </tr>\n",
       "        <tr>\n",
       "            <td>Barley (Beer)      </td> <td>0              </td> <td>0          </td> <td>0.2 </td> <td>0.1       </td> <td>0        </td> <td>0.5      </td> <td>0.3   </td> <td>1.1            </td>\n",
       "        </tr>\n",
       "        <tr>\n",
       "            <td>Oatmeal            </td> <td>0              </td> <td>0          </td> <td>1.4 </td> <td>0         </td> <td>0.1      </td> <td>0.1      </td> <td>0     </td> <td>1.6            </td>\n",
       "        </tr>\n",
       "        <tr>\n",
       "            <td>Rice               </td> <td>0              </td> <td>0          </td> <td>3.6 </td> <td>0.1       </td> <td>0.1      </td> <td>0.1      </td> <td>0.1   </td> <td>4              </td>\n",
       "        </tr>\n",
       "        <tr>\n",
       "            <td>Potatoes           </td> <td>0              </td> <td>0          </td> <td>0.2 </td> <td>0         </td> <td>0.1      </td> <td>0        </td> <td>0     </td> <td>0.3            </td>\n",
       "        </tr>\n",
       "        <tr>\n",
       "            <td>Cassava            </td> <td>0.6            </td> <td>0          </td> <td>0.2 </td> <td>0         </td> <td>0.1      </td> <td>0        </td> <td>0     </td> <td>0.9            </td>\n",
       "        </tr>\n",
       "        <tr>\n",
       "            <td>Cane Sugar         </td> <td>1.2            </td> <td>0          </td> <td>0.5 </td> <td>0         </td> <td>0.8      </td> <td>0.1      </td> <td>0     </td> <td>2.6            </td>\n",
       "        </tr>\n",
       "        <tr>\n",
       "            <td>Beet Sugar         </td> <td>0              </td> <td>0          </td> <td>0.5 </td> <td>0.2       </td> <td>0.6      </td> <td>0.1      </td> <td>0     </td> <td>1.4            </td>\n",
       "        </tr>\n",
       "        <tr>\n",
       "            <td>Other Pulses       </td> <td>0              </td> <td>0          </td> <td>1.1 </td> <td>0         </td> <td>0.1      </td> <td>0.4      </td> <td>0     </td> <td>1.6            </td>\n",
       "        </tr>\n",
       "    </tbody>\n",
       "</table>\n",
       "<p>... (23 rows omitted)</p>"
      ],
      "text/plain": [
       "Food product        | Land use change | Animal Feed | Farm | Processing | Transport | Packaging | Retail | Total_emissions\n",
       "Wheat & Rye (Bread) | 0.1             | 0           | 0.8  | 0.2        | 0.1       | 0.1       | 0.1    | 1.4\n",
       "Maize (Meal)        | 0.3             | 0           | 0.5  | 0.1        | 0.1       | 0.1       | 0      | 1.1\n",
       "Barley (Beer)       | 0               | 0           | 0.2  | 0.1        | 0         | 0.5       | 0.3    | 1.1\n",
       "Oatmeal             | 0               | 0           | 1.4  | 0          | 0.1       | 0.1       | 0      | 1.6\n",
       "Rice                | 0               | 0           | 3.6  | 0.1        | 0.1       | 0.1       | 0.1    | 4\n",
       "Potatoes            | 0               | 0           | 0.2  | 0          | 0.1       | 0         | 0      | 0.3\n",
       "Cassava             | 0.6             | 0           | 0.2  | 0          | 0.1       | 0         | 0      | 0.9\n",
       "Cane Sugar          | 1.2             | 0           | 0.5  | 0          | 0.8       | 0.1       | 0      | 2.6\n",
       "Beet Sugar          | 0               | 0           | 0.5  | 0.2        | 0.6       | 0.1       | 0      | 1.4\n",
       "Other Pulses        | 0               | 0           | 1.1  | 0          | 0.1       | 0.4       | 0      | 1.6\n",
       "... (23 rows omitted)"
      ]
     },
     "execution_count": 14,
     "metadata": {},
     "output_type": "execute_result"
    }
   ],
   "source": [
    "#Table with only foods where Animal Feed emissions are 0\n",
    "food_production.where('Animal Feed', are.equal_to(0))"
   ]
  },
  {
   "cell_type": "markdown",
   "metadata": {},
   "source": [
    "Now, it's your task create a table that only has `Food product` set to `Rice`! Remember that that's a `string`."
   ]
  },
  {
   "cell_type": "code",
   "execution_count": 15,
   "metadata": {
    "cell_id": "00024-69795aa3-3f24-4139-9b18-1b764b9adf26",
    "deepnote_cell_type": "code",
    "deepnote_to_be_reexecuted": false,
    "execution_millis": 170,
    "execution_start": 1636752032858,
    "source_hash": "ae9cd2d9",
    "tags": []
   },
   "outputs": [
    {
     "data": {
      "text/html": [
       "<table border=\"1\" class=\"dataframe\">\n",
       "    <thead>\n",
       "        <tr>\n",
       "            <th>Food product</th> <th>Land use change</th> <th>Animal Feed</th> <th>Farm</th> <th>Processing</th> <th>Transport</th> <th>Packaging</th> <th>Retail</th> <th>Total_emissions</th>\n",
       "        </tr>\n",
       "    </thead>\n",
       "    <tbody>\n",
       "        <tr>\n",
       "            <td>Rice        </td> <td>0              </td> <td>0          </td> <td>3.6 </td> <td>0.1       </td> <td>0.1      </td> <td>0.1      </td> <td>0.1   </td> <td>4              </td>\n",
       "        </tr>\n",
       "    </tbody>\n",
       "</table>"
      ],
      "text/plain": [
       "Food product | Land use change | Animal Feed | Farm | Processing | Transport | Packaging | Retail | Total_emissions\n",
       "Rice         | 0               | 0           | 3.6  | 0.1        | 0.1       | 0.1       | 0.1    | 4"
      ]
     },
     "execution_count": 15,
     "metadata": {},
     "output_type": "execute_result"
    }
   ],
   "source": [
    "#A table that contains only Rice\n",
    "food_production..."
   ]
  },
  {
   "cell_type": "markdown",
   "metadata": {
    "cell_id": "00023-ec3b446b-2eb2-4e44-bb29-0e71d947d08c",
    "deepnote_cell_type": "markdown",
    "tags": []
   },
   "source": [
    "What if we want to use some other criterion? There are many other predicates we can choose from.\n",
    "\n",
    "Here is a list of predicate examples.\n",
    "\n",
    "|Predicate|Example|Result|\n",
    "|-|-|-|\n",
    "|`are.equal_to`|`are.equal_to(50)`|Find rows with values equal to 50|\n",
    "|`are.not_equal_to`|`are.not_equal_to(50)`|Find rows with values not equal to 50|\n",
    "|`are.above`|`are.above(50)`|Find rows with values above (and not equal to) 50|\n",
    "|`are.above_or_equal_to`|`are.above_or_equal_to(50)`|Find rows with values above 50 or equal to 50|\n",
    "|`are.below`|`are.below(50)`|Find rows with values below 50|\n",
    "|`are.between`|`are.between(2, 10)`|Find rows with values above or equal to 2 and below 10|"
   ]
  },
  {
   "cell_type": "markdown",
   "metadata": {
    "cell_id": "00026-e4030258-defa-4f4a-ae0d-adaa9c1244e9",
    "deepnote_cell_type": "markdown",
    "tags": []
   },
   "source": [
    "Now, try using one of them to create a table of food products with `Retail` emissions above 0.2."
   ]
  },
  {
   "cell_type": "code",
   "execution_count": 16,
   "metadata": {
    "cell_id": "00026-c89eb216-fb82-4aff-8588-ebf928fd4339",
    "deepnote_cell_type": "code",
    "deepnote_to_be_reexecuted": false,
    "execution_millis": 166,
    "execution_start": 1636752032863,
    "source_hash": "db27061e",
    "tags": []
   },
   "outputs": [
    {
     "data": {
      "text/html": [
       "<table border=\"1\" class=\"dataframe\">\n",
       "    <thead>\n",
       "        <tr>\n",
       "            <th>Food product</th> <th>Land use change</th> <th>Animal Feed</th> <th>Farm</th> <th>Processing</th> <th>Transport</th> <th>Packaging</th> <th>Retail</th> <th>Total_emissions</th>\n",
       "        </tr>\n",
       "    </thead>\n",
       "    <tbody>\n",
       "        <tr>\n",
       "            <td>Barley (Beer)</td> <td>0              </td> <td>0          </td> <td>0.2 </td> <td>0.1       </td> <td>0        </td> <td>0.5      </td> <td>0.3   </td> <td>1.1            </td>\n",
       "        </tr>\n",
       "        <tr>\n",
       "            <td>Soymilk      </td> <td>0.2            </td> <td>0          </td> <td>0.1 </td> <td>0.2       </td> <td>0.1      </td> <td>0.1      </td> <td>0.3   </td> <td>1              </td>\n",
       "        </tr>\n",
       "        <tr>\n",
       "            <td>Tofu         </td> <td>1              </td> <td>0          </td> <td>0.5 </td> <td>0.8       </td> <td>0.2      </td> <td>0.2      </td> <td>0.3   </td> <td>3              </td>\n",
       "        </tr>\n",
       "        <tr>\n",
       "            <td>Milk         </td> <td>0.5            </td> <td>0.2        </td> <td>1.5 </td> <td>0.1       </td> <td>0.1      </td> <td>0.1      </td> <td>0.3   </td> <td>2.8            </td>\n",
       "        </tr>\n",
       "        <tr>\n",
       "            <td>Cheese       </td> <td>4.5            </td> <td>2.3        </td> <td>13.1</td> <td>0.7       </td> <td>0.1      </td> <td>0.2      </td> <td>0.3   </td> <td>21.2           </td>\n",
       "        </tr>\n",
       "    </tbody>\n",
       "</table>"
      ],
      "text/plain": [
       "Food product  | Land use change | Animal Feed | Farm | Processing | Transport | Packaging | Retail | Total_emissions\n",
       "Barley (Beer) | 0               | 0           | 0.2  | 0.1        | 0         | 0.5       | 0.3    | 1.1\n",
       "Soymilk       | 0.2             | 0           | 0.1  | 0.2        | 0.1       | 0.1       | 0.3    | 1\n",
       "Tofu          | 1               | 0           | 0.5  | 0.8        | 0.2       | 0.2       | 0.3    | 3\n",
       "Milk          | 0.5             | 0.2         | 1.5  | 0.1        | 0.1       | 0.1       | 0.3    | 2.8\n",
       "Cheese        | 4.5             | 2.3         | 13.1 | 0.7        | 0.1       | 0.2       | 0.3    | 21.2"
      ]
     },
     "execution_count": 16,
     "metadata": {},
     "output_type": "execute_result"
    }
   ],
   "source": [
    "#Table of food products with retail emissions above 0.2\n",
    "food_production..."
   ]
  },
  {
   "cell_type": "markdown",
   "metadata": {
    "cell_id": "00027-cb958bd8-3641-40df-8032-016ebba8ba03",
    "deepnote_cell_type": "markdown",
    "tags": []
   },
   "source": [
    "**Joining two tables**\n",
    "\n"
   ]
  },
  {
   "cell_type": "markdown",
   "metadata": {
    "cell_id": "00028-800d8a3e-2739-424e-9217-8a1009335e14",
    "deepnote_cell_type": "markdown",
    "tags": []
   },
   "source": [
    "`.join()` is a method that combines two table by a shared column. This column should contain values that are present in both tables.\n",
    "\n",
    "The method is structures as follows: `tblA.join(column_label_A, tblB, column_label_B)`, which generates a table that combines tblA and tblB, containing rows for all values of a specified column that appears in both columns. \n",
    "\n",
    "_Note: In the case that the column labels for this shared column are different, the unique labels can be specified. If not, the default value for `column_label_B` is `column_label_A`._\n",
    "\n",
    "In the task below, you'll be combining the tables our `food_production` table with `food_land_use` by the column `Food product`."
   ]
  },
  {
   "cell_type": "code",
   "execution_count": 17,
   "metadata": {
    "cell_id": "00029-1d050a0c-3668-4f3e-9a1e-acbfb826fc6b",
    "deepnote_cell_type": "code",
    "deepnote_to_be_reexecuted": false,
    "execution_millis": 165,
    "execution_start": 1636752032864,
    "source_hash": "1713742",
    "tags": []
   },
   "outputs": [
    {
     "data": {
      "text/html": [
       "<table border=\"1\" class=\"dataframe\">\n",
       "    <thead>\n",
       "        <tr>\n",
       "            <th>Food product</th> <th>Land use per kilogram (m² per kilogram)</th>\n",
       "        </tr>\n",
       "    </thead>\n",
       "    <tbody>\n",
       "        <tr>\n",
       "            <td>Wheat & Rye (Bread)</td> <td>nan                                    </td>\n",
       "        </tr>\n",
       "        <tr>\n",
       "            <td>Maize (Meal)       </td> <td>nan                                    </td>\n",
       "        </tr>\n",
       "        <tr>\n",
       "            <td>Barley (Beer)      </td> <td>nan                                    </td>\n",
       "        </tr>\n",
       "        <tr>\n",
       "            <td>Oatmeal            </td> <td>7.6                                    </td>\n",
       "        </tr>\n",
       "        <tr>\n",
       "            <td>Rice               </td> <td>2.8                                    </td>\n",
       "        </tr>\n",
       "    </tbody>\n",
       "</table>\n",
       "<p>... (38 rows omitted)</p>"
      ],
      "text/plain": [
       "<IPython.core.display.HTML object>"
      ]
     },
     "metadata": {},
     "output_type": "display_data"
    }
   ],
   "source": [
    "#Load and view the new table `food_land_use`.\n",
    "food_land_use = Table.read_table('food_land_use.csv')\n",
    "food_land_use.show(5)"
   ]
  },
  {
   "cell_type": "markdown",
   "metadata": {},
   "source": [
    "Combine `food_production` and `food_land_us` by the shared `Food product`column."
   ]
  },
  {
   "cell_type": "code",
   "execution_count": 18,
   "metadata": {
    "cell_id": "00028-bd775a00-afc7-4256-8400-b71c43bfb9f8",
    "deepnote_cell_type": "code",
    "deepnote_to_be_reexecuted": false,
    "execution_millis": 156,
    "execution_start": 1636752032874,
    "source_hash": "d3379c2e",
    "tags": []
   },
   "outputs": [
    {
     "data": {
      "text/html": [
       "<table border=\"1\" class=\"dataframe\">\n",
       "    <thead>\n",
       "        <tr>\n",
       "            <th>Food product</th> <th>Land use change</th> <th>Animal Feed</th> <th>Farm</th> <th>Processing</th> <th>Transport</th> <th>Packaging</th> <th>Retail</th> <th>Total_emissions</th> <th>Land use per kilogram (m² per kilogram)</th>\n",
       "        </tr>\n",
       "    </thead>\n",
       "    <tbody>\n",
       "        <tr>\n",
       "            <td>Apples           </td> <td>0              </td> <td>0          </td> <td>0.2 </td> <td>0         </td> <td>0.1      </td> <td>0        </td> <td>0     </td> <td>0.3            </td> <td>0.63                                   </td>\n",
       "        </tr>\n",
       "        <tr>\n",
       "            <td>Bananas          </td> <td>0              </td> <td>0          </td> <td>0.3 </td> <td>0.1       </td> <td>0.3      </td> <td>0.1      </td> <td>0     </td> <td>0.8            </td> <td>1.93                                   </td>\n",
       "        </tr>\n",
       "        <tr>\n",
       "            <td>Barley (Beer)    </td> <td>0              </td> <td>0          </td> <td>0.2 </td> <td>0.1       </td> <td>0        </td> <td>0.5      </td> <td>0.3   </td> <td>1.1            </td> <td>nan                                    </td>\n",
       "        </tr>\n",
       "        <tr>\n",
       "            <td>Beef (beef herd) </td> <td>16.3           </td> <td>1.9        </td> <td>39.4</td> <td>1.3       </td> <td>0.3      </td> <td>0.2      </td> <td>0.2   </td> <td>59.6           </td> <td>326.21                                 </td>\n",
       "        </tr>\n",
       "        <tr>\n",
       "            <td>Beef (dairy herd)</td> <td>0.9            </td> <td>2.5        </td> <td>15.7</td> <td>1.1       </td> <td>0.4      </td> <td>0.3      </td> <td>0.2   </td> <td>21.1           </td> <td>43.24                                  </td>\n",
       "        </tr>\n",
       "        <tr>\n",
       "            <td>Beet Sugar       </td> <td>0              </td> <td>0          </td> <td>0.5 </td> <td>0.2       </td> <td>0.6      </td> <td>0.1      </td> <td>0     </td> <td>1.4            </td> <td>1.83                                   </td>\n",
       "        </tr>\n",
       "        <tr>\n",
       "            <td>Berries & Grapes </td> <td>0              </td> <td>0          </td> <td>0.7 </td> <td>0         </td> <td>0.2      </td> <td>0.2      </td> <td>0     </td> <td>1.1            </td> <td>2.41                                   </td>\n",
       "        </tr>\n",
       "        <tr>\n",
       "            <td>Brassicas        </td> <td>0              </td> <td>0          </td> <td>0.3 </td> <td>0         </td> <td>0.1      </td> <td>0        </td> <td>0     </td> <td>0.4            </td> <td>0.55                                   </td>\n",
       "        </tr>\n",
       "        <tr>\n",
       "            <td>Cane Sugar       </td> <td>1.2            </td> <td>0          </td> <td>0.5 </td> <td>0         </td> <td>0.8      </td> <td>0.1      </td> <td>0     </td> <td>2.6            </td> <td>2.04                                   </td>\n",
       "        </tr>\n",
       "        <tr>\n",
       "            <td>Cassava          </td> <td>0.6            </td> <td>0          </td> <td>0.2 </td> <td>0         </td> <td>0.1      </td> <td>0        </td> <td>0     </td> <td>0.9            </td> <td>1.81                                   </td>\n",
       "        </tr>\n",
       "    </tbody>\n",
       "</table>\n",
       "<p>... (33 rows omitted)</p>"
      ],
      "text/plain": [
       "Food product      | Land use change | Animal Feed | Farm | Processing | Transport | Packaging | Retail | Total_emissions | Land use per kilogram (m² per kilogram)\n",
       "Apples            | 0               | 0           | 0.2  | 0          | 0.1       | 0         | 0      | 0.3             | 0.63\n",
       "Bananas           | 0               | 0           | 0.3  | 0.1        | 0.3       | 0.1       | 0      | 0.8             | 1.93\n",
       "Barley (Beer)     | 0               | 0           | 0.2  | 0.1        | 0         | 0.5       | 0.3    | 1.1             | nan\n",
       "Beef (beef herd)  | 16.3            | 1.9         | 39.4 | 1.3        | 0.3       | 0.2       | 0.2    | 59.6            | 326.21\n",
       "Beef (dairy herd) | 0.9             | 2.5         | 15.7 | 1.1        | 0.4       | 0.3       | 0.2    | 21.1            | 43.24\n",
       "Beet Sugar        | 0               | 0           | 0.5  | 0.2        | 0.6       | 0.1       | 0      | 1.4             | 1.83\n",
       "Berries & Grapes  | 0               | 0           | 0.7  | 0          | 0.2       | 0.2       | 0      | 1.1             | 2.41\n",
       "Brassicas         | 0               | 0           | 0.3  | 0          | 0.1       | 0         | 0      | 0.4             | 0.55\n",
       "Cane Sugar        | 1.2             | 0           | 0.5  | 0          | 0.8       | 0.1       | 0      | 2.6             | 2.04\n",
       "Cassava           | 0.6             | 0           | 0.2  | 0          | 0.1       | 0         | 0      | 0.9             | 1.81\n",
       "... (33 rows omitted)"
      ]
     },
     "execution_count": 18,
     "metadata": {},
     "output_type": "execute_result"
    }
   ],
   "source": [
    "combined_tbl = food_production.join(..., ...)\n",
    "combined_tbl"
   ]
  },
  {
   "cell_type": "markdown",
   "metadata": {
    "cell_id": "00033-958cce91-09d9-45ae-a88e-57709e5915e1",
    "deepnote_cell_type": "markdown",
    "tags": []
   },
   "source": [
    "Pew, that was a lot of table manipulations. Take a breather and come back for the exciting 2nd round!\n",
    "\n",
    "Those are all of the table manipulation methods that you will need for this notebook! However, there are many more things you can do with tables. The complete documentation for table manipulation in the `datascience` package can be found [here](http://data8.org/datascience/tables.html)."
   ]
  },
  {
   "cell_type": "markdown",
   "metadata": {
    "cell_id": "00004-c06518c9-0069-45e0-946d-62d266b91f1d",
    "deepnote_cell_type": "text-cell-h2",
    "is_collapsed": false,
    "tags": []
   },
   "source": [
    "## Data Visualization"
   ]
  },
  {
   "cell_type": "markdown",
   "metadata": {
    "cell_id": "00035-794dd130-8334-4ede-99b7-14c4f9ff68f5",
    "deepnote_cell_type": "markdown",
    "tags": []
   },
   "source": [
    "In data science, it is also very useful to visualize our data. In this notebook, we will be introducing scatter plots and bar charts."
   ]
  },
  {
   "cell_type": "markdown",
   "metadata": {
    "cell_id": "00036-a7740f91-8fbb-409f-9982-b9064d4e6dbd",
    "deepnote_cell_type": "markdown",
    "tags": []
   },
   "source": [
    "**Scatter plots**\n",
    "\n",
    "Scatter plots are used to observe some relationship between two continuous variables. We can generate scatter plots by using `.scatter()` on a table. It takes in two parameters, the column labels that correspond to the x-axis and y-axis respectively.\n",
    "\n",
    "Let's use it to visualize the relationship between land use and total emissions of food products."
   ]
  },
  {
   "cell_type": "code",
   "execution_count": 19,
   "metadata": {
    "cell_id": "00006-25a9229c-2781-41af-883c-2ebbd2efa254",
    "deepnote_cell_type": "code",
    "deepnote_to_be_reexecuted": false,
    "execution_millis": 316,
    "execution_start": 1636752032920,
    "source_hash": "44d671ef",
    "tags": []
   },
   "outputs": [
    {
     "data": {
      "image/png": "[encoded data removed]",
      "text/plain": [
       "<Figure size 360x360 with 1 Axes>"
      ]
     },
     "metadata": {},
     "output_type": "display_data"
    }
   ],
   "source": [
    "combined_tbl.scatter('Land use per kilogram (m² per kilogram)', 'Total_emissions')"
   ]
  },
  {
   "cell_type": "markdown",
   "metadata": {
    "cell_id": "00038-0d3ecc42-af1b-4b6c-8a64-9c73e901eda6",
    "deepnote_cell_type": "markdown",
    "tags": []
   },
   "source": [
    "**Bar charts**\n",
    "\n",
    "Bar charts are used to compare a numerical property of classified groups. The method `.bar()` or `.barh()` (horizontal bar chart) takes in two parameters: the *categorical* column label and then the *numerical* column label.\n",
    "\n",
    "In the example below, we use it to see the total emissions (numerical property) for each food product (category)."
   ]
  },
  {
   "cell_type": "code",
   "execution_count": 20,
   "metadata": {
    "cell_id": "00039-347bff18-9b27-40f0-b300-8be8c384ba59",
    "deepnote_cell_type": "code",
    "deepnote_to_be_reexecuted": false,
    "execution_millis": 363,
    "execution_start": 1636752033304,
    "source_hash": "2292f363",
    "tags": []
   },
   "outputs": [
    {
     "name": "stderr",
     "output_type": "stream",
     "text": [
      "/Users/hansocampo/opt/anaconda3/lib/python3.8/site-packages/datascience/tables.py:3006: UserWarning: FixedFormatter should only be used together with FixedLocator\n",
      "  axis.set_xticklabels(tick_labels, stretch='ultra-condensed')\n"
     ]
    },
    {
     "data": {
      "image/png": "[encoded data removed]",
      "text/plain": [
       "<Figure size 432x288 with 1 Axes>"
      ]
     },
     "metadata": {},
     "output_type": "display_data"
    }
   ],
   "source": [
    "#Standard bar chart\n",
    "food_production.bar('Food product', 'Total_emissions')"
   ]
  },
  {
   "cell_type": "markdown",
   "metadata": {},
   "source": [
    "Using the `.barh`method:"
   ]
  },
  {
   "cell_type": "code",
   "execution_count": 21,
   "metadata": {
    "cell_id": "00040-121c5b17-64e0-4f6f-a058-a2a8c2c7c0f1",
    "deepnote_cell_type": "code",
    "deepnote_to_be_reexecuted": false,
    "execution_millis": 1242,
    "execution_start": 1636752033791,
    "source_hash": "ee31a67e",
    "tags": []
   },
   "outputs": [
    {
     "data": {
      "image/png": "[encoded data removed]",
      "text/plain": [
       "<Figure size 432x1548 with 1 Axes>"
      ]
     },
     "metadata": {},
     "output_type": "display_data"
    }
   ],
   "source": [
    "#Horizontal bar chart\n",
    "food_production.barh('Food product', 'Total_emissions')"
   ]
  },
  {
   "cell_type": "markdown",
   "metadata": {},
   "source": [
    "What's your preference and why for understanding the data? (This is an open-ended question!)"
   ]
  },
  {
   "cell_type": "markdown",
   "metadata": {},
   "source": [
    "*Replace this text with your answer*"
   ]
  },
  {
   "cell_type": "markdown",
   "metadata": {
    "cell_id": "00041-b024b0cd-dc66-433b-beb6-07ce8780023a",
    "deepnote_cell_type": "markdown",
    "tags": []
   },
   "source": [
    "Now, let's embark on an interactive project for you to practice some of the skills you've learnt!"
   ]
  },
  {
   "cell_type": "markdown",
   "metadata": {
    "cell_id": "00003-c2a406a4-1208-4811-a9a9-2cb195e33d13",
    "deepnote_cell_type": "text-cell-h2",
    "is_collapsed": false,
    "tags": []
   },
   "source": [
    "## Part 1: California Counties"
   ]
  },
  {
   "cell_type": "markdown",
   "metadata": {
    "cell_id": "00006-dd7babb2-c8b1-4365-8ef3-2f2cedc9b94c",
    "deepnote_cell_type": "markdown",
    "tags": []
   },
   "source": [
    "In these next few parts, you will be applying tools from the previous two sections to analyze data from the WHEJ dataset."
   ]
  },
  {
   "cell_type": "markdown",
   "metadata": {
    "cell_id": "00003-e9df33e2-e660-4c40-b26a-5eadb0b5ddb0",
    "deepnote_cell_type": "markdown",
    "tags": []
   },
   "source": [
    "First, run the cell below to take a look at our `california` table. Each row of the table corresponds to a county in California and some demographic and environmental data."
   ]
  },
  {
   "cell_type": "code",
   "execution_count": 16,
   "metadata": {
    "cell_id": "00002-45b3600c-acab-4b00-8a31-d3ac66854301",
    "deepnote_cell_type": "code",
    "deepnote_to_be_reexecuted": false,
    "execution_millis": 949,
    "execution_start": 1636752035039,
    "source_hash": "ebaa668d",
    "tags": []
   },
   "outputs": [
    {
     "data": {
      "text/html": [
       "<table border=\"1\" class=\"dataframe\">\n",
       "    <thead>\n",
       "        <tr>\n",
       "            <th>Unnamed: 0</th> <th>GEOID10</th> <th>Housing burden (percent)</th> <th>Total population</th> <th>Median household income (% of state median household income)</th> <th>Current asthma among adults aged >=18 years</th> <th>Coronary heart disease among adults aged >=18 years</th> <th>Cancer (excluding skin cancer) among adults aged >=18 years</th> <th>Current lack of health insurance among adults aged 18-64 years</th> <th>Diagnosed diabetes among adults aged >=18 years</th> <th>Physical health not good for >=14 days among adults aged >=18 years</th> <th>Air toxics cancer risk</th> <th>Respiratory hazard index</th> <th>Diesel particulate matter</th> <th>Particulate matter (PM2.5)</th> <th>Ozone</th> <th>Traffic proximity and volume</th> <th>Proximity to RMP sites</th> <th>Proximity to TSDF sites</th> <th>Proximity to NPL sites</th> <th>Wastewater discharge</th> <th>Percent pre-1960s housing (lead paint indicator)</th> <th>Individuals under 5 years old</th> <th>Individuals over 64 years old</th> <th>Linguistic isolation (percent)</th> <th>Percent of households in linguistic isolation</th> <th>Poverty (Less than 200% of federal poverty line)</th> <th>Percent individuals age 25 or over with less than high school degree</th> <th>Unemployed civilians (percent)</th> <th>Housing + Transportation Costs % Income for the Regional Typical Household</th> <th>Score A</th> <th>Score B</th> <th>Socioeconomic Factors</th> <th>Sensitive populations</th> <th>Environmental effects</th> <th>Exposures</th> <th>Pollution Burden</th> <th>Population Characteristics</th> <th>Score C</th> <th>Score D</th> <th>Score E</th> <th>Low AMI, Low HS graduation</th> <th>Meets socioeconomic criteria</th> <th>Meets burden criteria</th> <th>Score F (communities)</th> <th>OBJECTID</th> <th>ID</th> <th>STATE_NAME</th> <th>ST_ABBREV</th> <th>REGION</th> <th>ACSTOTPOP</th> <th>D_PM25_2</th> <th>D_OZONE_2</th> <th>D_DSLPM_2</th> <th>D_CANCR_2</th> <th>D_RESP_2</th> <th>D_PTRAF_2</th> <th>D_LDPNT_2</th> <th>D_PNPL_2</th> <th>D_PRMP_2</th> <th>D_PTSDF_2</th> <th>D_PWDIS_2</th> <th>PM25</th> <th>OZONE</th> <th>DSLPM</th> <th>CANCER</th> <th>RESP</th> <th>PTRAF</th> <th>PRE1960PCT</th> <th>PNPL</th> <th>PRMP</th> <th>PTSDF</th> <th>PWDIS</th> <th>VULEOPCT</th> <th>VULSVI6PCT</th> <th>MINORPCT</th> <th>LOWINCPCT</th> <th>LINGISOPCT</th> <th>LESSHSPCT</th> <th>UNDER5PCT</th> <th>OVER64PCT</th> <th>Shape_Length</th> <th>Shape_Area</th> <th>FIPS code</th> <th>State Abr.</th> <th>County name</th> <th>CBSA title</th> <th>CBSA 2012 pop</th> <th>County 2012 pop</th> <th>2013 code</th> <th>2006 code</th> <th>1990-based code</th>\n",
       "        </tr>\n",
       "    </thead>\n",
       "    <tbody>\n",
       "        <tr>\n",
       "            <td>10297     </td> <td>60014001001</td> <td>0.1433                  </td> <td>2991            </td> <td>2.92232                                                     </td> <td>7.9                                        </td> <td>5.1                                                </td> <td>8.5                                                        </td> <td>4.8                                                           </td> <td>8                                              </td> <td>9                                                                  </td> <td>26.4966               </td> <td>0.437041                </td> <td>0.597205                 </td> <td>8.27278                   </td> <td>29.3125</td> <td>1128                        </td> <td>0.175204              </td> <td>2.29209                </td> <td>0.118582              </td> <td>0                   </td> <td>0.176558                                        </td> <td>0.0618522                    </td> <td>0.254096                     </td> <td>0.0116009                     </td> <td>0.0366826                                    </td> <td>0.0959088                                       </td> <td>0.0178275                                                           </td> <td>0.05                          </td> <td>76                                                                        </td> <td>0.115592</td> <td>0.0133433</td> <td>0.485942             </td> <td>0.669558             </td> <td>0.480974             </td> <td>0.48832  </td> <td>0.485871        </td> <td>0.57775                   </td> <td>0.280712</td> <td>0.0559111</td> <td>0.297226</td> <td>False                     </td> <td>False                       </td> <td>False                </td> <td>False                </td> <td>10298   </td> <td>60014001001</td> <td>California</td> <td>CA       </td> <td>9     </td> <td>2991     </td> <td>-3824.22</td> <td>-13550.2 </td> <td>-276.067 </td> <td>-12248.5 </td> <td>-202.029</td> <td>-521436     </td> <td>-81.6166 </td> <td>-54.8162</td> <td>-80.9909</td> <td>-1059.55 </td> <td>0        </td> <td>8.27278</td> <td>29.3125</td> <td>0.597205</td> <td>26.4966</td> <td>0.437041</td> <td>1128   </td> <td>0.176558  </td> <td>0.118582</td> <td>0.175204</td> <td>2.29209</td> <td>0    </td> <td>0.201916</td> <td>0.129048  </td> <td>0.307924</td> <td>0.0959088</td> <td>0.0366826 </td> <td>0.0178275 </td> <td>0.0618522 </td> <td>0.254096 </td> <td>18116.6     </td> <td>1.10812e+07</td> <td>6001     </td> <td>CA        </td> <td>Alameda County</td> <td>San Francisco-Oakland-Hayward, CA</td> <td>4455560      </td> <td>1554720        </td> <td>1        </td> <td>1        </td> <td>1              </td>\n",
       "        </tr>\n",
       "        <tr>\n",
       "            <td>10298     </td> <td>60014002001</td> <td>0.06875                 </td> <td>1102            </td> <td>3.15678                                                     </td> <td>8                                          </td> <td>4                                                  </td> <td>6.9                                                        </td> <td>4.8                                                           </td> <td>6.1                                            </td> <td>7.6                                                                </td> <td>28.282                </td> <td>0.47766                 </td> <td>0.784154                 </td> <td>8.3093                    </td> <td>28.5145</td> <td>5492.56                     </td> <td>0.236346              </td> <td>5.42626                </td> <td>0.152012              </td> <td>0                   </td> <td>0.957014                                        </td> <td>0.0816697                    </td> <td>0.1951                       </td> <td>0                             </td> <td>0                                            </td> <td>0.0789474                                       </td> <td>0.0309406                                                           </td> <td>0.0360825                     </td> <td>55                                                                        </td> <td>0.135196</td> <td>0.0164389</td> <td>0.309663             </td> <td>0.57654              </td> <td>0.6582               </td> <td>0.56422  </td> <td>0.595547        </td> <td>0.443102                  </td> <td>0.263888</td> <td>0.0391941</td> <td>0.196257</td> <td>False                     </td> <td>False                       </td> <td>True                 </td> <td>False                </td> <td>10299   </td> <td>60014002001</td> <td>California</td> <td>CA       </td> <td>9     </td> <td>1102     </td> <td>-1552.41</td> <td>-5327.32 </td> <td>-146.502 </td> <td>-5283.87 </td> <td>-89.2403</td> <td>-1.02616e+06</td> <td>-178.797 </td> <td>-28.4   </td> <td>-44.1561</td> <td>-1013.78 </td> <td>0        </td> <td>8.3093 </td> <td>28.5145</td> <td>0.784154</td> <td>28.282 </td> <td>0.47766 </td> <td>5492.56</td> <td>0.957014  </td> <td>0.152012</td> <td>0.236346</td> <td>5.42626</td> <td>0    </td> <td>0.186933</td> <td>0.113596  </td> <td>0.294918</td> <td>0.0789474</td> <td>0         </td> <td>0.0309406 </td> <td>0.0816697 </td> <td>0.1951   </td> <td>3775.32     </td> <td>464222     </td> <td>6001     </td> <td>CA        </td> <td>Alameda County</td> <td>San Francisco-Oakland-Hayward, CA</td> <td>4455560      </td> <td>1554720        </td> <td>1        </td> <td>1        </td> <td>1              </td>\n",
       "        </tr>\n",
       "        <tr>\n",
       "            <td>10299     </td> <td>60014002002</td> <td>0.06875                 </td> <td>895             </td> <td>2.161                                                       </td> <td>8                                          </td> <td>4                                                  </td> <td>6.9                                                        </td> <td>4.8                                                           </td> <td>6.1                                            </td> <td>7.6                                                                </td> <td>28.282                </td> <td>0.47766                 </td> <td>0.784154                 </td> <td>8.3093                    </td> <td>28.5145</td> <td>10897.3                     </td> <td>0.239507              </td> <td>5.93015                </td> <td>0.161547              </td> <td>0                   </td> <td>0.871921                                        </td> <td>0.00446927                   </td> <td>0.194413                     </td> <td>0                             </td> <td>0                                            </td> <td>0.163861                                        </td> <td>0.00921053                                                          </td> <td>0.0248447                     </td> <td>54                                                                        </td> <td>0.155107</td> <td>0.0173134</td> <td>0.288754             </td> <td>0.349317             </td> <td>0.655383             </td> <td>0.567425 </td> <td>0.596744        </td> <td>0.319035                  </td> <td>0.190383</td> <td>0.0495832</td> <td>0.181428</td> <td>False                     </td> <td>False                       </td> <td>True                 </td> <td>False                </td> <td>10300   </td> <td>60014002002</td> <td>California</td> <td>CA       </td> <td>9     </td> <td>895      </td> <td>-1011.34</td> <td>-3470.55 </td> <td>-95.4405 </td> <td>-3442.24 </td> <td>-58.1367</td> <td>-1.32632e+06</td> <td>-106.123 </td> <td>-19.6621</td> <td>-29.1507</td> <td>-721.767 </td> <td>0        </td> <td>8.3093 </td> <td>28.5145</td> <td>0.784154</td> <td>28.282 </td> <td>0.47766 </td> <td>10897.3</td> <td>0.871921  </td> <td>0.161547</td> <td>0.239507</td> <td>5.93015</td> <td>0    </td> <td>0.220478</td> <td>0.108175  </td> <td>0.277095</td> <td>0.163861 </td> <td>0         </td> <td>0.00921053</td> <td>0.00446927</td> <td>0.194413 </td> <td>4019.01     </td> <td>479487     </td> <td>6001     </td> <td>CA        </td> <td>Alameda County</td> <td>San Francisco-Oakland-Hayward, CA</td> <td>4455560      </td> <td>1554720        </td> <td>1        </td> <td>1        </td> <td>1              </td>\n",
       "        </tr>\n",
       "    </tbody>\n",
       "</table>\n",
       "<p>... (23209 rows omitted)</p>"
      ],
      "text/plain": [
       "<IPython.core.display.HTML object>"
      ]
     },
     "metadata": {},
     "output_type": "display_data"
    }
   ],
   "source": [
    "#Just run this cell\n",
    "california = Table.read_table(\"California_WHEJ.csv\")\n",
    "california.show(3)"
   ]
  },
  {
   "cell_type": "markdown",
   "metadata": {
    "cell_id": "00006-01cbf030-69b7-4271-a2d7-fe9933874c83",
    "deepnote_cell_type": "markdown",
    "tags": []
   },
   "source": [
    "**Question 1.** Create an array called `labels` that contains all the column labels of `california` and a variable called `num_columns` that is an integer of the number of columns. The `.column_labels` and `.len()`method might come in handy!"
   ]
  },
  {
   "cell_type": "code",
   "execution_count": 9,
   "metadata": {
    "cell_id": "00003-88665d23-79bd-4a71-96fa-dce8aaf03c3c",
    "deepnote_cell_type": "code",
    "deepnote_to_be_reexecuted": false,
    "execution_millis": 18,
    "execution_start": 1636752036001,
    "source_hash": "88e87711",
    "tags": []
   },
   "outputs": [],
   "source": [
    "labels = ...\n",
    "num_columns = ...\n",
    "num_columns"
   ]
  },
  {
   "cell_type": "markdown",
   "metadata": {
    "cell_id": "00008-c56d7e46-46d5-4411-94f8-e9c45ad030fb",
    "deepnote_cell_type": "markdown",
    "tags": []
   },
   "source": [
    "**Question 2.** As we can see from the value of `num_columns`, there are a lot of columns in the table but we are only interested in a few of them. Create a new table `cali_environment` that contains only the columns with the labels given in `desired_columns`."
   ]
  },
  {
   "cell_type": "code",
   "execution_count": 24,
   "metadata": {
    "cell_id": "00004-d12a383f-b039-4d07-a830-264d8f68072a",
    "deepnote_cell_type": "code",
    "deepnote_to_be_reexecuted": false,
    "execution_millis": 5,
    "execution_start": 1636752036037,
    "source_hash": "2d7a1469",
    "tags": []
   },
   "outputs": [
    {
     "data": {
      "text/html": [
       "<table border=\"1\" class=\"dataframe\">\n",
       "    <thead>\n",
       "        <tr>\n",
       "            <th>County name</th> <th>County 2012 pop</th> <th>2013 code</th> <th>Median household income (% of state median household income)</th> <th>Poverty (Less than 200% of federal poverty line)</th> <th>Air toxics cancer risk</th> <th>Respiratory hazard index</th> <th>Diesel particulate matter</th> <th>Traffic proximity and volume</th>\n",
       "        </tr>\n",
       "    </thead>\n",
       "    <tbody>\n",
       "        <tr>\n",
       "            <td>Alameda County</td> <td>1554720        </td> <td>1        </td> <td>2.92232                                                     </td> <td>0.0959088                                       </td> <td>26.4966               </td> <td>0.437041                </td> <td>0.597205                 </td> <td>1128                        </td>\n",
       "        </tr>\n",
       "        <tr>\n",
       "            <td>Alameda County</td> <td>1554720        </td> <td>1        </td> <td>3.15678                                                     </td> <td>0.0789474                                       </td> <td>28.282                </td> <td>0.47766                 </td> <td>0.784154                 </td> <td>5492.56                     </td>\n",
       "        </tr>\n",
       "        <tr>\n",
       "            <td>Alameda County</td> <td>1554720        </td> <td>1        </td> <td>2.161                                                       </td> <td>0.163861                                        </td> <td>28.282                </td> <td>0.47766                 </td> <td>0.784154                 </td> <td>10897.3                     </td>\n",
       "        </tr>\n",
       "    </tbody>\n",
       "</table>\n",
       "<p>... (23209 rows omitted)</p>"
      ],
      "text/plain": [
       "<IPython.core.display.HTML object>"
      ]
     },
     "metadata": {},
     "output_type": "display_data"
    }
   ],
   "source": [
    "desired_columns = make_array(\"County name\", \"County 2012 pop\", \"2013 code\", \"Median household income (% of state median household income)\", \"Poverty (Less than 200% of federal poverty line)\", \"Air toxics cancer risk\", \"Respiratory hazard index\", \"Diesel particulate matter\", \"Traffic proximity and volume\")\n",
    "\n",
    "cali_environment = ...\n",
    "cali_environment.show(3)\n"
   ]
  },
  {
   "cell_type": "markdown",
   "metadata": {
    "cell_id": "00011-dfaad15b-be22-437b-a9b1-f9f3e1902cb9",
    "deepnote_cell_type": "markdown",
    "tags": []
   },
   "source": [
    "**Question 3.** Find the county with the highest 2012 population and assign the <u>string</u> to the variable `highest_pop`.\n",
    "\n",
    "*Hint: You may need to use the methods `.sort()` and `.item(0)`.*"
   ]
  },
  {
   "cell_type": "code",
   "execution_count": 10,
   "metadata": {
    "cell_id": "00010-0e20af84-329c-460d-8ef3-e31b5179915c",
    "deepnote_cell_type": "code",
    "deepnote_to_be_reexecuted": false,
    "execution_millis": 10,
    "execution_start": 1636752036047,
    "source_hash": "dc43cd29",
    "tags": []
   },
   "outputs": [],
   "source": [
    "sorted_population = ...\n",
    "highest_pop = ...\n",
    "highest_pop"
   ]
  },
  {
   "cell_type": "markdown",
   "metadata": {
    "cell_id": "00013-b52aee94-3aca-468b-95a7-c8f7c0e11ac4",
    "deepnote_cell_type": "markdown",
    "tags": []
   },
   "source": [
    "**Question 4.** Let's do the same thing to find the county with the lowest 2012 population. Store the name into the variable `lowest_pop`."
   ]
  },
  {
   "cell_type": "code",
   "execution_count": 11,
   "metadata": {
    "cell_id": "00012-096aa36b-d877-43cc-b603-648ef4fd2c67",
    "deepnote_cell_type": "code",
    "deepnote_to_be_reexecuted": false,
    "execution_millis": 14,
    "execution_start": 1636752036060,
    "source_hash": "680996f3",
    "tags": []
   },
   "outputs": [],
   "source": [
    "resorted_population = ...\n",
    "lowest_pop = ...\n",
    "lowest_pop"
   ]
  },
  {
   "cell_type": "markdown",
   "metadata": {
    "cell_id": "00015-61365aa6-75b2-43ff-9a47-0c7527a44fc3",
    "deepnote_cell_type": "markdown",
    "tags": []
   },
   "source": [
    "Now let's try to compare the environmental data between these two counties.\n",
    "\n",
    "**Question 5.** Create a new table called `two_counties` that contains two rows from `cali_environment` corresponding to the counties you found in Question 3 and 4."
   ]
  },
  {
   "cell_type": "code",
   "execution_count": 27,
   "metadata": {
    "cell_id": "00013-c48b7d39-ee77-4e3f-84eb-0df5238b9626",
    "deepnote_cell_type": "code",
    "deepnote_to_be_reexecuted": false,
    "execution_millis": 17,
    "execution_start": 1636752036087,
    "source_hash": "a83d8b4b",
    "tags": []
   },
   "outputs": [
    {
     "data": {
      "text/html": [
       "<table border=\"1\" class=\"dataframe\">\n",
       "    <thead>\n",
       "        <tr>\n",
       "            <th>County name</th> <th>County 2012 pop</th> <th>2013 code</th> <th>Median household income (% of state median household income)</th> <th>Poverty (Less than 200% of federal poverty line)</th> <th>Air toxics cancer risk</th> <th>Respiratory hazard index</th> <th>Diesel particulate matter</th> <th>Traffic proximity and volume</th>\n",
       "        </tr>\n",
       "    </thead>\n",
       "    <tbody>\n",
       "        <tr>\n",
       "            <td>Alpine County     </td> <td>1129           </td> <td>6        </td> <td>0.923772                                                    </td> <td>0.232092                                        </td> <td>16.4923               </td> <td>0.233401                </td> <td>0.0188699                </td> <td>4.66669                     </td>\n",
       "        </tr>\n",
       "        <tr>\n",
       "            <td>Los Angeles County</td> <td>9962789        </td> <td>1        </td> <td>-8861.12                                                    </td> <td>0                                               </td> <td>33.8991               </td> <td>0.48044                 </td> <td>0.243724                 </td> <td>366.728                     </td>\n",
       "        </tr>\n",
       "    </tbody>\n",
       "</table>"
      ],
      "text/plain": [
       "County name        | County 2012 pop | 2013 code | Median household income (% of state median household income) | Poverty (Less than 200% of federal poverty line) | Air toxics cancer risk | Respiratory hazard index | Diesel particulate matter | Traffic proximity and volume\n",
       "Alpine County      | 1129            | 6         | 0.923772                                                     | 0.232092                                         | 16.4923                | 0.233401                 | 0.0188699                 | 4.66669\n",
       "Los Angeles County | 9962789         | 1         | -8861.12                                                     | 0                                                | 33.8991                | 0.48044                  | 0.243724                  | 366.728"
      ]
     },
     "execution_count": 27,
     "metadata": {},
     "output_type": "execute_result"
    }
   ],
   "source": [
    "#Do not change the line below.\n",
    "#It returns 'True' if the input value is equal to the names of the counties from Q3 and 4.\n",
    "#You do not need to understand how this line works in this course, but should you be interested,\n",
    "# this is a lambda function!\n",
    "\n",
    "condition = lambda x: True if (x == highest_pop or x == lowest_pop) else False\n",
    "\n",
    "\n",
    "two_counties = cali_environment.where(..., condition)\n",
    "\n",
    "\n",
    "#Only need line below because repeated county names.\n",
    "two_counties = two_counties.sort('County 2012 pop').take(make_array(0, 6416))\n",
    "\n",
    "two_counties"
   ]
  },
  {
   "cell_type": "markdown",
   "metadata": {
    "cell_id": "00017-9b4d1c7f-9705-498d-b659-a2d29efb19d8",
    "deepnote_cell_type": "markdown",
    "tags": []
   },
   "source": [
    "**Question 6.** Using the `two_counties` table, create a bar chart that compares the respiratory hazard index between the two counties."
   ]
  },
  {
   "cell_type": "code",
   "execution_count": 28,
   "metadata": {
    "cell_id": "00017-8f64b148-a7ea-4645-b9cf-3c043a0a15d9",
    "deepnote_cell_type": "code",
    "deepnote_to_be_reexecuted": false,
    "execution_millis": 187,
    "execution_start": 1636752036178,
    "source_hash": "f9ebc650",
    "tags": []
   },
   "outputs": [
    {
     "data": {
      "image/png": "[encoded data removed]",
      "text/plain": [
       "<Figure size 432x288 with 1 Axes>"
      ]
     },
     "metadata": {},
     "output_type": "display_data"
    }
   ],
   "source": [
    "\n",
    "two_counties_respiratory = ...\n",
    "two_counties_respiratory.barh(..., ...)\n"
   ]
  },
  {
   "cell_type": "markdown",
   "metadata": {
    "cell_id": "00019-439e69b2-0e48-4a6f-852b-0a63230cf25a",
    "deepnote_cell_type": "markdown",
    "tags": []
   },
   "source": [
    "**Question 7.** What could be a possible explanation for this difference? (This is an open-ended question!)"
   ]
  },
  {
   "cell_type": "markdown",
   "metadata": {
    "cell_id": "00020-fb3ea538-d001-4787-b6cb-726952f894aa",
    "deepnote_cell_type": "markdown",
    "tags": []
   },
   "source": [
    "*Type your answer here.*"
   ]
  },
  {
   "cell_type": "markdown",
   "metadata": {
    "cell_id": "00021-dd198f38-ec30-4724-bcbf-89aecba7b162",
    "deepnote_cell_type": "text-cell-h2",
    "is_collapsed": false,
    "tags": []
   },
   "source": [
    "## Part 2: Urban and Rural Counties"
   ]
  },
  {
   "cell_type": "markdown",
   "metadata": {
    "cell_id": "00022-6fb27757-ba07-4466-974e-2ec191c82861",
    "deepnote_cell_type": "markdown",
    "tags": []
   },
   "source": [
    "Now that we have compared an environmental condition between two counties, let's try comparing an environmental condition between *urban* and *rural* counties."
   ]
  },
  {
   "cell_type": "markdown",
   "metadata": {
    "cell_id": "00023-5e8f6722-83ae-4cf0-939f-5d75954e3b56",
    "deepnote_cell_type": "markdown",
    "tags": []
   },
   "source": [
    "**Question 1.** Let's create a histogram that shows the distribution of `Diesel particulate matter` across counties in California."
   ]
  },
  {
   "cell_type": "code",
   "execution_count": 12,
   "metadata": {
    "cell_id": "00024-75db4e27-7fb2-423c-b15c-88c0c726ee7c",
    "deepnote_cell_type": "code",
    "deepnote_to_be_reexecuted": false,
    "execution_millis": 342,
    "execution_start": 1636752036372,
    "source_hash": "e471c9fd",
    "tags": []
   },
   "outputs": [],
   "source": [
    "\n",
    "diesel_histogram = ...\n",
    "diesel_histogram\n"
   ]
  },
  {
   "cell_type": "markdown",
   "metadata": {
    "cell_id": "00025-824a3240-b2dc-4f6f-a0af-f5a8bc0fbc30",
    "deepnote_cell_type": "markdown",
    "tags": []
   },
   "source": [
    "Next we need to classify counties as either urban or rural. The table below shows the corresponding classifications for each value in the column `2013 code` of `cali_environment`."
   ]
  },
  {
   "cell_type": "code",
   "execution_count": 30,
   "metadata": {
    "cell_id": "00026-4cec2ce9-32af-4b3c-8478-0ac5b0bacd92",
    "deepnote_cell_type": "code",
    "deepnote_to_be_reexecuted": false,
    "execution_millis": 20,
    "execution_start": 1636752036726,
    "source_hash": "f9202ce1",
    "tags": []
   },
   "outputs": [
    {
     "data": {
      "text/html": [
       "<table border=\"1\" class=\"dataframe\">\n",
       "    <thead>\n",
       "        <tr>\n",
       "            <th>2013 code</th> <th>Classification</th>\n",
       "        </tr>\n",
       "    </thead>\n",
       "    <tbody>\n",
       "        <tr>\n",
       "            <td>1        </td> <td>Urban         </td>\n",
       "        </tr>\n",
       "        <tr>\n",
       "            <td>2        </td> <td>Suburban      </td>\n",
       "        </tr>\n",
       "        <tr>\n",
       "            <td>3        </td> <td>Suburban      </td>\n",
       "        </tr>\n",
       "        <tr>\n",
       "            <td>4        </td> <td>Rural         </td>\n",
       "        </tr>\n",
       "        <tr>\n",
       "            <td>5        </td> <td>Rural         </td>\n",
       "        </tr>\n",
       "        <tr>\n",
       "            <td>6        </td> <td>Rural         </td>\n",
       "        </tr>\n",
       "    </tbody>\n",
       "</table>"
      ],
      "text/plain": [
       "2013 code | Classification\n",
       "1         | Urban\n",
       "2         | Suburban\n",
       "3         | Suburban\n",
       "4         | Rural\n",
       "5         | Rural\n",
       "6         | Rural"
      ]
     },
     "execution_count": 30,
     "metadata": {},
     "output_type": "execute_result"
    }
   ],
   "source": [
    "#Just run this cell.\n",
    "code_to_classification = Table().with_columns({'2013 code': [1,2,3,4,5,6], 'Classification': [\"Urban\", \"Suburban\", \"Suburban\", \"Rural\", \"Rural\", \"Rural\"]})\n",
    "code_to_classification"
   ]
  },
  {
   "cell_type": "markdown",
   "metadata": {
    "cell_id": "00021-3b27ffdf-1079-4f51-abb2-8cf07bbf13de",
    "deepnote_cell_type": "markdown",
    "tags": []
   },
   "source": [
    "**Question 2.** Create a new table called `classified` that contains a new column labelled `Classification` that contains corresponding urban/rural classification from the `2013 code` column. Make sure to remove the `2013 code` column from the new `classified` table.\n",
    "\n",
    "*Hint: You may want to use the `.join()` method.*"
   ]
  },
  {
   "cell_type": "code",
   "execution_count": 13,
   "metadata": {
    "cell_id": "00028-0cda45f3-8ad3-47cb-af18-101efc915ed4",
    "deepnote_cell_type": "code",
    "deepnote_to_be_reexecuted": false,
    "execution_millis": 3459,
    "execution_start": 1636752037637,
    "source_hash": "a57d84c4",
    "tags": []
   },
   "outputs": [],
   "source": [
    "classified = cali_environment...('2013 code', ...).drop('2013 code')\n",
    "classified.show(3)\n",
    "\n",
    "#Just run this cell.\n",
    "classified = classified.group('County name', lambda x: x.item(0))"
   ]
  },
  {
   "cell_type": "markdown",
   "metadata": {
    "cell_id": "00029-9b265a02-3ff3-4a9f-a523-d9d4d9794e03",
    "deepnote_cell_type": "markdown",
    "tags": []
   },
   "source": [
    "**Question 3.** Create a bar chart that compares the diesel particulate matter in urban/rural regions. `.group()` and `.barh`might be handy. "
   ]
  },
  {
   "cell_type": "code",
   "execution_count": 15,
   "metadata": {
    "cell_id": "00030-98a5b290-2437-43d7-8d9b-a87c6bf7fed4",
    "deepnote_cell_type": "code",
    "deepnote_to_be_reexecuted": false,
    "execution_millis": 406,
    "execution_start": 1636752041112,
    "source_hash": "673fe525",
    "tags": []
   },
   "outputs": [],
   "source": [
    "grouped_by_classification = classified...(\"Classification\", np.mean)\n",
    "diesel_bar = grouped_by_classification...(\"Classification\", \"Diesel particulate matter mean\")\n",
    "diesel_bar"
   ]
  },
  {
   "cell_type": "markdown",
   "metadata": {
    "cell_id": "00031-5084911c-e1ef-4a30-a5d8-6b65369a50d0",
    "deepnote_cell_type": "markdown",
    "tags": []
   },
   "source": [
    "The widget below generates a bar chart that compares different environmental factors in urban/rural regions."
   ]
  },
  {
   "cell_type": "code",
   "execution_count": 18,
   "metadata": {
    "cell_id": "00032-eb94fd06-5a35-4759-bb59-f18fc4862023",
    "deepnote_cell_type": "code",
    "deepnote_to_be_reexecuted": false,
    "execution_millis": 476,
    "execution_start": 1636752085253,
    "scrolled": true,
    "source_hash": "418c2f8e",
    "tags": []
   },
   "outputs": [],
   "source": [
    "#Just run this cell\n",
    "import ipywidgets as widgets\n",
    "from ipywidgets import interact, interactive, fixed, interact_manual\n",
    "\n",
    "def select_bar(feature):\n",
    "    return grouped_by_classification.barh(\"Classification\", feature)\n",
    "\n",
    "interact(select_bar, feature = [\"Air toxics cancer risk mean\", \"Respiratory hazard index mean\", \"Diesel particulate matter mean\", \"Traffic proximity and volume mean\"])"
   ]
  },
  {
   "cell_type": "markdown",
   "metadata": {
    "cell_id": "00034-be1726c1-70d8-422f-96c8-900e778882c9",
    "deepnote_cell_type": "markdown",
    "tags": []
   },
   "source": [
    "**Question 4.** Based on the results from the widget above, which factor changes the most between urban/rural areas? Assign your answer as a string to the variable `q4`."
   ]
  },
  {
   "cell_type": "code",
   "execution_count": 19,
   "metadata": {
    "cell_id": "00035-facb58b5-23be-437a-8e2c-ba24f68c7bbd",
    "deepnote_cell_type": "code",
    "deepnote_to_be_reexecuted": false,
    "execution_millis": 1721987,
    "execution_start": 1636752049884,
    "source_hash": "b55c0fc7",
    "tags": []
   },
   "outputs": [],
   "source": [
    "q4 = '...'"
   ]
  },
  {
   "cell_type": "markdown",
   "metadata": {
    "cell_id": "00036-176ca792-450f-4235-97f0-f02378a0ad97",
    "deepnote_cell_type": "text-cell-h2",
    "is_collapsed": false,
    "tags": []
   },
   "source": [
    "## Part 3: A Primer on Classifiers"
   ]
  },
  {
   "cell_type": "markdown",
   "metadata": {
    "cell_id": "00037-bfb82615-4994-48c2-8d83-8289fd5fe4cf",
    "deepnote_cell_type": "markdown",
    "tags": []
   },
   "source": [
    "In this next part, we are going to start thinking about how we could predict whether a region is considered urban or rural based on environmental features."
   ]
  },
  {
   "cell_type": "markdown",
   "metadata": {},
   "source": [
    "Building a classifier is a powerful tool you'll explore further in Data 8's later lectures."
   ]
  },
  {
   "cell_type": "markdown",
   "metadata": {
    "cell_id": "00038-51714031-7c42-4ede-8f16-67aaa3717c42",
    "deepnote_cell_type": "markdown",
    "tags": []
   },
   "source": [
    "We are going to simplify our classifications into just 'urban' and 'rural'."
   ]
  },
  {
   "cell_type": "code",
   "execution_count": 35,
   "metadata": {
    "cell_id": "00039-e4cb127e-36e9-49dd-aa6e-e742d16904b0",
    "deepnote_cell_type": "code",
    "deepnote_to_be_reexecuted": false,
    "execution_millis": 5536,
    "execution_start": 1636752049901,
    "source_hash": "229b7e39",
    "tags": []
   },
   "outputs": [
    {
     "data": {
      "text/html": [
       "<table border=\"1\" class=\"dataframe\">\n",
       "    <thead>\n",
       "        <tr>\n",
       "            <th>County name</th> <th>County 2012 pop</th> <th>Median household income (% of state median household income)</th> <th>Poverty (Less than 200% of federal poverty line)</th> <th>Air toxics cancer risk</th> <th>Respiratory hazard index</th> <th>Diesel particulate matter</th> <th>Traffic proximity and volume</th> <th>Classification</th>\n",
       "        </tr>\n",
       "    </thead>\n",
       "    <tbody>\n",
       "        <tr>\n",
       "            <td>Alameda County</td> <td>1554720        </td> <td>2.92232                                                     </td> <td>0.0959088                                       </td> <td>26.4966               </td> <td>0.437041                </td> <td>0.597205                 </td> <td>1128                        </td> <td>Urban         </td>\n",
       "        </tr>\n",
       "        <tr>\n",
       "            <td>Alameda County</td> <td>1554720        </td> <td>3.15678                                                     </td> <td>0.0789474                                       </td> <td>28.282                </td> <td>0.47766                 </td> <td>0.784154                 </td> <td>5492.56                     </td> <td>Urban         </td>\n",
       "        </tr>\n",
       "        <tr>\n",
       "            <td>Alameda County</td> <td>1554720        </td> <td>2.161                                                       </td> <td>0.163861                                        </td> <td>28.282                </td> <td>0.47766                 </td> <td>0.784154                 </td> <td>10897.3                     </td> <td>Urban         </td>\n",
       "        </tr>\n",
       "    </tbody>\n",
       "</table>\n",
       "<p>... (23209 rows omitted)</p>"
      ],
      "text/plain": [
       "<IPython.core.display.HTML object>"
      ]
     },
     "metadata": {},
     "output_type": "display_data"
    }
   ],
   "source": [
    "#Just run this cell.\n",
    "new_codes = Table().with_columns({'2013 code': [1,2,3,4,5,6], 'Classification': [\"Urban\", \"Urban\", \"Urban\", \"Rural\", \"Rural\", \"Rural\"]})\n",
    "new_classification = cali_environment.join('2013 code', code_to_classification).drop('2013 code')\n",
    "new_classification.show(3)\n",
    "\n",
    "#delete later\n",
    "new_classification = new_classification.group('County name', lambda x: x.item(0))"
   ]
  },
  {
   "cell_type": "markdown",
   "metadata": {
    "cell_id": "00038-99e54e22-64a4-4f7c-903b-416b5d1dfa3e",
    "deepnote_cell_type": "markdown",
    "tags": []
   },
   "source": [
    "**Question 1.** Build a scatter plot with `'Air toxics cancer risk'` on the x-axis and `'Respiratory hazard index'` on the y-axis."
   ]
  },
  {
   "cell_type": "code",
   "execution_count": 20,
   "metadata": {
    "cell_id": "00041-5f906677-83cf-42c2-928b-d41b35633cac",
    "deepnote_cell_type": "code",
    "deepnote_to_be_reexecuted": false,
    "execution_millis": 614,
    "execution_start": 1636752055445,
    "source_hash": "36a069ab",
    "tags": []
   },
   "outputs": [],
   "source": [
    "new_classification.scatter(x = ..., y = ..., group = 'Classification')"
   ]
  },
  {
   "cell_type": "markdown",
   "metadata": {
    "cell_id": "00042-f684b962-4b7f-484c-834b-79bbbb1b6e45",
    "deepnote_cell_type": "markdown",
    "tags": []
   },
   "source": [
    "Some dots correspond with urban areas, and the other dots correspond with rural areas. We can see that there are clear groupings of the different classifications."
   ]
  },
  {
   "cell_type": "markdown",
   "metadata": {
    "cell_id": "00043-3da8ca85-6386-4bb8-8223-346668e34df1",
    "deepnote_cell_type": "markdown",
    "tags": []
   },
   "source": [
    "**Question 2.** Based on the scatter plot in Question 1, which of the following coordinates would you expect to be classified as urban? \n",
    "\n",
    "1. (50,0.8)\n",
    "2. (40,0.6)\n",
    "3. (20,0.3)\n",
    "\n",
    "Store your answer as an array of integers corresponding to your selection."
   ]
  },
  {
   "cell_type": "code",
   "execution_count": 21,
   "metadata": {
    "cell_id": "00044-8d7392cf-59f8-40bf-9e43-e99b944076e6",
    "deepnote_cell_type": "code",
    "deepnote_to_be_reexecuted": false,
    "execution_millis": 1721013,
    "execution_start": 1636752056076,
    "source_hash": "c60608b8",
    "tags": []
   },
   "outputs": [],
   "source": [
    "q3_2 = make_array(...)"
   ]
  },
  {
   "cell_type": "markdown",
   "metadata": {
    "cell_id": "00045-dc801f9d-a82b-4dbd-9f1d-e43bb7504963",
    "deepnote_cell_type": "text-cell-p",
    "is_collapsed": false,
    "tags": []
   },
   "source": [
    "A k-nearest neighbor classifier predicts the classification of a point based on the classification it its nearest points, and these predictions can be tested for accuracy. Think of this as a topic further down the road! Feel free to read ahead [here](https://inferentialthinking.com/chapters/17/1/Nearest_Neighbors.html)."
   ]
  },
  {
   "cell_type": "markdown",
   "metadata": {},
   "source": [
    "Congratulations on finishing this long, but hopefully intelectually stimulating DATA88 lab! As always, download as `PDF via HTML` and upload it in the assignment folder on bCourses. "
   ]
  },
  {
   "cell_type": "markdown",
   "metadata": {
    "cell_id": "00048-89ad9ea7-59d5-4cd3-872a-cf991566e604",
    "deepnote_cell_type": "text-cell-p",
    "is_collapsed": false,
    "tags": []
   },
   "source": [
    "Please let us know of your thoughts on this notebook! [Fill out the following survey here](https://forms.gle/Hm2NFqCDi5Sxw7RT7)\n",
    "\n",
    "*Developed by Kinsey Long, Caitlin Yee, Aaron Moore, Peter F. Grinde-Hollevik and Hans Ocampo*"
   ]
  },
  {
   "cell_type": "code",
   "execution_count": null,
   "metadata": {},
   "outputs": [],
   "source": []
  }
 ],
 "metadata": {
  "deepnote": {
   "is_reactive": false
  },
  "deepnote_execution_queue": [],
  "deepnote_notebook_id": "c5db2714-f1b2-472c-a563-ed7b1b0bb6a3",
  "kernelspec": {
   "display_name": "Python 3",
   "language": "python",
   "name": "python3"
  },
  "language_info": {
   "codemirror_mode": {
    "name": "ipython",
    "version": 3
   },
   "file_extension": ".py",
   "mimetype": "text/x-python",
   "name": "python",
   "nbconvert_exporter": "python",
   "pygments_lexer": "ipython3",
   "version": "3.8.8"
  }
 },
 "nbformat": 4,
 "nbformat_minor": 2
}
